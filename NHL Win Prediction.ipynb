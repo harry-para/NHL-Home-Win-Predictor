{
 "metadata": {
  "language_info": {
   "codemirror_mode": {
    "name": "ipython",
    "version": 3
   },
   "file_extension": ".py",
   "mimetype": "text/x-python",
   "name": "python",
   "nbconvert_exporter": "python",
   "pygments_lexer": "ipython3",
   "version": "3.8.5-final"
  },
  "orig_nbformat": 2,
  "kernelspec": {
   "name": "python_defaultSpec_1600107472203",
   "display_name": "Python 3.8.5 32-bit"
  }
 },
 "nbformat": 4,
 "nbformat_minor": 2,
 "cells": [
  {
   "cell_type": "markdown",
   "metadata": {},
   "source": [
    "<h1> NHL Home Win Predictor <h1>"
   ]
  },
  {
   "cell_type": "markdown",
   "metadata": {},
   "source": [
    "<h2> Link to Google Sheets <h2>"
   ]
  },
  {
   "cell_type": "code",
   "execution_count": 1,
   "metadata": {},
   "outputs": [],
   "source": [
    "import gspread\n",
    "from oauth2client.service_account import ServiceAccountCredentials\n",
    "from pprint import pprint # for better looking format when data is printed\n",
    "\n",
    "from df2gspread import df2gspread as d2g # to export dataframes back to google sheets"
   ]
  },
  {
   "cell_type": "code",
   "execution_count": 2,
   "metadata": {},
   "outputs": [],
   "source": [
    "scope = ['https://spreadsheets.google.com/feeds','https://www.googleapis.com/auth/spreadsheets','https://www.googleapis.com/auth/drive.file','https://www.googleapis.com/auth/drive']"
   ]
  },
  {
   "cell_type": "code",
   "execution_count": 3,
   "metadata": {},
   "outputs": [],
   "source": [
    "creds = ServiceAccountCredentials.from_json_keyfile_name(\"NHL-viz-data-e6a8852157c7.json\", scope) # credentials\n",
    "client = gspread.authorize(creds)"
   ]
  },
  {
   "cell_type": "code",
   "execution_count": 4,
   "metadata": {},
   "outputs": [],
   "source": [
    "sheet = client.open(\"NHL_Data\").worksheet('2018-19') # Indicates the worksheet name to be opened"
   ]
  },
  {
   "cell_type": "code",
   "execution_count": 5,
   "metadata": {
    "tags": [
     "outputPrepend"
    ]
   },
   "outputs": [
    {
     "output_type": "stream",
     "name": "stdout",
     "text": "'2019-04-04',\n  'Game Finish': '',\n  'Home': 'Buffalo Sabres',\n  'Home Goals': 5,\n  'Visitor': 'Ottawa Senators',\n  'Visitor Goals': 2},\n {'Att.': '17,645',\n  'Date': '2019-04-04',\n  'Game Finish': '',\n  'Home': 'Carolina Hurricanes',\n  'Home Goals': 3,\n  'Visitor': 'New Jersey Devils',\n  'Visitor Goals': 1},\n {'Att.': '18,003',\n  'Date': '2019-04-04',\n  'Game Finish': 'OT',\n  'Home': 'Colorado Avalanche',\n  'Home Goals': 3,\n  'Visitor': 'Winnipeg Jets',\n  'Visitor Goals': 2},\n {'Att.': '18,347',\n  'Date': '2019-04-04',\n  'Game Finish': '',\n  'Home': 'Edmonton Oilers',\n  'Home Goals': 2,\n  'Visitor': 'San Jose Sharks',\n  'Visitor Goals': 3},\n {'Att.': '13,775',\n  'Date': '2019-04-04',\n  'Game Finish': 'SO',\n  'Home': 'Florida Panthers',\n  'Home Goals': 1,\n  'Visitor': 'New York Islanders',\n  'Visitor Goals': 2},\n {'Att.': '19,074',\n  'Date': '2019-04-04',\n  'Game Finish': '',\n  'Home': 'Minnesota Wild',\n  'Home Goals': 0,\n  'Visitor': 'Boston Bruins',\n  'Visitor Goals': 3},\n {'Att.': '17,669',\n  'Date': '2019-04-04',\n  'Game Finish': '',\n  'Home': 'Nashville Predators',\n  'Home Goals': 3,\n  'Visitor': 'Vancouver Canucks',\n  'Visitor Goals': 2},\n {'Att.': '18,574',\n  'Date': '2019-04-04',\n  'Game Finish': '',\n  'Home': 'Pittsburgh Penguins',\n  'Home Goals': 4,\n  'Visitor': 'Detroit Red Wings',\n  'Visitor Goals': 1},\n {'Att.': '18,203',\n  'Date': '2019-04-04',\n  'Game Finish': '',\n  'Home': 'St. Louis Blues',\n  'Home Goals': 7,\n  'Visitor': 'Philadelphia Flyers',\n  'Visitor Goals': 3},\n {'Att.': '19,400',\n  'Date': '2019-04-04',\n  'Game Finish': '',\n  'Home': 'Toronto Maple Leafs',\n  'Home Goals': 1,\n  'Visitor': 'Tampa Bay Lightning',\n  'Visitor Goals': 3},\n {'Att.': '18,485',\n  'Date': '2019-04-04',\n  'Game Finish': '',\n  'Home': 'Vegas Golden Knights',\n  'Home Goals': 1,\n  'Visitor': 'Arizona Coyotes',\n  'Visitor Goals': 4},\n {'Att.': '18,506',\n  'Date': '2019-04-04',\n  'Game Finish': '',\n  'Home': 'Washington Capitals',\n  'Home Goals': 2,\n  'Visitor': 'Montreal Canadiens',\n  'Visitor Goals': 1},\n {'Att.': '17,306',\n  'Date': '2019-04-05',\n  'Game Finish': '',\n  'Home': 'Anaheim Ducks',\n  'Home Goals': 5,\n  'Visitor': 'Los Angeles Kings',\n  'Visitor Goals': 2},\n {'Att.': '21,626',\n  'Date': '2019-04-05',\n  'Game Finish': '',\n  'Home': 'Chicago Blackhawks',\n  'Home Goals': 6,\n  'Visitor': 'Dallas Stars',\n  'Visitor Goals': 1},\n {'Att.': '17,341',\n  'Date': '2019-04-05',\n  'Game Finish': 'SO',\n  'Home': 'New York Rangers',\n  'Home Goals': 2,\n  'Visitor': 'Columbus Blue Jackets',\n  'Visitor Goals': 3},\n {'Att.': '17,125',\n  'Date': '2019-04-06',\n  'Game Finish': '',\n  'Home': 'Arizona Coyotes',\n  'Home Goals': 2,\n  'Visitor': 'Winnipeg Jets',\n  'Visitor Goals': 4},\n {'Att.': '17,565',\n  'Date': '2019-04-06',\n  'Game Finish': '',\n  'Home': 'Boston Bruins',\n  'Home Goals': 3,\n  'Visitor': 'Tampa Bay Lightning',\n  'Visitor Goals': 6},\n {'Att.': '19,289',\n  'Date': '2019-04-06',\n  'Game Finish': '',\n  'Home': 'Calgary Flames',\n  'Home Goals': 1,\n  'Visitor': 'Edmonton Oilers',\n  'Visitor Goals': 3},\n {'Att.': '18,532',\n  'Date': '2019-04-06',\n  'Game Finish': '',\n  'Home': 'Dallas Stars',\n  'Home Goals': 3,\n  'Visitor': 'Minnesota Wild',\n  'Visitor Goals': 0},\n {'Att.': '19,515',\n  'Date': '2019-04-06',\n  'Game Finish': '',\n  'Home': 'Detroit Red Wings',\n  'Home Goals': 1,\n  'Visitor': 'Buffalo Sabres',\n  'Visitor Goals': 7},\n {'Att.': '15,259',\n  'Date': '2019-04-06',\n  'Game Finish': 'OT',\n  'Home': 'Florida Panthers',\n  'Home Goals': 3,\n  'Visitor': 'New Jersey Devils',\n  'Visitor Goals': 4},\n {'Att.': '18,230',\n  'Date': '2019-04-06',\n  'Game Finish': '',\n  'Home': 'Los Angeles Kings',\n  'Home Goals': 5,\n  'Visitor': 'Vegas Golden Knights',\n  'Visitor Goals': 2},\n {'Att.': '21,302',\n  'Date': '2019-04-06',\n  'Game Finish': 'SO',\n  'Home': 'Montreal Canadiens',\n  'Home Goals': 6,\n  'Visitor': 'Toronto Maple Leafs',\n  'Visitor Goals': 5},\n {'Att.': '17,694',\n  'Date': '2019-04-06',\n  'Game Finish': '',\n  'Home': 'Nashville Predators',\n  'Home Goals': 5,\n  'Visitor': 'Chicago Blackhawks',\n  'Visitor Goals': 2},\n {'Att.': '18,425',\n  'Date': '2019-04-06',\n  'Game Finish': '',\n  'Home': 'Ottawa Senators',\n  'Home Goals': 2,\n  'Visitor': 'Columbus Blue Jackets',\n  'Visitor Goals': 6},\n {'Att.': '19,433',\n  'Date': '2019-04-06',\n  'Game Finish': '',\n  'Home': 'Philadelphia Flyers',\n  'Home Goals': 3,\n  'Visitor': 'Carolina Hurricanes',\n  'Visitor Goals': 4},\n {'Att.': '18,660',\n  'Date': '2019-04-06',\n  'Game Finish': 'OT',\n  'Home': 'Pittsburgh Penguins',\n  'Home Goals': 3,\n  'Visitor': 'New York Rangers',\n  'Visitor Goals': 4},\n {'Att.': '17,562',\n  'Date': '2019-04-06',\n  'Game Finish': '',\n  'Home': 'San Jose Sharks',\n  'Home Goals': 5,\n  'Visitor': 'Colorado Avalanche',\n  'Visitor Goals': 2},\n {'Att.': '17,970',\n  'Date': '2019-04-06',\n  'Game Finish': 'SO',\n  'Home': 'St. Louis Blues',\n  'Home Goals': 3,\n  'Visitor': 'Vancouver Canucks',\n  'Visitor Goals': 2},\n {'Att.': '18,506',\n  'Date': '2019-04-06',\n  'Game Finish': '',\n  'Home': 'Washington Capitals',\n  'Home Goals': 0,\n  'Visitor': 'New York Islanders',\n  'Visitor Goals': 3},\n {'Att.': '13,917',\n  'Date': '2019-04-10',\n  'Game Finish': 'OT',\n  'Home': 'New York Islanders',\n  'Home Goals': 4,\n  'Visitor': 'Pittsburgh Penguins',\n  'Visitor Goals': 3},\n {'Att.': '17,458',\n  'Date': '2019-04-10',\n  'Game Finish': '',\n  'Home': 'Nashville Predators',\n  'Home Goals': 2,\n  'Visitor': 'Dallas Stars',\n  'Visitor Goals': 3},\n {'Att.': '15,321',\n  'Date': '2019-04-10',\n  'Game Finish': '',\n  'Home': 'Winnipeg Jets',\n  'Home Goals': 1,\n  'Visitor': 'St. Louis Blues',\n  'Visitor Goals': 2},\n {'Att.': '17,562',\n  'Date': '2019-04-10',\n  'Game Finish': '',\n  'Home': 'San Jose Sharks',\n  'Home Goals': 5,\n  'Visitor': 'Vegas Golden Knights',\n  'Visitor Goals': 2},\n {'Att.': '19,092',\n  'Date': '2019-04-10',\n  'Game Finish': '',\n  'Home': 'Tampa Bay Lightning',\n  'Home Goals': 3,\n  'Visitor': 'Columbus Blue Jackets',\n  'Visitor Goals': 4},\n {'Att.': '17,565',\n  'Date': '2019-04-11',\n  'Game Finish': '',\n  'Home': 'Boston Bruins',\n  'Home Goals': 1,\n  'Visitor': 'Toronto Maple Leafs',\n  'Visitor Goals': 4},\n {'Att.': '19,289',\n  'Date': '2019-04-11',\n  'Game Finish': '',\n  'Home': 'Calgary Flames',\n  'Home Goals': 4,\n  'Visitor': 'Colorado Avalanche',\n  'Visitor Goals': 0},\n {'Att.': '18,506',\n  'Date': '2019-04-11',\n  'Game Finish': '',\n  'Home': 'Washington Capitals',\n  'Home Goals': 4,\n  'Visitor': 'Carolina Hurricanes',\n  'Visitor Goals': 2},\n {'Att.': '13,917',\n  'Date': '2019-04-12',\n  'Game Finish': '',\n  'Home': 'New York Islanders',\n  'Home Goals': 3,\n  'Visitor': 'Pittsburgh Penguins',\n  'Visitor Goals': 1},\n {'Att.': '17,562',\n  'Date': '2019-04-12',\n  'Game Finish': '',\n  'Home': 'San Jose Sharks',\n  'Home Goals': 3,\n  'Visitor': 'Vegas Golden Knights',\n  'Visitor Goals': 5},\n {'Att.': '19,092',\n  'Date': '2019-04-12',\n  'Game Finish': '',\n  'Home': 'Tampa Bay Lightning',\n  'Home Goals': 1,\n  'Visitor': 'Columbus Blue Jackets',\n  'Visitor Goals': 5},\n {'Att.': '15,321',\n  'Date': '2019-04-12',\n  'Game Finish': '',\n  'Home': 'Winnipeg Jets',\n  'Home Goals': 3,\n  'Visitor': 'St. Louis Blues',\n  'Visitor Goals': 4},\n {'Att.': '17,565',\n  'Date': '2019-04-13',\n  'Game Finish': '',\n  'Home': 'Boston Bruins',\n  'Home Goals': 4,\n  'Visitor': 'Toronto Maple Leafs',\n  'Visitor Goals': 1},\n {'Att.': '18,506',\n  'Date': '2019-04-13',\n  'Game Finish': 'OT',\n  'Home': 'Washington Capitals',\n  'Home Goals': 4,\n  'Visitor': 'Carolina Hurricanes',\n  'Visitor Goals': 3},\n {'Att.': '17,611',\n  'Date': '2019-04-13',\n  'Game Finish': 'OT',\n  'Home': 'Nashville Predators',\n  'Home Goals': 2,\n  'Visitor': 'Dallas Stars',\n  'Visitor Goals': 1},\n {'Att.': '19,289',\n  'Date': '2019-04-13',\n  'Game Finish': 'OT',\n  'Home': 'Calgary Flames',\n  'Home Goals': 2,\n  'Visitor': 'Colorado Avalanche',\n  'Visitor Goals': 3},\n {'Att.': '19,224',\n  'Date': '2019-04-14',\n  'Game Finish': '',\n  'Home': 'Columbus Blue Jackets',\n  'Home Goals': 3,\n  'Visitor': 'Tampa Bay Lightning',\n  'Visitor Goals': 1},\n {'Att.': '18,610',\n  'Date': '2019-04-14',\n  'Game Finish': '',\n  'Home': 'Pittsburgh Penguins',\n  'Home Goals': 1,\n  'Visitor': 'New York Islanders',\n  'Visitor Goals': 4},\n {'Att.': '18,486',\n  'Date': '2019-04-14',\n  'Game Finish': '',\n  'Home': 'St. Louis Blues',\n  'Home Goals': 3,\n  'Visitor': 'Winnipeg Jets',\n  'Visitor Goals': 6},\n {'Att.': '18,461',\n  'Date': '2019-04-14',\n  'Game Finish': '',\n  'Home': 'Vegas Golden Knights',\n  'Home Goals': 6,\n  'Visitor': 'San Jose Sharks',\n  'Visitor Goals': 3},\n {'Att.': '19,611',\n  'Date': '2019-04-15',\n  'Game Finish': '',\n  'Home': 'Toronto Maple Leafs',\n  'Home Goals': 3,\n  'Visitor': 'Boston Bruins',\n  'Visitor Goals': 2},\n {'Att.': '18,532',\n  'Date': '2019-04-15',\n  'Game Finish': '',\n  'Home': 'Dallas Stars',\n  'Home Goals': 2,\n  'Visitor': 'Nashville Predators',\n  'Visitor Goals': 3},\n {'Att.': '18,783',\n  'Date': '2019-04-15',\n  'Game Finish': '',\n  'Home': 'Carolina Hurricanes',\n  'Home Goals': 5,\n  'Visitor': 'Washington Capitals',\n  'Visitor Goals': 0},\n {'Att.': '18,098',\n  'Date': '2019-04-15',\n  'Game Finish': '',\n  'Home': 'Colorado Avalanche',\n  'Home Goals': 6,\n  'Visitor': 'Calgary Flames',\n  'Visitor Goals': 2},\n {'Att.': '19,328',\n  'Date': '2019-04-16',\n  'Game Finish': '',\n  'Home': 'Columbus Blue Jackets',\n  'Home Goals': 7,\n  'Visitor': 'Tampa Bay Lightning',\n  'Visitor Goals': 3},\n {'Att.': '18,609',\n  'Date': '2019-04-16',\n  'Game Finish': '',\n  'Home': 'Pittsburgh Penguins',\n  'Home Goals': 1,\n  'Visitor': 'New York Islanders',\n  'Visitor Goals': 3},\n {'Att.': '18,346',\n  'Date': '2019-04-16',\n  'Game Finish': 'OT',\n  'Home': 'St. Louis Blues',\n  'Home Goals': 1,\n  'Visitor': 'Winnipeg Jets',\n  'Visitor Goals': 2},\n {'Att.': '18,567',\n  'Date': '2019-04-16',\n  'Game Finish': '',\n  'Home': 'Vegas Golden Knights',\n  'Home Goals': 5,\n  'Visitor': 'San Jose Sharks',\n  'Visitor Goals': 0},\n {'Att.': '18,102',\n  'Date': '2019-04-17',\n  'Game Finish': 'OT',\n  'Home': 'Colorado Avalanche',\n  'Home Goals': 3,\n  'Visitor': 'Calgary Flames',\n  'Visitor Goals': 2},\n {'Att.': '18,532',\n  'Date': '2019-04-17',\n  'Game Finish': '',\n  'Home': 'Dallas Stars',\n  'Home Goals': 5,\n  'Visitor': 'Nashville Predators',\n  'Visitor Goals': 1},\n {'Att.': '19,638',\n  'Date': '2019-04-17',\n  'Game Finish': '',\n  'Home': 'Toronto Maple Leafs',\n  'Home Goals': 4,\n  'Visitor': 'Boston Bruins',\n  'Visitor Goals': 6},\n {'Att.': '15,321',\n  'Date': '2019-04-18',\n  'Game Finish': '',\n  'Home': 'Winnipeg Jets',\n  'Home Goals': 2,\n  'Visitor': 'St. Louis Blues',\n  'Visitor Goals': 3},\n {'Att.': '17,562',\n  'Date': '2019-04-18',\n  'Game Finish': '',\n  'Home': 'San Jose Sharks',\n  'Home Goals': 5,\n  'Visitor': 'Vegas Golden Knights',\n  'Visitor Goals': 2},\n {'Att.': '19,202',\n  'Date': '2019-04-18',\n  'Game Finish': '',\n  'Home': 'Carolina Hurricanes',\n  'Home Goals': 2,\n  'Visitor': 'Washington Capitals',\n  'Visitor Goals': 1},\n {'Att.': '17,565',\n  'Date': '2019-04-19',\n  'Game Finish': '',\n  'Home': 'Boston Bruins',\n  'Home Goals': 1,\n  'Visitor': 'Toronto Maple Leafs',\n  'Visitor Goals': 2},\n {'Att.': '19,289',\n  'Date': '2019-04-19',\n  'Game Finish': '',\n  'Home': 'Calgary Flames',\n  'Home Goals': 1,\n  'Visitor': 'Colorado Avalanche',\n  'Visitor Goals': 5},\n {'Att.': '17,633',\n  'Date': '2019-04-20',\n  'Game Finish': '',\n  'Home': 'Nashville Predators',\n  'Home Goals': 3,\n  'Visitor': 'Dallas Stars',\n  'Visitor Goals': 5},\n {'Att.': '18,524',\n  'Date': '2019-04-20',\n  'Game Finish': '',\n  'Home': 'St. Louis Blues',\n  'Home Goals': 3,\n  'Visitor': 'Winnipeg Jets',\n  'Visitor Goals': 2},\n {'Att.': '18,506',\n  'Date': '2019-04-20',\n  'Game Finish': '',\n  'Home': 'Washington Capitals',\n  'Home Goals': 6,\n  'Visitor': 'Carolina Hurricanes',\n  'Visitor Goals': 0},\n {'Att.': '19,683',\n  'Date': '2019-04-21',\n  'Game Finish': '',\n  'Home': 'Toronto Maple Leafs',\n  'Home Goals': 2,\n  'Visitor': 'Boston Bruins',\n  'Visitor Goals': 4},\n {'Att.': '18,458',\n  'Date': '2019-04-21',\n  'Game Finish': '2OT',\n  'Home': 'Vegas Golden Knights',\n  'Home Goals': 1,\n  'Visitor': 'San Jose Sharks',\n  'Visitor Goals': 2},\n {'Att.': '18,913',\n  'Date': '2019-04-22',\n  'Game Finish': '',\n  'Home': 'Carolina Hurricanes',\n  'Home Goals': 5,\n  'Visitor': 'Washington Capitals',\n  'Visitor Goals': 2},\n {'Att.': '19,025',\n  'Date': '2019-04-22',\n  'Game Finish': 'OT',\n  'Home': 'Dallas Stars',\n  'Home Goals': 2,\n  'Visitor': 'Nashville Predators',\n  'Visitor Goals': 1},\n {'Att.': '17,565',\n  'Date': '2019-04-23',\n  'Game Finish': '',\n  'Home': 'Boston Bruins',\n  'Home Goals': 5,\n  'Visitor': 'Toronto Maple Leafs',\n  'Visitor Goals': 1},\n {'Att.': '17,562',\n  'Date': '2019-04-23',\n  'Game Finish': 'OT',\n  'Home': 'San Jose Sharks',\n  'Home Goals': 5,\n  'Visitor': 'Vegas Golden Knights',\n  'Visitor Goals': 4},\n {'Att.': '18,506',\n  'Date': '2019-04-24',\n  'Game Finish': '2OT',\n  'Home': 'Washington Capitals',\n  'Home Goals': 3,\n  'Visitor': 'Carolina Hurricanes',\n  'Visitor Goals': 4},\n {'Att.': '18,014',\n  'Date': '2019-04-25',\n  'Game Finish': '',\n  'Home': 'St. Louis Blues',\n  'Home Goals': 3,\n  'Visitor': 'Dallas Stars',\n  'Visitor Goals': 2},\n {'Att.': '17,565',\n  'Date': '2019-04-25',\n  'Game Finish': 'OT',\n  'Home': 'Boston Bruins',\n  'Home Goals': 3,\n  'Visitor': 'Columbus Blue Jackets',\n  'Visitor Goals': 2},\n {'Att.': '15,795',\n  'Date': '2019-04-26',\n  'Game Finish': 'OT',\n  'Home': 'New York Islanders',\n  'Home Goals': 0,\n  'Visitor': 'Carolina Hurricanes',\n  'Visitor Goals': 1},\n {'Att.': '17,562',\n  'Date': '2019-04-26',\n  'Game Finish': '',\n  'Home': 'San Jose Sharks',\n  'Home Goals': 5,\n  'Visitor': 'Colorado Avalanche',\n  'Visitor Goals': 2},\n {'Att.': '17,565',\n  'Date': '2019-04-27',\n  'Game Finish': '2OT',\n  'Home': 'Boston Bruins',\n  'Home Goals': 2,\n  'Visitor': 'Columbus Blue Jackets',\n  'Visitor Goals': 3},\n {'Att.': '18,285',\n  'Date': '2019-04-27',\n  'Game Finish': '',\n  'Home': 'St. Louis Blues',\n  'Home Goals': 2,\n  'Visitor': 'Dallas Stars',\n  'Visitor Goals': 4},\n {'Att.': '15,795',\n  'Date': '2019-04-28',\n  'Game Finish': '',\n  'Home': 'New York Islanders',\n  'Home Goals': 1,\n  'Visitor': 'Carolina Hurricanes',\n  'Visitor Goals': 2},\n {'Att.': '17,562',\n  'Date': '2019-04-28',\n  'Game Finish': '',\n  'Home': 'San Jose Sharks',\n  'Home Goals': 3,\n  'Visitor': 'Colorado Avalanche',\n  'Visitor Goals': 4},\n {'Att.': '18,532',\n  'Date': '2019-04-29',\n  'Game Finish': '',\n  'Home': 'Dallas Stars',\n  'Home Goals': 3,\n  'Visitor': 'St. Louis Blues',\n  'Visitor Goals': 4},\n {'Att.': '18,106',\n  'Date': '2019-04-30',\n  'Game Finish': '',\n  'Home': 'Colorado Avalanche',\n  'Home Goals': 2,\n  'Visitor': 'San Jose Sharks',\n  'Visitor Goals': 4},\n {'Att.': '19,337',\n  'Date': '2019-04-30',\n  'Game Finish': '',\n  'Home': 'Columbus Blue Jackets',\n  'Home Goals': 2,\n  'Visitor': 'Boston Bruins',\n  'Visitor Goals': 1},\n {'Att.': '19,066',\n  'Date': '2019-05-01',\n  'Game Finish': '',\n  'Home': 'Carolina Hurricanes',\n  'Home Goals': 5,\n  'Visitor': 'New York Islanders',\n'Visitor Goals': 2},\n {'Att.': '18,790',\n  'Date': '2019-05-01',\n  'Game Finish': '',\n  'Home': 'Dallas Stars',\n  'Home Goals': 4,\n  'Visitor': 'St. Louis Blues',\n  'Visitor Goals': 2},\n {'Att.': '19,431',\n  'Date': '2019-05-02',\n  'Game Finish': '',\n  'Home': 'Columbus Blue Jackets',\n  'Home Goals': 1,\n  'Visitor': 'Boston Bruins',\n  'Visitor Goals': 4},\n {'Att.': '18,110',\n  'Date': '2019-05-02',\n  'Game Finish': '',\n  'Home': 'Colorado Avalanche',\n  'Home Goals': 3,\n  'Visitor': 'San Jose Sharks',\n  'Visitor Goals': 0},\n {'Att.': '19,495',\n  'Date': '2019-05-03',\n  'Game Finish': '',\n  'Home': 'Carolina Hurricanes',\n  'Home Goals': 5,\n  'Visitor': 'New York Islanders',\n  'Visitor Goals': 2},\n {'Att.': '18,542',\n  'Date': '2019-05-03',\n  'Game Finish': '',\n  'Home': 'St. Louis Blues',\n  'Home Goals': 1,\n  'Visitor': 'Dallas Stars',\n  'Visitor Goals': 2},\n {'Att.': '17,565',\n  'Date': '2019-05-04',\n  'Game Finish': '',\n  'Home': 'Boston Bruins',\n  'Home Goals': 4,\n  'Visitor': 'Columbus Blue Jackets',\n  'Visitor Goals': 3},\n {'Att.': '17,562',\n  'Date': '2019-05-04',\n  'Game Finish': '',\n  'Home': 'San Jose Sharks',\n  'Home Goals': 2,\n  'Visitor': 'Colorado Avalanche',\n  'Visitor Goals': 1},\n {'Att.': '18,876',\n  'Date': '2019-05-05',\n  'Game Finish': '',\n  'Home': 'Dallas Stars',\n  'Home Goals': 1,\n  'Visitor': 'St. Louis Blues',\n  'Visitor Goals': 4},\n {'Att.': '18,098',\n  'Date': '2019-05-06',\n  'Game Finish': 'OT',\n  'Home': 'Colorado Avalanche',\n  'Home Goals': 4,\n  'Visitor': 'San Jose Sharks',\n  'Visitor Goals': 3},\n {'Att.': '19,219',\n  'Date': '2019-05-06',\n  'Game Finish': '',\n  'Home': 'Columbus Blue Jackets',\n  'Home Goals': 0,\n  'Visitor': 'Boston Bruins',\n  'Visitor Goals': 3},\n {'Att.': '18,531',\n  'Date': '2019-05-07',\n  'Game Finish': '2OT',\n  'Home': 'St. Louis Blues',\n  'Home Goals': 2,\n  'Visitor': 'Dallas Stars',\n  'Visitor Goals': 1},\n {'Att.': '17,562',\n  'Date': '2019-05-08',\n  'Game Finish': '',\n  'Home': 'San Jose Sharks',\n  'Home Goals': 3,\n  'Visitor': 'Colorado Avalanche',\n  'Visitor Goals': 2},\n {'Att.': '17,565',\n  'Date': '2019-05-09',\n  'Game Finish': '',\n  'Home': 'Boston Bruins',\n  'Home Goals': 5,\n  'Visitor': 'Carolina Hurricanes',\n  'Visitor Goals': 2},\n {'Att.': '17,562',\n  'Date': '2019-05-11',\n  'Game Finish': '',\n  'Home': 'San Jose Sharks',\n  'Home Goals': 6,\n  'Visitor': 'St. Louis Blues',\n  'Visitor Goals': 3},\n {'Att.': '17,565',\n  'Date': '2019-05-12',\n  'Game Finish': '',\n  'Home': 'Boston Bruins',\n  'Home Goals': 6,\n  'Visitor': 'Carolina Hurricanes',\n  'Visitor Goals': 2},\n {'Att.': '17,562',\n  'Date': '2019-05-13',\n  'Game Finish': '',\n  'Home': 'San Jose Sharks',\n  'Home Goals': 2,\n  'Visitor': 'St. Louis Blues',\n  'Visitor Goals': 4},\n {'Att.': '18,768',\n  'Date': '2019-05-14',\n  'Game Finish': '',\n  'Home': 'Carolina Hurricanes',\n  'Home Goals': 1,\n  'Visitor': 'Boston Bruins',\n  'Visitor Goals': 2},\n {'Att.': '18,360',\n  'Date': '2019-05-15',\n  'Game Finish': 'OT',\n  'Home': 'St. Louis Blues',\n  'Home Goals': 4,\n  'Visitor': 'San Jose Sharks',\n  'Visitor Goals': 5},\n {'Att.': '19,041',\n  'Date': '2019-05-16',\n  'Game Finish': '',\n  'Home': 'Carolina Hurricanes',\n  'Home Goals': 0,\n  'Visitor': 'Boston Bruins',\n  'Visitor Goals': 4},\n {'Att.': '18,496',\n  'Date': '2019-05-17',\n  'Game Finish': '',\n  'Home': 'St. Louis Blues',\n  'Home Goals': 2,\n  'Visitor': 'San Jose Sharks',\n  'Visitor Goals': 1},\n {'Att.': '17,562',\n  'Date': '2019-05-19',\n  'Game Finish': '',\n  'Home': 'San Jose Sharks',\n  'Home Goals': 0,\n  'Visitor': 'St. Louis Blues',\n  'Visitor Goals': 5},\n {'Att.': '18,684',\n  'Date': '2019-05-21',\n  'Game Finish': '',\n  'Home': 'St. Louis Blues',\n  'Home Goals': 5,\n  'Visitor': 'San Jose Sharks',\n  'Visitor Goals': 1},\n {'Att.': '17,565',\n  'Date': '2019-05-27',\n  'Game Finish': '',\n  'Home': 'Boston Bruins',\n  'Home Goals': 4,\n  'Visitor': 'St. Louis Blues',\n  'Visitor Goals': 2},\n {'Att.': '17,565',\n  'Date': '2019-05-29',\n  'Game Finish': 'OT',\n  'Home': 'Boston Bruins',\n  'Home Goals': 2,\n  'Visitor': 'St. Louis Blues',\n  'Visitor Goals': 3},\n {'Att.': '18,789',\n  'Date': '2019-06-01',\n  'Game Finish': '',\n  'Home': 'St. Louis Blues',\n  'Home Goals': 2,\n  'Visitor': 'Boston Bruins',\n  'Visitor Goals': 7},\n {'Att.': '18,805',\n  'Date': '2019-06-03',\n  'Game Finish': '',\n  'Home': 'St. Louis Blues',\n  'Home Goals': 4,\n  'Visitor': 'Boston Bruins',\n  'Visitor Goals': 2},\n {'Att.': '17,565',\n  'Date': '2019-06-06',\n  'Game Finish': '',\n  'Home': 'Boston Bruins',\n  'Home Goals': 1,\n  'Visitor': 'St. Louis Blues',\n  'Visitor Goals': 2},\n {'Att.': '18,890',\n  'Date': '2019-06-09',\n  'Game Finish': '',\n  'Home': 'St. Louis Blues',\n  'Home Goals': 1,\n  'Visitor': 'Boston Bruins',\n  'Visitor Goals': 5},\n {'Att.': '17,565',\n  'Date': '2019-06-12',\n  'Game Finish': '',\n  'Home': 'Boston Bruins',\n  'Home Goals': 1,\n  'Visitor': 'St. Louis Blues',\n  'Visitor Goals': 4}]\n"
    }
   ],
   "source": [
    "results = sheet.get_all_records()\n",
    "\n",
    "# for better looking format when data is printed\n",
    "pprint(results)"
   ]
  },
  {
   "cell_type": "code",
   "execution_count": 6,
   "metadata": {
    "tags": []
   },
   "outputs": [],
   "source": [
    "# Required Python libraries\n",
    "import os\n",
    "import numpy as np\n",
    "import pandas as pd\n",
    "\n",
    "from sklearn.model_selection import train_test_split\n",
    "\n",
    "import matplotlib.pyplot as plt\n",
    "import seaborn as sns\n",
    "sns.set()"
   ]
  },
  {
   "cell_type": "markdown",
   "metadata": {},
   "source": [
    "<h2> Importing the Dataset <h2>"
   ]
  },
  {
   "cell_type": "code",
   "execution_count": 7,
   "metadata": {},
   "outputs": [
    {
     "output_type": "execute_result",
     "data": {
      "text/plain": "            Date             Visitor  Visitor Goals                 Home  \\\n0     2018-10-03       Anaheim Ducks              5      San Jose Sharks   \n1     2018-10-03  Montreal Canadiens              2  Toronto Maple Leafs   \n2     2018-10-03      Calgary Flames              2    Vancouver Canucks   \n3     2018-10-03       Boston Bruins              0  Washington Capitals   \n4     2018-10-04       Boston Bruins              4       Buffalo Sabres   \n...          ...                 ...            ...                  ...   \n1353  2019-06-01       Boston Bruins              7      St. Louis Blues   \n1354  2019-06-03       Boston Bruins              2      St. Louis Blues   \n1355  2019-06-06     St. Louis Blues              2        Boston Bruins   \n1356  2019-06-09       Boston Bruins              5      St. Louis Blues   \n1357  2019-06-12     St. Louis Blues              4        Boston Bruins   \n\n      Home Goals Game Finish    Att.  \n0              2              17,562  \n1              3          OT  19,589  \n2              5              18,870  \n3              7              18,506  \n4              0              19,070  \n...          ...         ...     ...  \n1353           2              18,789  \n1354           4              18,805  \n1355           1              17,565  \n1356           1              18,890  \n1357           1              17,565  \n\n[1358 rows x 7 columns]",
      "text/html": "<div>\n<style scoped>\n    .dataframe tbody tr th:only-of-type {\n        vertical-align: middle;\n    }\n\n    .dataframe tbody tr th {\n        vertical-align: top;\n    }\n\n    .dataframe thead th {\n        text-align: right;\n    }\n</style>\n<table border=\"1\" class=\"dataframe\">\n  <thead>\n    <tr style=\"text-align: right;\">\n      <th></th>\n      <th>Date</th>\n      <th>Visitor</th>\n      <th>Visitor Goals</th>\n      <th>Home</th>\n      <th>Home Goals</th>\n      <th>Game Finish</th>\n      <th>Att.</th>\n    </tr>\n  </thead>\n  <tbody>\n    <tr>\n      <th>0</th>\n      <td>2018-10-03</td>\n      <td>Anaheim Ducks</td>\n      <td>5</td>\n      <td>San Jose Sharks</td>\n      <td>2</td>\n      <td></td>\n      <td>17,562</td>\n    </tr>\n    <tr>\n      <th>1</th>\n      <td>2018-10-03</td>\n      <td>Montreal Canadiens</td>\n      <td>2</td>\n      <td>Toronto Maple Leafs</td>\n      <td>3</td>\n      <td>OT</td>\n      <td>19,589</td>\n    </tr>\n    <tr>\n      <th>2</th>\n      <td>2018-10-03</td>\n      <td>Calgary Flames</td>\n      <td>2</td>\n      <td>Vancouver Canucks</td>\n      <td>5</td>\n      <td></td>\n      <td>18,870</td>\n    </tr>\n    <tr>\n      <th>3</th>\n      <td>2018-10-03</td>\n      <td>Boston Bruins</td>\n      <td>0</td>\n      <td>Washington Capitals</td>\n      <td>7</td>\n      <td></td>\n      <td>18,506</td>\n    </tr>\n    <tr>\n      <th>4</th>\n      <td>2018-10-04</td>\n      <td>Boston Bruins</td>\n      <td>4</td>\n      <td>Buffalo Sabres</td>\n      <td>0</td>\n      <td></td>\n      <td>19,070</td>\n    </tr>\n    <tr>\n      <th>...</th>\n      <td>...</td>\n      <td>...</td>\n      <td>...</td>\n      <td>...</td>\n      <td>...</td>\n      <td>...</td>\n      <td>...</td>\n    </tr>\n    <tr>\n      <th>1353</th>\n      <td>2019-06-01</td>\n      <td>Boston Bruins</td>\n      <td>7</td>\n      <td>St. Louis Blues</td>\n      <td>2</td>\n      <td></td>\n      <td>18,789</td>\n    </tr>\n    <tr>\n      <th>1354</th>\n      <td>2019-06-03</td>\n      <td>Boston Bruins</td>\n      <td>2</td>\n      <td>St. Louis Blues</td>\n      <td>4</td>\n      <td></td>\n      <td>18,805</td>\n    </tr>\n    <tr>\n      <th>1355</th>\n      <td>2019-06-06</td>\n      <td>St. Louis Blues</td>\n      <td>2</td>\n      <td>Boston Bruins</td>\n      <td>1</td>\n      <td></td>\n      <td>17,565</td>\n    </tr>\n    <tr>\n      <th>1356</th>\n      <td>2019-06-09</td>\n      <td>Boston Bruins</td>\n      <td>5</td>\n      <td>St. Louis Blues</td>\n      <td>1</td>\n      <td></td>\n      <td>18,890</td>\n    </tr>\n    <tr>\n      <th>1357</th>\n      <td>2019-06-12</td>\n      <td>St. Louis Blues</td>\n      <td>4</td>\n      <td>Boston Bruins</td>\n      <td>1</td>\n      <td></td>\n      <td>17,565</td>\n    </tr>\n  </tbody>\n</table>\n<p>1358 rows × 7 columns</p>\n</div>"
     },
     "metadata": {},
     "execution_count": 7
    }
   ],
   "source": [
    "# Imports Google sheet as pandas dataframe; 0 indicates first row/column\n",
    "results = pd.DataFrame(results[0:], columns=results[0])\n",
    "\n",
    "# The dataset contains all the games from the regular season\n",
    "# By default the first row will be considered as the header\n",
    "results"
   ]
  },
  {
   "cell_type": "code",
   "execution_count": 8,
   "metadata": {},
   "outputs": [
    {
     "output_type": "execute_result",
     "data": {
      "text/plain": "Date             object\nVisitor          object\nVisitor Goals     int64\nHome             object\nHome Goals        int64\ndtype: object"
     },
     "metadata": {},
     "execution_count": 8
    }
   ],
   "source": [
    "# Lists data types of each column\n",
    "results.dtypes.head()"
   ]
  },
  {
   "cell_type": "markdown",
   "metadata": {},
   "source": [
    "<h2> Data Cleaning and Manipulation <h2>"
   ]
  },
  {
   "cell_type": "code",
   "execution_count": 9,
   "metadata": {},
   "outputs": [],
   "source": [
    "# Fix the names of the columns\n",
    "results.columns = [\"Date\", \"Visitor Team\", \"Visitor Goals\", \"Home Team\", \"Home Goals\", \"Game Finish\", \"Attendance\"]"
   ]
  },
  {
   "cell_type": "code",
   "execution_count": 10,
   "metadata": {},
   "outputs": [
    {
     "output_type": "execute_result",
     "data": {
      "text/plain": "         Date        Visitor Team  Visitor Goals            Home Team  \\\n0  2018-10-03       Anaheim Ducks              5      San Jose Sharks   \n1  2018-10-03  Montreal Canadiens              2  Toronto Maple Leafs   \n2  2018-10-03      Calgary Flames              2    Vancouver Canucks   \n3  2018-10-03       Boston Bruins              0  Washington Capitals   \n4  2018-10-04       Boston Bruins              4       Buffalo Sabres   \n5  2018-10-04  New York Islanders              2  Carolina Hurricanes   \n\n   Home Goals Game Finish Attendance  \n0           2                 17,562  \n1           3          OT     19,589  \n2           5                 18,870  \n3           7                 18,506  \n4           0                 19,070  \n5           1          OT     18,680  ",
      "text/html": "<div>\n<style scoped>\n    .dataframe tbody tr th:only-of-type {\n        vertical-align: middle;\n    }\n\n    .dataframe tbody tr th {\n        vertical-align: top;\n    }\n\n    .dataframe thead th {\n        text-align: right;\n    }\n</style>\n<table border=\"1\" class=\"dataframe\">\n  <thead>\n    <tr style=\"text-align: right;\">\n      <th></th>\n      <th>Date</th>\n      <th>Visitor Team</th>\n      <th>Visitor Goals</th>\n      <th>Home Team</th>\n      <th>Home Goals</th>\n      <th>Game Finish</th>\n      <th>Attendance</th>\n    </tr>\n  </thead>\n  <tbody>\n    <tr>\n      <th>0</th>\n      <td>2018-10-03</td>\n      <td>Anaheim Ducks</td>\n      <td>5</td>\n      <td>San Jose Sharks</td>\n      <td>2</td>\n      <td></td>\n      <td>17,562</td>\n    </tr>\n    <tr>\n      <th>1</th>\n      <td>2018-10-03</td>\n      <td>Montreal Canadiens</td>\n      <td>2</td>\n      <td>Toronto Maple Leafs</td>\n      <td>3</td>\n      <td>OT</td>\n      <td>19,589</td>\n    </tr>\n    <tr>\n      <th>2</th>\n      <td>2018-10-03</td>\n      <td>Calgary Flames</td>\n      <td>2</td>\n      <td>Vancouver Canucks</td>\n      <td>5</td>\n      <td></td>\n      <td>18,870</td>\n    </tr>\n    <tr>\n      <th>3</th>\n      <td>2018-10-03</td>\n      <td>Boston Bruins</td>\n      <td>0</td>\n      <td>Washington Capitals</td>\n      <td>7</td>\n      <td></td>\n      <td>18,506</td>\n    </tr>\n    <tr>\n      <th>4</th>\n      <td>2018-10-04</td>\n      <td>Boston Bruins</td>\n      <td>4</td>\n      <td>Buffalo Sabres</td>\n      <td>0</td>\n      <td></td>\n      <td>19,070</td>\n    </tr>\n    <tr>\n      <th>5</th>\n      <td>2018-10-04</td>\n      <td>New York Islanders</td>\n      <td>2</td>\n      <td>Carolina Hurricanes</td>\n      <td>1</td>\n      <td>OT</td>\n      <td>18,680</td>\n    </tr>\n  </tbody>\n</table>\n</div>"
     },
     "metadata": {},
     "execution_count": 10
    }
   ],
   "source": [
    "results.loc[:5]"
   ]
  },
  {
   "cell_type": "code",
   "execution_count": 11,
   "metadata": {},
   "outputs": [],
   "source": [
    "# Fills empty rows in 'Game Finish' column with NaN by adding in 'REG' for regulation win\n",
    "results[\"Game Finish\"] = results[\"Game Finish\"].replace(\"\", \"REG\")"
   ]
  },
  {
   "cell_type": "code",
   "execution_count": 12,
   "metadata": {},
   "outputs": [
    {
     "output_type": "execute_result",
     "data": {
      "text/plain": "         Date        Visitor Team  Visitor Goals            Home Team  \\\n0  2018-10-03       Anaheim Ducks              5      San Jose Sharks   \n1  2018-10-03  Montreal Canadiens              2  Toronto Maple Leafs   \n2  2018-10-03      Calgary Flames              2    Vancouver Canucks   \n3  2018-10-03       Boston Bruins              0  Washington Capitals   \n4  2018-10-04       Boston Bruins              4       Buffalo Sabres   \n\n   Home Goals Game Finish Attendance  \n0           2         REG     17,562  \n1           3          OT     19,589  \n2           5         REG     18,870  \n3           7         REG     18,506  \n4           0         REG     19,070  ",
      "text/html": "<div>\n<style scoped>\n    .dataframe tbody tr th:only-of-type {\n        vertical-align: middle;\n    }\n\n    .dataframe tbody tr th {\n        vertical-align: top;\n    }\n\n    .dataframe thead th {\n        text-align: right;\n    }\n</style>\n<table border=\"1\" class=\"dataframe\">\n  <thead>\n    <tr style=\"text-align: right;\">\n      <th></th>\n      <th>Date</th>\n      <th>Visitor Team</th>\n      <th>Visitor Goals</th>\n      <th>Home Team</th>\n      <th>Home Goals</th>\n      <th>Game Finish</th>\n      <th>Attendance</th>\n    </tr>\n  </thead>\n  <tbody>\n    <tr>\n      <th>0</th>\n      <td>2018-10-03</td>\n      <td>Anaheim Ducks</td>\n      <td>5</td>\n      <td>San Jose Sharks</td>\n      <td>2</td>\n      <td>REG</td>\n      <td>17,562</td>\n    </tr>\n    <tr>\n      <th>1</th>\n      <td>2018-10-03</td>\n      <td>Montreal Canadiens</td>\n      <td>2</td>\n      <td>Toronto Maple Leafs</td>\n      <td>3</td>\n      <td>OT</td>\n      <td>19,589</td>\n    </tr>\n    <tr>\n      <th>2</th>\n      <td>2018-10-03</td>\n      <td>Calgary Flames</td>\n      <td>2</td>\n      <td>Vancouver Canucks</td>\n      <td>5</td>\n      <td>REG</td>\n      <td>18,870</td>\n    </tr>\n    <tr>\n      <th>3</th>\n      <td>2018-10-03</td>\n      <td>Boston Bruins</td>\n      <td>0</td>\n      <td>Washington Capitals</td>\n      <td>7</td>\n      <td>REG</td>\n      <td>18,506</td>\n    </tr>\n    <tr>\n      <th>4</th>\n      <td>2018-10-04</td>\n      <td>Boston Bruins</td>\n      <td>4</td>\n      <td>Buffalo Sabres</td>\n      <td>0</td>\n      <td>REG</td>\n      <td>19,070</td>\n    </tr>\n  </tbody>\n</table>\n</div>"
     },
     "metadata": {},
     "execution_count": 12
    }
   ],
   "source": [
    "results.head()"
   ]
  },
  {
   "cell_type": "markdown",
   "metadata": {},
   "source": [
    "<h2> Creating the attribute to predict: Home Win <h2>\n"
   ]
  },
  {
   "cell_type": "markdown",
   "metadata": {},
   "source": [
    "The purpose of this analysis is to predict whether the Home Team won their match. The following creates the \"Home Win\" column."
   ]
  },
  {
   "cell_type": "code",
   "execution_count": 13,
   "metadata": {},
   "outputs": [],
   "source": [
    "# Create a new attribute called \"Home Win\" to show if the home team won the game\n",
    "results[\"Home Win\"] = results[\"Visitor Goals\"] < results[\"Home Goals\"]\n",
    "\n",
    "# This will be the class we are trying to predict for our model, whether the home team won or not\n",
    "y_true = results[\"Home Win\"].values"
   ]
  },
  {
   "cell_type": "code",
   "execution_count": 14,
   "metadata": {},
   "outputs": [
    {
     "output_type": "execute_result",
     "data": {
      "text/plain": "         Date        Visitor Team  Visitor Goals            Home Team  \\\n0  2018-10-03       Anaheim Ducks              5      San Jose Sharks   \n1  2018-10-03  Montreal Canadiens              2  Toronto Maple Leafs   \n2  2018-10-03      Calgary Flames              2    Vancouver Canucks   \n3  2018-10-03       Boston Bruins              0  Washington Capitals   \n4  2018-10-04       Boston Bruins              4       Buffalo Sabres   \n5  2018-10-04  New York Islanders              2  Carolina Hurricanes   \n\n   Home Goals Game Finish Attendance  Home Win  \n0           2         REG     17,562     False  \n1           3          OT     19,589      True  \n2           5         REG     18,870      True  \n3           7         REG     18,506      True  \n4           0         REG     19,070     False  \n5           1          OT     18,680     False  ",
      "text/html": "<div>\n<style scoped>\n    .dataframe tbody tr th:only-of-type {\n        vertical-align: middle;\n    }\n\n    .dataframe tbody tr th {\n        vertical-align: top;\n    }\n\n    .dataframe thead th {\n        text-align: right;\n    }\n</style>\n<table border=\"1\" class=\"dataframe\">\n  <thead>\n    <tr style=\"text-align: right;\">\n      <th></th>\n      <th>Date</th>\n      <th>Visitor Team</th>\n      <th>Visitor Goals</th>\n      <th>Home Team</th>\n      <th>Home Goals</th>\n      <th>Game Finish</th>\n      <th>Attendance</th>\n      <th>Home Win</th>\n    </tr>\n  </thead>\n  <tbody>\n    <tr>\n      <th>0</th>\n      <td>2018-10-03</td>\n      <td>Anaheim Ducks</td>\n      <td>5</td>\n      <td>San Jose Sharks</td>\n      <td>2</td>\n      <td>REG</td>\n      <td>17,562</td>\n      <td>False</td>\n    </tr>\n    <tr>\n      <th>1</th>\n      <td>2018-10-03</td>\n      <td>Montreal Canadiens</td>\n      <td>2</td>\n      <td>Toronto Maple Leafs</td>\n      <td>3</td>\n      <td>OT</td>\n      <td>19,589</td>\n      <td>True</td>\n    </tr>\n    <tr>\n      <th>2</th>\n      <td>2018-10-03</td>\n      <td>Calgary Flames</td>\n      <td>2</td>\n      <td>Vancouver Canucks</td>\n      <td>5</td>\n      <td>REG</td>\n      <td>18,870</td>\n      <td>True</td>\n    </tr>\n    <tr>\n      <th>3</th>\n      <td>2018-10-03</td>\n      <td>Boston Bruins</td>\n      <td>0</td>\n      <td>Washington Capitals</td>\n      <td>7</td>\n      <td>REG</td>\n      <td>18,506</td>\n      <td>True</td>\n    </tr>\n    <tr>\n      <th>4</th>\n      <td>2018-10-04</td>\n      <td>Boston Bruins</td>\n      <td>4</td>\n      <td>Buffalo Sabres</td>\n      <td>0</td>\n      <td>REG</td>\n      <td>19,070</td>\n      <td>False</td>\n    </tr>\n    <tr>\n      <th>5</th>\n      <td>2018-10-04</td>\n      <td>New York Islanders</td>\n      <td>2</td>\n      <td>Carolina Hurricanes</td>\n      <td>1</td>\n      <td>OT</td>\n      <td>18,680</td>\n      <td>False</td>\n    </tr>\n  </tbody>\n</table>\n</div>"
     },
     "metadata": {},
     "execution_count": 14
    }
   ],
   "source": [
    "results.loc[:5]"
   ]
  },
  {
   "cell_type": "code",
   "execution_count": 15,
   "metadata": {},
   "outputs": [
    {
     "output_type": "execute_result",
     "data": {
      "text/plain": "array([False,  True,  True, ..., False, False, False])"
     },
     "metadata": {},
     "execution_count": 15
    }
   ],
   "source": [
    "# y_true is the object that stores all values for the Home Win column for each game in the dataset\n",
    "y_true"
   ]
  },
  {
   "cell_type": "markdown",
   "metadata": {},
   "source": [
    "<h2> Creating the Performance Indicator: the F1 score <h2>\n"
   ]
  },
  {
   "cell_type": "markdown",
   "metadata": {},
   "source": [
    "The F1 Score will be used as the key metric to compare classifiers. It considers both recall and precision."
   ]
  },
  {
   "cell_type": "code",
   "execution_count": 16,
   "metadata": {},
   "outputs": [],
   "source": [
    "# The classification report and the F1 score metric will both be used to show the performance of our model\n",
    "from sklearn.metrics import f1_score, make_scorer, classification_report\n",
    "\n",
    "# The scorer object created below will be designated with the F1 score\n",
    "scorer = make_scorer(f1_score, pos_label=None, average='weighted')"
   ]
  },
  {
   "cell_type": "markdown",
   "metadata": {},
   "source": [
    "<h2> Creating a baseline to beat <h2> "
   ]
  },
  {
   "cell_type": "code",
   "execution_count": 17,
   "metadata": {
    "tags": []
   },
   "outputs": [
    {
     "output_type": "stream",
     "name": "stdout",
     "text": "Overall Home Win Percentage in Dataset: 53.5%\n"
    }
   ],
   "source": [
    "# Counts the number of rows in the 'Home Win' column\n",
    "n_games = results[\"Home Win\"].count()\n",
    "# Adds the number of 'True' there are in the 'Home Win' column\n",
    "n_homewins = results[\"Home Win\"].sum()\n",
    "\n",
    "win_percentage = n_homewins / n_games\n",
    "\n",
    "print(\"Overall Home Win Percentage in Dataset: {0:.1f}%\".format(100 * win_percentage))"
   ]
  },
  {
   "cell_type": "code",
   "execution_count": 18,
   "metadata": {},
   "outputs": [
    {
     "output_type": "execute_result",
     "data": {
      "text/plain": "1358"
     },
     "metadata": {},
     "execution_count": 18
    }
   ],
   "source": [
    "n_games"
   ]
  },
  {
   "cell_type": "code",
   "execution_count": 19,
   "metadata": {},
   "outputs": [
    {
     "output_type": "execute_result",
     "data": {
      "text/plain": "727"
     },
     "metadata": {},
     "execution_count": 19
    }
   ],
   "source": [
    "n_homewins "
   ]
  },
  {
   "cell_type": "markdown",
   "metadata": {},
   "source": [
    "Note: 53.5% is the chance the guess will be correct if a random game were to be picked and guessed if the home team won."
   ]
  },
  {
   "cell_type": "code",
   "execution_count": 20,
   "metadata": {
    "tags": []
   },
   "outputs": [
    {
     "output_type": "stream",
     "name": "stdout",
     "text": "F1 Score: 0.3733\n"
    }
   ],
   "source": [
    "from sklearn.metrics import f1_score\n",
    "y_pred = [1] * len(y_true)\n",
    "print(\"F1 Score: {:.4f}\".format(f1_score(y_true, y_pred, pos_label=None, average=\"weighted\")))"
   ]
  },
  {
   "cell_type": "markdown",
   "metadata": {},
   "source": [
    "A model has to be built which produces a better F1 Score than 0.3733."
   ]
  },
  {
   "cell_type": "markdown",
   "metadata": {},
   "source": [
    "<h2> Feature Engineering to Improve Model Prediction <h2>"
   ]
  },
  {
   "cell_type": "markdown",
   "metadata": {},
   "source": [
    "<h3> Feature 1: Win Streaks for the each team <h3>"
   ]
  },
  {
   "cell_type": "markdown",
   "metadata": {},
   "source": [
    "This feature will keep a running win streak for each team by accounting for when that team was at home and away games."
   ]
  },
  {
   "cell_type": "code",
   "execution_count": 21,
   "metadata": {},
   "outputs": [],
   "source": [
    "# Set new win streak feature with a default value of 0\n",
    "results[\"Home Win Streak\"] = 0\n",
    "results[\"Visitor Win Streak\"] = 0\n",
    "\n",
    "from collections import defaultdict\n",
    "win_streak = defaultdict(int)\n",
    "\n",
    "for index, row in results.iterrows():\n",
    "    home_team = row[\"Home Team\"]\n",
    "    visitor_team = row[\"Visitor Team\"]\n",
    "    row[\"Home Win Streak\"] = win_streak[home_team]\n",
    "    row[\"Visitor Win Streak\"] = win_streak[visitor_team]\n",
    "    results.loc[index] = row\n",
    "    \n",
    "    if row[\"Home Win\"]:\n",
    "        win_streak[home_team] += 1 # if \"Home Win\" is True, increase home_team by 1\n",
    "        win_streak[visitor_team] = 0\n",
    "    else:\n",
    "        win_streak[home_team] = 0\n",
    "        win_streak[visitor_team] += 1 # if \"Home Win\" is False, increase visitor_team by 1"
   ]
  },
  {
   "cell_type": "code",
   "execution_count": 22,
   "metadata": {},
   "outputs": [
    {
     "output_type": "execute_result",
     "data": {
      "text/plain": "          Date           Visitor Team  Visitor Goals              Home Team  \\\n5   2018-10-04     New York Islanders              2    Carolina Hurricanes   \n6   2018-10-04         Minnesota Wild              1     Colorado Avalanche   \n7   2018-10-04        Arizona Coyotes              0           Dallas Stars   \n8   2018-10-04  Columbus Blue Jackets              3      Detroit Red Wings   \n9   2018-10-04    Nashville Predators              3       New York Rangers   \n10  2018-10-04     Chicago Blackhawks              4        Ottawa Senators   \n11  2018-10-04    Washington Capitals              6    Pittsburgh Penguins   \n12  2018-10-04          Winnipeg Jets              5        St. Louis Blues   \n13  2018-10-04    Philadelphia Flyers              5   Vegas Golden Knights   \n14  2018-10-05    Carolina Hurricanes              3  Columbus Blue Jackets   \n15  2018-10-05        San Jose Sharks              3      Los Angeles Kings   \n\n    Home Goals Game Finish Attendance  Home Win  Home Win Streak  \\\n5            1          OT     18,680     False                0   \n6            4         REG     18,086      True                0   \n7            3         REG     18,532      True                0   \n8            2          OT     19,515     False                0   \n9            2         REG     17,117     False                0   \n10           3          OT     15,858     False                0   \n11           7          OT     18,627      True                0   \n12           1         REG     18,292     False                0   \n13           2         REG     18,555     False                0   \n14           1         REG     18,306     False                1   \n15           2          OT     18,230     False                0   \n\n    Visitor Win Streak  \n5                    0  \n6                    0  \n7                    0  \n8                    0  \n9                    0  \n10                   0  \n11                   1  \n12                   0  \n13                   0  \n14                   0  \n15                   0  ",
      "text/html": "<div>\n<style scoped>\n    .dataframe tbody tr th:only-of-type {\n        vertical-align: middle;\n    }\n\n    .dataframe tbody tr th {\n        vertical-align: top;\n    }\n\n    .dataframe thead th {\n        text-align: right;\n    }\n</style>\n<table border=\"1\" class=\"dataframe\">\n  <thead>\n    <tr style=\"text-align: right;\">\n      <th></th>\n      <th>Date</th>\n      <th>Visitor Team</th>\n      <th>Visitor Goals</th>\n      <th>Home Team</th>\n      <th>Home Goals</th>\n      <th>Game Finish</th>\n      <th>Attendance</th>\n      <th>Home Win</th>\n      <th>Home Win Streak</th>\n      <th>Visitor Win Streak</th>\n    </tr>\n  </thead>\n  <tbody>\n    <tr>\n      <th>5</th>\n      <td>2018-10-04</td>\n      <td>New York Islanders</td>\n      <td>2</td>\n      <td>Carolina Hurricanes</td>\n      <td>1</td>\n      <td>OT</td>\n      <td>18,680</td>\n      <td>False</td>\n      <td>0</td>\n      <td>0</td>\n    </tr>\n    <tr>\n      <th>6</th>\n      <td>2018-10-04</td>\n      <td>Minnesota Wild</td>\n      <td>1</td>\n      <td>Colorado Avalanche</td>\n      <td>4</td>\n      <td>REG</td>\n      <td>18,086</td>\n      <td>True</td>\n      <td>0</td>\n      <td>0</td>\n    </tr>\n    <tr>\n      <th>7</th>\n      <td>2018-10-04</td>\n      <td>Arizona Coyotes</td>\n      <td>0</td>\n      <td>Dallas Stars</td>\n      <td>3</td>\n      <td>REG</td>\n      <td>18,532</td>\n      <td>True</td>\n      <td>0</td>\n      <td>0</td>\n    </tr>\n    <tr>\n      <th>8</th>\n      <td>2018-10-04</td>\n      <td>Columbus Blue Jackets</td>\n      <td>3</td>\n      <td>Detroit Red Wings</td>\n      <td>2</td>\n      <td>OT</td>\n      <td>19,515</td>\n      <td>False</td>\n      <td>0</td>\n      <td>0</td>\n    </tr>\n    <tr>\n      <th>9</th>\n      <td>2018-10-04</td>\n      <td>Nashville Predators</td>\n      <td>3</td>\n      <td>New York Rangers</td>\n      <td>2</td>\n      <td>REG</td>\n      <td>17,117</td>\n      <td>False</td>\n      <td>0</td>\n      <td>0</td>\n    </tr>\n    <tr>\n      <th>10</th>\n      <td>2018-10-04</td>\n      <td>Chicago Blackhawks</td>\n      <td>4</td>\n      <td>Ottawa Senators</td>\n      <td>3</td>\n      <td>OT</td>\n      <td>15,858</td>\n      <td>False</td>\n      <td>0</td>\n      <td>0</td>\n    </tr>\n    <tr>\n      <th>11</th>\n      <td>2018-10-04</td>\n      <td>Washington Capitals</td>\n      <td>6</td>\n      <td>Pittsburgh Penguins</td>\n      <td>7</td>\n      <td>OT</td>\n      <td>18,627</td>\n      <td>True</td>\n      <td>0</td>\n      <td>1</td>\n    </tr>\n    <tr>\n      <th>12</th>\n      <td>2018-10-04</td>\n      <td>Winnipeg Jets</td>\n      <td>5</td>\n      <td>St. Louis Blues</td>\n      <td>1</td>\n      <td>REG</td>\n      <td>18,292</td>\n      <td>False</td>\n      <td>0</td>\n      <td>0</td>\n    </tr>\n    <tr>\n      <th>13</th>\n      <td>2018-10-04</td>\n      <td>Philadelphia Flyers</td>\n      <td>5</td>\n      <td>Vegas Golden Knights</td>\n      <td>2</td>\n      <td>REG</td>\n      <td>18,555</td>\n      <td>False</td>\n      <td>0</td>\n      <td>0</td>\n    </tr>\n    <tr>\n      <th>14</th>\n      <td>2018-10-05</td>\n      <td>Carolina Hurricanes</td>\n      <td>3</td>\n      <td>Columbus Blue Jackets</td>\n      <td>1</td>\n      <td>REG</td>\n      <td>18,306</td>\n      <td>False</td>\n      <td>1</td>\n      <td>0</td>\n    </tr>\n    <tr>\n      <th>15</th>\n      <td>2018-10-05</td>\n      <td>San Jose Sharks</td>\n      <td>3</td>\n      <td>Los Angeles Kings</td>\n      <td>2</td>\n      <td>OT</td>\n      <td>18,230</td>\n      <td>False</td>\n      <td>0</td>\n      <td>0</td>\n    </tr>\n  </tbody>\n</table>\n</div>"
     },
     "metadata": {},
     "execution_count": 22
    }
   ],
   "source": [
    "results.loc[5:15]"
   ]
  },
  {
   "cell_type": "markdown",
   "metadata": {},
   "source": [
    "<h3> Feature 2: Whether the home or visitor team won their last game <h3>"
   ]
  },
  {
   "cell_type": "markdown",
   "metadata": {},
   "source": [
    "This feature indicates if the home team or the visitor team in the game won their last game.\n",
    "For example, if the Toronto Maple Leafs are the home team for the game and they won their last game, whether it was at home or away, Home Last Win would be TRUE.\n",
    "If the Toronto Maple Leafs are the visitor team for the game and they won their last game, whether it was at home or away, Visitor Last Win would be TRUE."
   ]
  },
  {
   "cell_type": "code",
   "execution_count": 23,
   "metadata": {},
   "outputs": [],
   "source": [
    "# Create Home Last Win and Visitor Last Win\n",
    "results[\"Home Last Win\"] = False\n",
    "results[\"Visitor Last Win\"] = False\n",
    "\n",
    "won_last = defaultdict(int)\n",
    "\n",
    "for index, row in results.iterrows(): # for each row\n",
    "    home_team = row[\"Home Team\"]\n",
    "    visitor_team = row[\"Visitor Team\"]\n",
    "    row[\"Home Last Win\"] = won_last[home_team]\n",
    "    row[\"Visitor Last Win\"] = won_last[visitor_team]\n",
    "    results.loc[index] = row\n",
    "    # Set which team won\n",
    "    won_last[home_team] = row[\"Home Win\"] # set Home Last Win as True if \"Home Win\" is True\n",
    "    won_last[visitor_team] = not row[\"Home Win\"] # otherwise set \"Visitor Last Win\" as True"
   ]
  },
  {
   "cell_type": "code",
   "execution_count": 24,
   "metadata": {},
   "outputs": [
    {
     "output_type": "execute_result",
     "data": {
      "text/plain": "          Date           Visitor Team  Visitor Goals              Home Team  \\\n5   2018-10-04     New York Islanders              2    Carolina Hurricanes   \n6   2018-10-04         Minnesota Wild              1     Colorado Avalanche   \n7   2018-10-04        Arizona Coyotes              0           Dallas Stars   \n8   2018-10-04  Columbus Blue Jackets              3      Detroit Red Wings   \n9   2018-10-04    Nashville Predators              3       New York Rangers   \n10  2018-10-04     Chicago Blackhawks              4        Ottawa Senators   \n11  2018-10-04    Washington Capitals              6    Pittsburgh Penguins   \n12  2018-10-04          Winnipeg Jets              5        St. Louis Blues   \n13  2018-10-04    Philadelphia Flyers              5   Vegas Golden Knights   \n14  2018-10-05    Carolina Hurricanes              3  Columbus Blue Jackets   \n15  2018-10-05        San Jose Sharks              3      Los Angeles Kings   \n\n    Home Goals Game Finish Attendance  Home Win  Home Win Streak  \\\n5            1          OT     18,680     False                0   \n6            4         REG     18,086      True                0   \n7            3         REG     18,532      True                0   \n8            2          OT     19,515     False                0   \n9            2         REG     17,117     False                0   \n10           3          OT     15,858     False                0   \n11           7          OT     18,627      True                0   \n12           1         REG     18,292     False                0   \n13           2         REG     18,555     False                0   \n14           1         REG     18,306     False                1   \n15           2          OT     18,230     False                0   \n\n    Visitor Win Streak Home Last Win Visitor Last Win  \n5                    0             0                0  \n6                    0             0                0  \n7                    0             0                0  \n8                    0             0                0  \n9                    0             0                0  \n10                   0             0                0  \n11                   1             0             True  \n12                   0             0                0  \n13                   0             0                0  \n14                   0          True            False  \n15                   0             0            False  ",
      "text/html": "<div>\n<style scoped>\n    .dataframe tbody tr th:only-of-type {\n        vertical-align: middle;\n    }\n\n    .dataframe tbody tr th {\n        vertical-align: top;\n    }\n\n    .dataframe thead th {\n        text-align: right;\n    }\n</style>\n<table border=\"1\" class=\"dataframe\">\n  <thead>\n    <tr style=\"text-align: right;\">\n      <th></th>\n      <th>Date</th>\n      <th>Visitor Team</th>\n      <th>Visitor Goals</th>\n      <th>Home Team</th>\n      <th>Home Goals</th>\n      <th>Game Finish</th>\n      <th>Attendance</th>\n      <th>Home Win</th>\n      <th>Home Win Streak</th>\n      <th>Visitor Win Streak</th>\n      <th>Home Last Win</th>\n      <th>Visitor Last Win</th>\n    </tr>\n  </thead>\n  <tbody>\n    <tr>\n      <th>5</th>\n      <td>2018-10-04</td>\n      <td>New York Islanders</td>\n      <td>2</td>\n      <td>Carolina Hurricanes</td>\n      <td>1</td>\n      <td>OT</td>\n      <td>18,680</td>\n      <td>False</td>\n      <td>0</td>\n      <td>0</td>\n      <td>0</td>\n      <td>0</td>\n    </tr>\n    <tr>\n      <th>6</th>\n      <td>2018-10-04</td>\n      <td>Minnesota Wild</td>\n      <td>1</td>\n      <td>Colorado Avalanche</td>\n      <td>4</td>\n      <td>REG</td>\n      <td>18,086</td>\n      <td>True</td>\n      <td>0</td>\n      <td>0</td>\n      <td>0</td>\n      <td>0</td>\n    </tr>\n    <tr>\n      <th>7</th>\n      <td>2018-10-04</td>\n      <td>Arizona Coyotes</td>\n      <td>0</td>\n      <td>Dallas Stars</td>\n      <td>3</td>\n      <td>REG</td>\n      <td>18,532</td>\n      <td>True</td>\n      <td>0</td>\n      <td>0</td>\n      <td>0</td>\n      <td>0</td>\n    </tr>\n    <tr>\n      <th>8</th>\n      <td>2018-10-04</td>\n      <td>Columbus Blue Jackets</td>\n      <td>3</td>\n      <td>Detroit Red Wings</td>\n      <td>2</td>\n      <td>OT</td>\n      <td>19,515</td>\n      <td>False</td>\n      <td>0</td>\n      <td>0</td>\n      <td>0</td>\n      <td>0</td>\n    </tr>\n    <tr>\n      <th>9</th>\n      <td>2018-10-04</td>\n      <td>Nashville Predators</td>\n      <td>3</td>\n      <td>New York Rangers</td>\n      <td>2</td>\n      <td>REG</td>\n      <td>17,117</td>\n      <td>False</td>\n      <td>0</td>\n      <td>0</td>\n      <td>0</td>\n      <td>0</td>\n    </tr>\n    <tr>\n      <th>10</th>\n      <td>2018-10-04</td>\n      <td>Chicago Blackhawks</td>\n      <td>4</td>\n      <td>Ottawa Senators</td>\n      <td>3</td>\n      <td>OT</td>\n      <td>15,858</td>\n      <td>False</td>\n      <td>0</td>\n      <td>0</td>\n      <td>0</td>\n      <td>0</td>\n    </tr>\n    <tr>\n      <th>11</th>\n      <td>2018-10-04</td>\n      <td>Washington Capitals</td>\n      <td>6</td>\n      <td>Pittsburgh Penguins</td>\n      <td>7</td>\n      <td>OT</td>\n      <td>18,627</td>\n      <td>True</td>\n      <td>0</td>\n      <td>1</td>\n      <td>0</td>\n      <td>True</td>\n    </tr>\n    <tr>\n      <th>12</th>\n      <td>2018-10-04</td>\n      <td>Winnipeg Jets</td>\n      <td>5</td>\n      <td>St. Louis Blues</td>\n      <td>1</td>\n      <td>REG</td>\n      <td>18,292</td>\n      <td>False</td>\n      <td>0</td>\n      <td>0</td>\n      <td>0</td>\n      <td>0</td>\n    </tr>\n    <tr>\n      <th>13</th>\n      <td>2018-10-04</td>\n      <td>Philadelphia Flyers</td>\n      <td>5</td>\n      <td>Vegas Golden Knights</td>\n      <td>2</td>\n      <td>REG</td>\n      <td>18,555</td>\n      <td>False</td>\n      <td>0</td>\n      <td>0</td>\n      <td>0</td>\n      <td>0</td>\n    </tr>\n    <tr>\n      <th>14</th>\n      <td>2018-10-05</td>\n      <td>Carolina Hurricanes</td>\n      <td>3</td>\n      <td>Columbus Blue Jackets</td>\n      <td>1</td>\n      <td>REG</td>\n      <td>18,306</td>\n      <td>False</td>\n      <td>1</td>\n      <td>0</td>\n      <td>True</td>\n      <td>False</td>\n    </tr>\n    <tr>\n      <th>15</th>\n      <td>2018-10-05</td>\n      <td>San Jose Sharks</td>\n      <td>3</td>\n      <td>Los Angeles Kings</td>\n      <td>2</td>\n      <td>OT</td>\n      <td>18,230</td>\n      <td>False</td>\n      <td>0</td>\n      <td>0</td>\n      <td>0</td>\n      <td>False</td>\n    </tr>\n  </tbody>\n</table>\n</div>"
     },
     "metadata": {},
     "execution_count": 24
    }
   ],
   "source": [
    "results.loc[5:15]"
   ]
  },
  {
   "cell_type": "markdown",
   "metadata": {},
   "source": [
    "<h3> Feature 3: Whether the home team beat the visitor team when they both played last <h3>"
   ]
  },
  {
   "cell_type": "code",
   "execution_count": 25,
   "metadata": {},
   "outputs": [],
   "source": [
    "last_match_winner = defaultdict(int)\n",
    "\n",
    "def home_team_won_last(row):\n",
    "    home_team = row[\"Home Team\"]\n",
    "    visitor_team = row[\"Visitor Team\"]\n",
    "    \n",
    "    # Sort team names for a consistent ordering (sorts by alphabetical order)\n",
    "    teams = tuple(sorted([home_team, visitor_team]))\n",
    "    \n",
    "    # If the home team won the previous game, the \"result\" will be 1\n",
    "    result = 1 if last_match_winner[teams] == row[\"Home Team\"] else 0\n",
    "    \n",
    "    # Update record for next encounter\n",
    "    winner = row[\"Home Team\"] if row[\"Home Win\"] else row[\"Visitor Team\"]\n",
    "    \n",
    "    last_match_winner[teams] = winner\n",
    "    return result\n",
    "\n",
    "results[\"Home Team Won Last\"] = results.apply(home_team_won_last, axis=1)"
   ]
  },
  {
   "cell_type": "code",
   "execution_count": 26,
   "metadata": {},
   "outputs": [
    {
     "output_type": "execute_result",
     "data": {
      "text/plain": "          Date           Visitor Team  Visitor Goals            Home Team  \\\n45  2018-10-11     Colorado Avalanche              6       Buffalo Sabres   \n46  2018-10-11    Toronto Maple Leafs              5    Detroit Red Wings   \n47  2018-10-11  Columbus Blue Jackets              5     Florida Panthers   \n48  2018-10-11     Chicago Blackhawks              3       Minnesota Wild   \n49  2018-10-11      Los Angeles Kings              3   Montreal Canadiens   \n50  2018-10-11    Washington Capitals              0    New Jersey Devils   \n51  2018-10-11          Winnipeg Jets              0  Nashville Predators   \n52  2018-10-11        San Jose Sharks              2     New York Rangers   \n53  2018-10-11   Vegas Golden Knights              2  Pittsburgh Penguins   \n54  2018-10-11         Calgary Flames              3      St. Louis Blues   \n\n    Home Goals Game Finish Attendance  Home Win  Home Win Streak  \\\n45           1         REG     15,396     False                2   \n46           3         REG     19,515     False                0   \n47           4         REG     14,394     False                0   \n48           4          OT     18,652      True                0   \n49           0         REG     21,302     False                1   \n50           6         REG     16,514      True                1   \n51           3         REG     17,228      True                0   \n52           3          OT     17,004      True                0   \n53           4         REG     18,610      True                0   \n54           5         REG     16,403      True                0   \n\n    Visitor Win Streak Home Last Win Visitor Last Win  Home Team Won Last  \n45                   0          True            False                   0  \n46                   2         False             True                   0  \n47                   1         False             True                   0  \n48                   0         False            False                   0  \n49                   0          True            False                   0  \n50                   1          True             True                   0  \n51                   1         False             True                   0  \n52                   1         False             True                   0  \n53                   0         False            False                   0  \n54                   2         False             True                   0  ",
      "text/html": "<div>\n<style scoped>\n    .dataframe tbody tr th:only-of-type {\n        vertical-align: middle;\n    }\n\n    .dataframe tbody tr th {\n        vertical-align: top;\n    }\n\n    .dataframe thead th {\n        text-align: right;\n    }\n</style>\n<table border=\"1\" class=\"dataframe\">\n  <thead>\n    <tr style=\"text-align: right;\">\n      <th></th>\n      <th>Date</th>\n      <th>Visitor Team</th>\n      <th>Visitor Goals</th>\n      <th>Home Team</th>\n      <th>Home Goals</th>\n      <th>Game Finish</th>\n      <th>Attendance</th>\n      <th>Home Win</th>\n      <th>Home Win Streak</th>\n      <th>Visitor Win Streak</th>\n      <th>Home Last Win</th>\n      <th>Visitor Last Win</th>\n      <th>Home Team Won Last</th>\n    </tr>\n  </thead>\n  <tbody>\n    <tr>\n      <th>45</th>\n      <td>2018-10-11</td>\n      <td>Colorado Avalanche</td>\n      <td>6</td>\n      <td>Buffalo Sabres</td>\n      <td>1</td>\n      <td>REG</td>\n      <td>15,396</td>\n      <td>False</td>\n      <td>2</td>\n      <td>0</td>\n      <td>True</td>\n      <td>False</td>\n      <td>0</td>\n    </tr>\n    <tr>\n      <th>46</th>\n      <td>2018-10-11</td>\n      <td>Toronto Maple Leafs</td>\n      <td>5</td>\n      <td>Detroit Red Wings</td>\n      <td>3</td>\n      <td>REG</td>\n      <td>19,515</td>\n      <td>False</td>\n      <td>0</td>\n      <td>2</td>\n      <td>False</td>\n      <td>True</td>\n      <td>0</td>\n    </tr>\n    <tr>\n      <th>47</th>\n      <td>2018-10-11</td>\n      <td>Columbus Blue Jackets</td>\n      <td>5</td>\n      <td>Florida Panthers</td>\n      <td>4</td>\n      <td>REG</td>\n      <td>14,394</td>\n      <td>False</td>\n      <td>0</td>\n      <td>1</td>\n      <td>False</td>\n      <td>True</td>\n      <td>0</td>\n    </tr>\n    <tr>\n      <th>48</th>\n      <td>2018-10-11</td>\n      <td>Chicago Blackhawks</td>\n      <td>3</td>\n      <td>Minnesota Wild</td>\n      <td>4</td>\n      <td>OT</td>\n      <td>18,652</td>\n      <td>True</td>\n      <td>0</td>\n      <td>0</td>\n      <td>False</td>\n      <td>False</td>\n      <td>0</td>\n    </tr>\n    <tr>\n      <th>49</th>\n      <td>2018-10-11</td>\n      <td>Los Angeles Kings</td>\n      <td>3</td>\n      <td>Montreal Canadiens</td>\n      <td>0</td>\n      <td>REG</td>\n      <td>21,302</td>\n      <td>False</td>\n      <td>1</td>\n      <td>0</td>\n      <td>True</td>\n      <td>False</td>\n      <td>0</td>\n    </tr>\n    <tr>\n      <th>50</th>\n      <td>2018-10-11</td>\n      <td>Washington Capitals</td>\n      <td>0</td>\n      <td>New Jersey Devils</td>\n      <td>6</td>\n      <td>REG</td>\n      <td>16,514</td>\n      <td>True</td>\n      <td>1</td>\n      <td>1</td>\n      <td>True</td>\n      <td>True</td>\n      <td>0</td>\n    </tr>\n    <tr>\n      <th>51</th>\n      <td>2018-10-11</td>\n      <td>Winnipeg Jets</td>\n      <td>0</td>\n      <td>Nashville Predators</td>\n      <td>3</td>\n      <td>REG</td>\n      <td>17,228</td>\n      <td>True</td>\n      <td>0</td>\n      <td>1</td>\n      <td>False</td>\n      <td>True</td>\n      <td>0</td>\n    </tr>\n    <tr>\n      <th>52</th>\n      <td>2018-10-11</td>\n      <td>San Jose Sharks</td>\n      <td>2</td>\n      <td>New York Rangers</td>\n      <td>3</td>\n      <td>OT</td>\n      <td>17,004</td>\n      <td>True</td>\n      <td>0</td>\n      <td>1</td>\n      <td>False</td>\n      <td>True</td>\n      <td>0</td>\n    </tr>\n    <tr>\n      <th>53</th>\n      <td>2018-10-11</td>\n      <td>Vegas Golden Knights</td>\n      <td>2</td>\n      <td>Pittsburgh Penguins</td>\n      <td>4</td>\n      <td>REG</td>\n      <td>18,610</td>\n      <td>True</td>\n      <td>0</td>\n      <td>0</td>\n      <td>False</td>\n      <td>False</td>\n      <td>0</td>\n    </tr>\n    <tr>\n      <th>54</th>\n      <td>2018-10-11</td>\n      <td>Calgary Flames</td>\n      <td>3</td>\n      <td>St. Louis Blues</td>\n      <td>5</td>\n      <td>REG</td>\n      <td>16,403</td>\n      <td>True</td>\n      <td>0</td>\n      <td>2</td>\n      <td>False</td>\n      <td>True</td>\n      <td>0</td>\n    </tr>\n  </tbody>\n</table>\n</div>"
     },
     "metadata": {},
     "execution_count": 26
    }
   ],
   "source": [
    "results[45:55]"
   ]
  },
  {
   "cell_type": "code",
   "execution_count": 27,
   "metadata": {},
   "outputs": [
    {
     "output_type": "execute_result",
     "data": {
      "text/plain": "<Worksheet '2018-19 Edited' id:1898942167>"
     },
     "metadata": {},
     "execution_count": 27
    }
   ],
   "source": [
    "# Exports dataframe onto google sheets file\n",
    "spreadsheet_key = '1Pk9_A7RvpF2VgFVjUvIx5DapZAIf8NDoDm3zzw2xKNg' # from spreadsheet URL\n",
    "wks_name = '2018-19 Edited' # Creates new spreadsheet titled '2018-19 Edited'\n",
    "d2g.upload(results, spreadsheet_key, wks_name, credentials=creds, row_names=True)"
   ]
  },
  {
   "cell_type": "code",
   "execution_count": 28,
   "metadata": {},
   "outputs": [
    {
     "output_type": "execute_result",
     "data": {
      "text/plain": "          Date            Home Team  Home Goals           Visitor Team  \\\n55  2018-10-11  Tampa Bay Lightning           1      Vancouver Canucks   \n56  2018-10-13      Arizona Coyotes           0         Buffalo Sabres   \n57  2018-10-13        Boston Bruins           8      Detroit Red Wings   \n58  2018-10-13   Chicago Blackhawks           4        St. Louis Blues   \n59  2018-10-13   Colorado Avalanche           2         Calgary Flames   \n60  2018-10-13         Dallas Stars           5          Anaheim Ducks   \n61  2018-10-13     Florida Panthers           2      Vancouver Canucks   \n62  2018-10-13       Minnesota Wild           4    Carolina Hurricanes   \n63  2018-10-13   Montreal Canadiens           4    Pittsburgh Penguins   \n64  2018-10-13  Nashville Predators           5     New York Islanders   \n65  2018-10-13     New York Rangers           1        Edmonton Oilers   \n66  2018-10-13      Ottawa Senators           5      Los Angeles Kings   \n67  2018-10-13  Philadelphia Flyers           0   Vegas Golden Knights   \n68  2018-10-13  Tampa Bay Lightning           8  Columbus Blue Jackets   \n69  2018-10-13  Washington Capitals           2    Toronto Maple Leafs   \n70  2018-10-14    New Jersey Devils           3        San Jose Sharks   \n71  2018-10-14      St. Louis Blues           2          Anaheim Ducks   \n72  2018-10-14        Winnipeg Jets           3    Carolina Hurricanes   \n73  2018-10-15   Montreal Canadiens           7      Detroit Red Wings   \n74  2018-10-15  Nashville Predators           4         Minnesota Wild   \n\n    Visitor Goals  Home Win  Home Win Streak  Home Team Won Last Home Last Win  \n55              4     False                1                   0          True  \n56              3     False                1                   0          True  \n57              2      True                3                   0          True  \n58              3      True                0                   1         False  \n59              3     False                1                   0          True  \n60              3      True                0                   0         False  \n61              3     False                0                   0         False  \n62              5     False                1                   0          True  \n63              3      True                0                   1         False  \n64              2      True                1                   1          True  \n65              2     False                1                   0          True  \n66              1      True                0                   0         False  \n67              1     False                1                   1          True  \n68              2      True                0                   0         False  \n69              4     False                0                   0         False  \n70              2      True                2                   0          True  \n71              3     False                0                   0         False  \n72              1      True                0                   0         False  \n73              3      True                1                   0          True  \n74              2      True                2                   0          True  ",
      "text/html": "<div>\n<style scoped>\n    .dataframe tbody tr th:only-of-type {\n        vertical-align: middle;\n    }\n\n    .dataframe tbody tr th {\n        vertical-align: top;\n    }\n\n    .dataframe thead th {\n        text-align: right;\n    }\n</style>\n<table border=\"1\" class=\"dataframe\">\n  <thead>\n    <tr style=\"text-align: right;\">\n      <th></th>\n      <th>Date</th>\n      <th>Home Team</th>\n      <th>Home Goals</th>\n      <th>Visitor Team</th>\n      <th>Visitor Goals</th>\n      <th>Home Win</th>\n      <th>Home Win Streak</th>\n      <th>Home Team Won Last</th>\n      <th>Home Last Win</th>\n    </tr>\n  </thead>\n  <tbody>\n    <tr>\n      <th>55</th>\n      <td>2018-10-11</td>\n      <td>Tampa Bay Lightning</td>\n      <td>1</td>\n      <td>Vancouver Canucks</td>\n      <td>4</td>\n      <td>False</td>\n      <td>1</td>\n      <td>0</td>\n      <td>True</td>\n    </tr>\n    <tr>\n      <th>56</th>\n      <td>2018-10-13</td>\n      <td>Arizona Coyotes</td>\n      <td>0</td>\n      <td>Buffalo Sabres</td>\n      <td>3</td>\n      <td>False</td>\n      <td>1</td>\n      <td>0</td>\n      <td>True</td>\n    </tr>\n    <tr>\n      <th>57</th>\n      <td>2018-10-13</td>\n      <td>Boston Bruins</td>\n      <td>8</td>\n      <td>Detroit Red Wings</td>\n      <td>2</td>\n      <td>True</td>\n      <td>3</td>\n      <td>0</td>\n      <td>True</td>\n    </tr>\n    <tr>\n      <th>58</th>\n      <td>2018-10-13</td>\n      <td>Chicago Blackhawks</td>\n      <td>4</td>\n      <td>St. Louis Blues</td>\n      <td>3</td>\n      <td>True</td>\n      <td>0</td>\n      <td>1</td>\n      <td>False</td>\n    </tr>\n    <tr>\n      <th>59</th>\n      <td>2018-10-13</td>\n      <td>Colorado Avalanche</td>\n      <td>2</td>\n      <td>Calgary Flames</td>\n      <td>3</td>\n      <td>False</td>\n      <td>1</td>\n      <td>0</td>\n      <td>True</td>\n    </tr>\n    <tr>\n      <th>60</th>\n      <td>2018-10-13</td>\n      <td>Dallas Stars</td>\n      <td>5</td>\n      <td>Anaheim Ducks</td>\n      <td>3</td>\n      <td>True</td>\n      <td>0</td>\n      <td>0</td>\n      <td>False</td>\n    </tr>\n    <tr>\n      <th>61</th>\n      <td>2018-10-13</td>\n      <td>Florida Panthers</td>\n      <td>2</td>\n      <td>Vancouver Canucks</td>\n      <td>3</td>\n      <td>False</td>\n      <td>0</td>\n      <td>0</td>\n      <td>False</td>\n    </tr>\n    <tr>\n      <th>62</th>\n      <td>2018-10-13</td>\n      <td>Minnesota Wild</td>\n      <td>4</td>\n      <td>Carolina Hurricanes</td>\n      <td>5</td>\n      <td>False</td>\n      <td>1</td>\n      <td>0</td>\n      <td>True</td>\n    </tr>\n    <tr>\n      <th>63</th>\n      <td>2018-10-13</td>\n      <td>Montreal Canadiens</td>\n      <td>4</td>\n      <td>Pittsburgh Penguins</td>\n      <td>3</td>\n      <td>True</td>\n      <td>0</td>\n      <td>1</td>\n      <td>False</td>\n    </tr>\n    <tr>\n      <th>64</th>\n      <td>2018-10-13</td>\n      <td>Nashville Predators</td>\n      <td>5</td>\n      <td>New York Islanders</td>\n      <td>2</td>\n      <td>True</td>\n      <td>1</td>\n      <td>1</td>\n      <td>True</td>\n    </tr>\n    <tr>\n      <th>65</th>\n      <td>2018-10-13</td>\n      <td>New York Rangers</td>\n      <td>1</td>\n      <td>Edmonton Oilers</td>\n      <td>2</td>\n      <td>False</td>\n      <td>1</td>\n      <td>0</td>\n      <td>True</td>\n    </tr>\n    <tr>\n      <th>66</th>\n      <td>2018-10-13</td>\n      <td>Ottawa Senators</td>\n      <td>5</td>\n      <td>Los Angeles Kings</td>\n      <td>1</td>\n      <td>True</td>\n      <td>0</td>\n      <td>0</td>\n      <td>False</td>\n    </tr>\n    <tr>\n      <th>67</th>\n      <td>2018-10-13</td>\n      <td>Philadelphia Flyers</td>\n      <td>0</td>\n      <td>Vegas Golden Knights</td>\n      <td>1</td>\n      <td>False</td>\n      <td>1</td>\n      <td>1</td>\n      <td>True</td>\n    </tr>\n    <tr>\n      <th>68</th>\n      <td>2018-10-13</td>\n      <td>Tampa Bay Lightning</td>\n      <td>8</td>\n      <td>Columbus Blue Jackets</td>\n      <td>2</td>\n      <td>True</td>\n      <td>0</td>\n      <td>0</td>\n      <td>False</td>\n    </tr>\n    <tr>\n      <th>69</th>\n      <td>2018-10-13</td>\n      <td>Washington Capitals</td>\n      <td>2</td>\n      <td>Toronto Maple Leafs</td>\n      <td>4</td>\n      <td>False</td>\n      <td>0</td>\n      <td>0</td>\n      <td>False</td>\n    </tr>\n    <tr>\n      <th>70</th>\n      <td>2018-10-14</td>\n      <td>New Jersey Devils</td>\n      <td>3</td>\n      <td>San Jose Sharks</td>\n      <td>2</td>\n      <td>True</td>\n      <td>2</td>\n      <td>0</td>\n      <td>True</td>\n    </tr>\n    <tr>\n      <th>71</th>\n      <td>2018-10-14</td>\n      <td>St. Louis Blues</td>\n      <td>2</td>\n      <td>Anaheim Ducks</td>\n      <td>3</td>\n      <td>False</td>\n      <td>0</td>\n      <td>0</td>\n      <td>False</td>\n    </tr>\n    <tr>\n      <th>72</th>\n      <td>2018-10-14</td>\n      <td>Winnipeg Jets</td>\n      <td>3</td>\n      <td>Carolina Hurricanes</td>\n      <td>1</td>\n      <td>True</td>\n      <td>0</td>\n      <td>0</td>\n      <td>False</td>\n    </tr>\n    <tr>\n      <th>73</th>\n      <td>2018-10-15</td>\n      <td>Montreal Canadiens</td>\n      <td>7</td>\n      <td>Detroit Red Wings</td>\n      <td>3</td>\n      <td>True</td>\n      <td>1</td>\n      <td>0</td>\n      <td>True</td>\n    </tr>\n    <tr>\n      <th>74</th>\n      <td>2018-10-15</td>\n      <td>Nashville Predators</td>\n      <td>4</td>\n      <td>Minnesota Wild</td>\n      <td>2</td>\n      <td>True</td>\n      <td>2</td>\n      <td>0</td>\n      <td>True</td>\n    </tr>\n  </tbody>\n</table>\n</div>"
     },
     "metadata": {},
     "execution_count": 28
    }
   ],
   "source": [
    "# Filters the columns to show columns that are requested only\n",
    "results[55:75][['Date', 'Home Team', 'Home Goals', 'Visitor Team', 'Visitor Goals', 'Home Win', 'Home Win Streak', 'Home Team Won Last', 'Home Last Win']]"
   ]
  },
  {
   "cell_type": "markdown",
   "metadata": {},
   "source": [
    "<h2> Correlaton Visual <h2>"
   ]
  },
  {
   "cell_type": "code",
   "execution_count": 29,
   "metadata": {},
   "outputs": [
    {
     "output_type": "display_data",
     "data": {
      "text/plain": "<Figure size 864x864 with 2 Axes>",
      "image/svg+xml": "<?xml version=\"1.0\" encoding=\"utf-8\" standalone=\"no\"?>\r\n<!DOCTYPE svg PUBLIC \"-//W3C//DTD SVG 1.1//EN\"\r\n  \"http://www.w3.org/Graphics/SVG/1.1/DTD/svg11.dtd\">\r\n<!-- Created with matplotlib (https://matplotlib.org/) -->\r\n<svg height=\"742.296406pt\" version=\"1.1\" viewBox=\"0 0 750.22225 742.296406\" width=\"750.22225pt\" xmlns=\"http://www.w3.org/2000/svg\" xmlns:xlink=\"http://www.w3.org/1999/xlink\">\r\n <metadata>\r\n  <rdf:RDF xmlns:cc=\"http://creativecommons.org/ns#\" xmlns:dc=\"http://purl.org/dc/elements/1.1/\" xmlns:rdf=\"http://www.w3.org/1999/02/22-rdf-syntax-ns#\">\r\n   <cc:Work>\r\n    <dc:type rdf:resource=\"http://purl.org/dc/dcmitype/StillImage\"/>\r\n    <dc:date>2020-09-14T14:19:46.459879</dc:date>\r\n    <dc:format>image/svg+xml</dc:format>\r\n    <dc:creator>\r\n     <cc:Agent>\r\n      <dc:title>Matplotlib v3.3.1, https://matplotlib.org/</dc:title>\r\n     </cc:Agent>\r\n    </dc:creator>\r\n   </cc:Work>\r\n  </rdf:RDF>\r\n </metadata>\r\n <defs>\r\n  <style type=\"text/css\">*{stroke-linecap:butt;stroke-linejoin:round;}</style>\r\n </defs>\r\n <g id=\"figure_1\">\r\n  <g id=\"patch_1\">\r\n   <path d=\"M 0 742.296406 \r\nL 750.22225 742.296406 \r\nL 750.22225 0 \r\nL 0 0 \r\nz\r\n\" style=\"fill:#ffffff;\"/>\r\n  </g>\r\n  <g id=\"axes_1\">\r\n   <g id=\"patch_2\">\r\n    <path d=\"M 103.914531 674.255625 \r\nL 639.594531 674.255625 \r\nL 639.594531 21.935625 \r\nL 103.914531 21.935625 \r\nz\r\n\" style=\"fill:#eaeaf2;\"/>\r\n   </g>\r\n   <g id=\"matplotlib.axis_1\">\r\n    <g id=\"xtick_1\">\r\n     <g id=\"text_1\">\r\n      <!-- Home Win -->\r\n      <g style=\"fill:#262626;\" transform=\"translate(374.598203 735.096406)rotate(-90)scale(0.11 -0.11)\">\r\n       <defs>\r\n        <path d=\"M 8.015625 0 \r\nL 8.015625 71.578125 \r\nL 17.484375 71.578125 \r\nL 17.484375 42.1875 \r\nL 54.6875 42.1875 \r\nL 54.6875 71.578125 \r\nL 64.15625 71.578125 \r\nL 64.15625 0 \r\nL 54.6875 0 \r\nL 54.6875 33.734375 \r\nL 17.484375 33.734375 \r\nL 17.484375 0 \r\nz\r\n\" id=\"ArialMT-72\"/>\r\n        <path d=\"M 3.328125 25.921875 \r\nQ 3.328125 40.328125 11.328125 47.265625 \r\nQ 18.015625 53.03125 27.640625 53.03125 \r\nQ 38.328125 53.03125 45.109375 46.015625 \r\nQ 51.90625 39.015625 51.90625 26.65625 \r\nQ 51.90625 16.65625 48.90625 10.90625 \r\nQ 45.90625 5.171875 40.15625 2 \r\nQ 34.421875 -1.171875 27.640625 -1.171875 \r\nQ 16.75 -1.171875 10.03125 5.8125 \r\nQ 3.328125 12.796875 3.328125 25.921875 \r\nz\r\nM 12.359375 25.921875 \r\nQ 12.359375 15.96875 16.703125 11.015625 \r\nQ 21.046875 6.0625 27.640625 6.0625 \r\nQ 34.1875 6.0625 38.53125 11.03125 \r\nQ 42.875 16.015625 42.875 26.21875 \r\nQ 42.875 35.84375 38.5 40.796875 \r\nQ 34.125 45.75 27.640625 45.75 \r\nQ 21.046875 45.75 16.703125 40.8125 \r\nQ 12.359375 35.890625 12.359375 25.921875 \r\nz\r\n\" id=\"ArialMT-111\"/>\r\n        <path d=\"M 6.59375 0 \r\nL 6.59375 51.859375 \r\nL 14.453125 51.859375 \r\nL 14.453125 44.578125 \r\nQ 16.890625 48.390625 20.9375 50.703125 \r\nQ 25 53.03125 30.171875 53.03125 \r\nQ 35.9375 53.03125 39.625 50.640625 \r\nQ 43.3125 48.25 44.828125 43.953125 \r\nQ 50.984375 53.03125 60.84375 53.03125 \r\nQ 68.5625 53.03125 72.703125 48.75 \r\nQ 76.859375 44.484375 76.859375 35.59375 \r\nL 76.859375 0 \r\nL 68.109375 0 \r\nL 68.109375 32.671875 \r\nQ 68.109375 37.9375 67.25 40.25 \r\nQ 66.40625 42.578125 64.15625 43.984375 \r\nQ 61.921875 45.40625 58.890625 45.40625 \r\nQ 53.421875 45.40625 49.796875 41.765625 \r\nQ 46.1875 38.140625 46.1875 30.125 \r\nL 46.1875 0 \r\nL 37.40625 0 \r\nL 37.40625 33.6875 \r\nQ 37.40625 39.546875 35.25 42.46875 \r\nQ 33.109375 45.40625 28.21875 45.40625 \r\nQ 24.515625 45.40625 21.359375 43.453125 \r\nQ 18.21875 41.5 16.796875 37.734375 \r\nQ 15.375 33.984375 15.375 26.90625 \r\nL 15.375 0 \r\nz\r\n\" id=\"ArialMT-109\"/>\r\n        <path d=\"M 42.09375 16.703125 \r\nL 51.171875 15.578125 \r\nQ 49.03125 7.625 43.21875 3.21875 \r\nQ 37.40625 -1.171875 28.375 -1.171875 \r\nQ 17 -1.171875 10.328125 5.828125 \r\nQ 3.65625 12.84375 3.65625 25.484375 \r\nQ 3.65625 38.578125 10.390625 45.796875 \r\nQ 17.140625 53.03125 27.875 53.03125 \r\nQ 38.28125 53.03125 44.875 45.953125 \r\nQ 51.46875 38.875 51.46875 26.03125 \r\nQ 51.46875 25.25 51.421875 23.6875 \r\nL 12.75 23.6875 \r\nQ 13.234375 15.140625 17.578125 10.59375 \r\nQ 21.921875 6.0625 28.421875 6.0625 \r\nQ 33.25 6.0625 36.671875 8.59375 \r\nQ 40.09375 11.140625 42.09375 16.703125 \r\nz\r\nM 13.234375 30.90625 \r\nL 42.1875 30.90625 \r\nQ 41.609375 37.453125 38.875 40.71875 \r\nQ 34.671875 45.796875 27.984375 45.796875 \r\nQ 21.921875 45.796875 17.796875 41.75 \r\nQ 13.671875 37.703125 13.234375 30.90625 \r\nz\r\n\" id=\"ArialMT-101\"/>\r\n        <path id=\"ArialMT-32\"/>\r\n        <path d=\"M 20.21875 0 \r\nL 1.21875 71.578125 \r\nL 10.9375 71.578125 \r\nL 21.828125 24.65625 \r\nQ 23.578125 17.28125 24.859375 10.015625 \r\nQ 27.59375 21.484375 28.078125 23.25 \r\nL 41.703125 71.578125 \r\nL 53.125 71.578125 \r\nL 63.375 35.359375 \r\nQ 67.234375 21.875 68.953125 10.015625 \r\nQ 70.3125 16.796875 72.515625 25.59375 \r\nL 83.734375 71.578125 \r\nL 93.265625 71.578125 \r\nL 73.640625 0 \r\nL 64.5 0 \r\nL 49.421875 54.546875 \r\nQ 47.515625 61.375 47.171875 62.9375 \r\nQ 46.046875 58.015625 45.0625 54.546875 \r\nL 29.890625 0 \r\nz\r\n\" id=\"ArialMT-87\"/>\r\n        <path d=\"M 6.640625 61.46875 \r\nL 6.640625 71.578125 \r\nL 15.4375 71.578125 \r\nL 15.4375 61.46875 \r\nz\r\nM 6.640625 0 \r\nL 6.640625 51.859375 \r\nL 15.4375 51.859375 \r\nL 15.4375 0 \r\nz\r\n\" id=\"ArialMT-105\"/>\r\n        <path d=\"M 6.59375 0 \r\nL 6.59375 51.859375 \r\nL 14.5 51.859375 \r\nL 14.5 44.484375 \r\nQ 20.21875 53.03125 31 53.03125 \r\nQ 35.6875 53.03125 39.625 51.34375 \r\nQ 43.5625 49.65625 45.515625 46.921875 \r\nQ 47.46875 44.1875 48.25 40.4375 \r\nQ 48.734375 37.984375 48.734375 31.890625 \r\nL 48.734375 0 \r\nL 39.9375 0 \r\nL 39.9375 31.546875 \r\nQ 39.9375 36.921875 38.90625 39.578125 \r\nQ 37.890625 42.234375 35.28125 43.8125 \r\nQ 32.671875 45.40625 29.15625 45.40625 \r\nQ 23.53125 45.40625 19.453125 41.84375 \r\nQ 15.375 38.28125 15.375 28.328125 \r\nL 15.375 0 \r\nz\r\n\" id=\"ArialMT-110\"/>\r\n       </defs>\r\n       <use xlink:href=\"#ArialMT-72\"/>\r\n       <use x=\"72.216797\" xlink:href=\"#ArialMT-111\"/>\r\n       <use x=\"127.832031\" xlink:href=\"#ArialMT-109\"/>\r\n       <use x=\"211.132812\" xlink:href=\"#ArialMT-101\"/>\r\n       <use x=\"266.748047\" xlink:href=\"#ArialMT-32\"/>\r\n       <use x=\"294.53125\" xlink:href=\"#ArialMT-87\"/>\r\n       <use x=\"388.916016\" xlink:href=\"#ArialMT-105\"/>\r\n       <use x=\"411.132812\" xlink:href=\"#ArialMT-110\"/>\r\n      </g>\r\n     </g>\r\n    </g>\r\n   </g>\r\n   <g id=\"matplotlib.axis_2\">\r\n    <g id=\"ytick_1\">\r\n     <g id=\"text_2\">\r\n      <!-- Visitor Goals -->\r\n      <g style=\"fill:#262626;\" transform=\"translate(32.255938 91.104422)scale(0.11 -0.11)\">\r\n       <defs>\r\n        <path d=\"M 28.171875 0 \r\nL 0.4375 71.578125 \r\nL 10.6875 71.578125 \r\nL 29.296875 19.578125 \r\nQ 31.546875 13.328125 33.0625 7.859375 \r\nQ 34.71875 13.71875 36.921875 19.578125 \r\nL 56.25 71.578125 \r\nL 65.921875 71.578125 \r\nL 37.890625 0 \r\nz\r\n\" id=\"ArialMT-86\"/>\r\n        <path d=\"M 3.078125 15.484375 \r\nL 11.765625 16.84375 \r\nQ 12.5 11.625 15.84375 8.84375 \r\nQ 19.1875 6.0625 25.203125 6.0625 \r\nQ 31.25 6.0625 34.171875 8.515625 \r\nQ 37.109375 10.984375 37.109375 14.3125 \r\nQ 37.109375 17.28125 34.515625 19 \r\nQ 32.71875 20.171875 25.53125 21.96875 \r\nQ 15.875 24.421875 12.140625 26.203125 \r\nQ 8.40625 27.984375 6.46875 31.125 \r\nQ 4.546875 34.28125 4.546875 38.09375 \r\nQ 4.546875 41.546875 6.125 44.5 \r\nQ 7.71875 47.46875 10.453125 49.421875 \r\nQ 12.5 50.921875 16.03125 51.96875 \r\nQ 19.578125 53.03125 23.640625 53.03125 \r\nQ 29.734375 53.03125 34.34375 51.265625 \r\nQ 38.96875 49.515625 41.15625 46.5 \r\nQ 43.359375 43.5 44.1875 38.484375 \r\nL 35.59375 37.3125 \r\nQ 35.015625 41.3125 32.203125 43.546875 \r\nQ 29.390625 45.796875 24.265625 45.796875 \r\nQ 18.21875 45.796875 15.625 43.796875 \r\nQ 13.03125 41.796875 13.03125 39.109375 \r\nQ 13.03125 37.40625 14.109375 36.03125 \r\nQ 15.1875 34.625 17.484375 33.6875 \r\nQ 18.796875 33.203125 25.25 31.453125 \r\nQ 34.578125 28.953125 38.25 27.359375 \r\nQ 41.9375 25.78125 44.03125 22.75 \r\nQ 46.140625 19.734375 46.140625 15.234375 \r\nQ 46.140625 10.84375 43.578125 6.953125 \r\nQ 41.015625 3.078125 36.171875 0.953125 \r\nQ 31.34375 -1.171875 25.25 -1.171875 \r\nQ 15.140625 -1.171875 9.84375 3.03125 \r\nQ 4.546875 7.234375 3.078125 15.484375 \r\nz\r\n\" id=\"ArialMT-115\"/>\r\n        <path d=\"M 25.78125 7.859375 \r\nL 27.046875 0.09375 \r\nQ 23.34375 -0.6875 20.40625 -0.6875 \r\nQ 15.625 -0.6875 12.984375 0.828125 \r\nQ 10.359375 2.34375 9.28125 4.8125 \r\nQ 8.203125 7.28125 8.203125 15.1875 \r\nL 8.203125 45.015625 \r\nL 1.765625 45.015625 \r\nL 1.765625 51.859375 \r\nL 8.203125 51.859375 \r\nL 8.203125 64.703125 \r\nL 16.9375 69.96875 \r\nL 16.9375 51.859375 \r\nL 25.78125 51.859375 \r\nL 25.78125 45.015625 \r\nL 16.9375 45.015625 \r\nL 16.9375 14.703125 \r\nQ 16.9375 10.9375 17.40625 9.859375 \r\nQ 17.875 8.796875 18.921875 8.15625 \r\nQ 19.96875 7.515625 21.921875 7.515625 \r\nQ 23.390625 7.515625 25.78125 7.859375 \r\nz\r\n\" id=\"ArialMT-116\"/>\r\n        <path d=\"M 6.5 0 \r\nL 6.5 51.859375 \r\nL 14.40625 51.859375 \r\nL 14.40625 44 \r\nQ 17.4375 49.515625 20 51.265625 \r\nQ 22.5625 53.03125 25.640625 53.03125 \r\nQ 30.078125 53.03125 34.671875 50.203125 \r\nL 31.640625 42.046875 \r\nQ 28.421875 43.953125 25.203125 43.953125 \r\nQ 22.3125 43.953125 20.015625 42.21875 \r\nQ 17.71875 40.484375 16.75 37.40625 \r\nQ 15.28125 32.71875 15.28125 27.15625 \r\nL 15.28125 0 \r\nz\r\n\" id=\"ArialMT-114\"/>\r\n        <path d=\"M 41.21875 28.078125 \r\nL 41.21875 36.46875 \r\nL 71.53125 36.53125 \r\nL 71.53125 9.96875 \r\nQ 64.546875 4.390625 57.125 1.578125 \r\nQ 49.703125 -1.21875 41.890625 -1.21875 \r\nQ 31.34375 -1.21875 22.71875 3.296875 \r\nQ 14.109375 7.8125 9.71875 16.359375 \r\nQ 5.328125 24.90625 5.328125 35.453125 \r\nQ 5.328125 45.90625 9.6875 54.953125 \r\nQ 14.0625 64.015625 22.265625 68.40625 \r\nQ 30.46875 72.796875 41.15625 72.796875 \r\nQ 48.921875 72.796875 55.1875 70.28125 \r\nQ 61.46875 67.78125 65.03125 63.28125 \r\nQ 68.609375 58.796875 70.453125 51.5625 \r\nL 61.921875 49.21875 \r\nQ 60.296875 54.6875 57.90625 57.8125 \r\nQ 55.515625 60.9375 51.0625 62.8125 \r\nQ 46.625 64.703125 41.21875 64.703125 \r\nQ 34.71875 64.703125 29.984375 62.71875 \r\nQ 25.25 60.75 22.34375 57.515625 \r\nQ 19.4375 54.296875 17.828125 50.4375 \r\nQ 15.09375 43.796875 15.09375 36.03125 \r\nQ 15.09375 26.46875 18.390625 20.015625 \r\nQ 21.6875 13.578125 27.984375 10.453125 \r\nQ 34.28125 7.328125 41.359375 7.328125 \r\nQ 47.515625 7.328125 53.375 9.6875 \r\nQ 59.234375 12.0625 62.25 14.75 \r\nL 62.25 28.078125 \r\nz\r\n\" id=\"ArialMT-71\"/>\r\n        <path d=\"M 40.4375 6.390625 \r\nQ 35.546875 2.25 31.03125 0.53125 \r\nQ 26.515625 -1.171875 21.34375 -1.171875 \r\nQ 12.796875 -1.171875 8.203125 3 \r\nQ 3.609375 7.171875 3.609375 13.671875 \r\nQ 3.609375 17.484375 5.34375 20.625 \r\nQ 7.078125 23.78125 9.890625 25.6875 \r\nQ 12.703125 27.59375 16.21875 28.5625 \r\nQ 18.796875 29.25 24.03125 29.890625 \r\nQ 34.671875 31.15625 39.703125 32.90625 \r\nQ 39.75 34.71875 39.75 35.203125 \r\nQ 39.75 40.578125 37.25 42.78125 \r\nQ 33.890625 45.75 27.25 45.75 \r\nQ 21.046875 45.75 18.09375 43.578125 \r\nQ 15.140625 41.40625 13.71875 35.890625 \r\nL 5.125 37.0625 \r\nQ 6.296875 42.578125 8.984375 45.96875 \r\nQ 11.671875 49.359375 16.75 51.1875 \r\nQ 21.828125 53.03125 28.515625 53.03125 \r\nQ 35.15625 53.03125 39.296875 51.46875 \r\nQ 43.453125 49.90625 45.40625 47.53125 \r\nQ 47.359375 45.171875 48.140625 41.546875 \r\nQ 48.578125 39.3125 48.578125 33.453125 \r\nL 48.578125 21.734375 \r\nQ 48.578125 9.46875 49.140625 6.21875 \r\nQ 49.703125 2.984375 51.375 0 \r\nL 42.1875 0 \r\nQ 40.828125 2.734375 40.4375 6.390625 \r\nz\r\nM 39.703125 26.03125 \r\nQ 34.90625 24.078125 25.34375 22.703125 \r\nQ 19.921875 21.921875 17.671875 20.9375 \r\nQ 15.4375 19.96875 14.203125 18.09375 \r\nQ 12.984375 16.21875 12.984375 13.921875 \r\nQ 12.984375 10.40625 15.640625 8.0625 \r\nQ 18.3125 5.71875 23.4375 5.71875 \r\nQ 28.515625 5.71875 32.46875 7.9375 \r\nQ 36.421875 10.15625 38.28125 14.015625 \r\nQ 39.703125 17 39.703125 22.796875 \r\nz\r\n\" id=\"ArialMT-97\"/>\r\n        <path d=\"M 6.390625 0 \r\nL 6.390625 71.578125 \r\nL 15.1875 71.578125 \r\nL 15.1875 0 \r\nz\r\n\" id=\"ArialMT-108\"/>\r\n       </defs>\r\n       <use xlink:href=\"#ArialMT-86\"/>\r\n       <use x=\"64.949219\" xlink:href=\"#ArialMT-105\"/>\r\n       <use x=\"87.166016\" xlink:href=\"#ArialMT-115\"/>\r\n       <use x=\"137.166016\" xlink:href=\"#ArialMT-105\"/>\r\n       <use x=\"159.382812\" xlink:href=\"#ArialMT-116\"/>\r\n       <use x=\"187.166016\" xlink:href=\"#ArialMT-111\"/>\r\n       <use x=\"242.78125\" xlink:href=\"#ArialMT-114\"/>\r\n       <use x=\"276.082031\" xlink:href=\"#ArialMT-32\"/>\r\n       <use x=\"303.865234\" xlink:href=\"#ArialMT-71\"/>\r\n       <use x=\"381.648438\" xlink:href=\"#ArialMT-111\"/>\r\n       <use x=\"437.263672\" xlink:href=\"#ArialMT-97\"/>\r\n       <use x=\"492.878906\" xlink:href=\"#ArialMT-108\"/>\r\n       <use x=\"515.095703\" xlink:href=\"#ArialMT-115\"/>\r\n      </g>\r\n     </g>\r\n    </g>\r\n    <g id=\"ytick_2\">\r\n     <g id=\"text_3\">\r\n      <!-- Home Goals -->\r\n      <g style=\"fill:#262626;\" transform=\"translate(33.28375 221.568422)scale(0.11 -0.11)\">\r\n       <use xlink:href=\"#ArialMT-72\"/>\r\n       <use x=\"72.216797\" xlink:href=\"#ArialMT-111\"/>\r\n       <use x=\"127.832031\" xlink:href=\"#ArialMT-109\"/>\r\n       <use x=\"211.132812\" xlink:href=\"#ArialMT-101\"/>\r\n       <use x=\"266.748047\" xlink:href=\"#ArialMT-32\"/>\r\n       <use x=\"294.53125\" xlink:href=\"#ArialMT-71\"/>\r\n       <use x=\"372.314453\" xlink:href=\"#ArialMT-111\"/>\r\n       <use x=\"427.929688\" xlink:href=\"#ArialMT-97\"/>\r\n       <use x=\"483.544922\" xlink:href=\"#ArialMT-108\"/>\r\n       <use x=\"505.761719\" xlink:href=\"#ArialMT-115\"/>\r\n      </g>\r\n     </g>\r\n    </g>\r\n    <g id=\"ytick_3\">\r\n     <g id=\"text_4\">\r\n      <!-- Home Win -->\r\n      <g style=\"fill:#262626;\" transform=\"translate(43.07375 352.032422)scale(0.11 -0.11)\">\r\n       <use xlink:href=\"#ArialMT-72\"/>\r\n       <use x=\"72.216797\" xlink:href=\"#ArialMT-111\"/>\r\n       <use x=\"127.832031\" xlink:href=\"#ArialMT-109\"/>\r\n       <use x=\"211.132812\" xlink:href=\"#ArialMT-101\"/>\r\n       <use x=\"266.748047\" xlink:href=\"#ArialMT-32\"/>\r\n       <use x=\"294.53125\" xlink:href=\"#ArialMT-87\"/>\r\n       <use x=\"388.916016\" xlink:href=\"#ArialMT-105\"/>\r\n       <use x=\"411.132812\" xlink:href=\"#ArialMT-110\"/>\r\n      </g>\r\n     </g>\r\n    </g>\r\n    <g id=\"ytick_4\">\r\n     <g id=\"text_5\">\r\n      <!-- Home Win Streak -->\r\n      <g style=\"fill:#262626;\" transform=\"translate(8.227813 482.496422)scale(0.11 -0.11)\">\r\n       <defs>\r\n        <path d=\"M 4.5 23 \r\nL 13.421875 23.78125 \r\nQ 14.0625 18.40625 16.375 14.96875 \r\nQ 18.703125 11.53125 23.578125 9.40625 \r\nQ 28.46875 7.28125 34.578125 7.28125 \r\nQ 39.984375 7.28125 44.140625 8.890625 \r\nQ 48.296875 10.5 50.3125 13.296875 \r\nQ 52.34375 16.109375 52.34375 19.4375 \r\nQ 52.34375 22.796875 50.390625 25.3125 \r\nQ 48.4375 27.828125 43.953125 29.546875 \r\nQ 41.0625 30.671875 31.203125 33.03125 \r\nQ 21.34375 35.40625 17.390625 37.5 \r\nQ 12.25 40.1875 9.734375 44.15625 \r\nQ 7.234375 48.140625 7.234375 53.078125 \r\nQ 7.234375 58.5 10.296875 63.203125 \r\nQ 13.375 67.921875 19.28125 70.359375 \r\nQ 25.203125 72.796875 32.421875 72.796875 \r\nQ 40.375 72.796875 46.453125 70.234375 \r\nQ 52.546875 67.671875 55.8125 62.6875 \r\nQ 59.078125 57.71875 59.328125 51.421875 \r\nL 50.25 50.734375 \r\nQ 49.515625 57.515625 45.28125 60.984375 \r\nQ 41.0625 64.453125 32.8125 64.453125 \r\nQ 24.21875 64.453125 20.28125 61.296875 \r\nQ 16.359375 58.15625 16.359375 53.71875 \r\nQ 16.359375 49.859375 19.140625 47.359375 \r\nQ 21.875 44.875 33.421875 42.265625 \r\nQ 44.96875 39.65625 49.265625 37.703125 \r\nQ 55.515625 34.8125 58.484375 30.390625 \r\nQ 61.46875 25.984375 61.46875 20.21875 \r\nQ 61.46875 14.5 58.203125 9.4375 \r\nQ 54.9375 4.390625 48.796875 1.578125 \r\nQ 42.671875 -1.21875 35.015625 -1.21875 \r\nQ 25.296875 -1.21875 18.71875 1.609375 \r\nQ 12.15625 4.4375 8.421875 10.125 \r\nQ 4.6875 15.828125 4.5 23 \r\nz\r\n\" id=\"ArialMT-83\"/>\r\n        <path d=\"M 6.640625 0 \r\nL 6.640625 71.578125 \r\nL 15.4375 71.578125 \r\nL 15.4375 30.765625 \r\nL 36.234375 51.859375 \r\nL 47.609375 51.859375 \r\nL 27.78125 32.625 \r\nL 49.609375 0 \r\nL 38.765625 0 \r\nL 21.625 26.515625 \r\nL 15.4375 20.5625 \r\nL 15.4375 0 \r\nz\r\n\" id=\"ArialMT-107\"/>\r\n       </defs>\r\n       <use xlink:href=\"#ArialMT-72\"/>\r\n       <use x=\"72.216797\" xlink:href=\"#ArialMT-111\"/>\r\n       <use x=\"127.832031\" xlink:href=\"#ArialMT-109\"/>\r\n       <use x=\"211.132812\" xlink:href=\"#ArialMT-101\"/>\r\n       <use x=\"266.748047\" xlink:href=\"#ArialMT-32\"/>\r\n       <use x=\"294.53125\" xlink:href=\"#ArialMT-87\"/>\r\n       <use x=\"388.916016\" xlink:href=\"#ArialMT-105\"/>\r\n       <use x=\"411.132812\" xlink:href=\"#ArialMT-110\"/>\r\n       <use x=\"466.748047\" xlink:href=\"#ArialMT-32\"/>\r\n       <use x=\"494.53125\" xlink:href=\"#ArialMT-83\"/>\r\n       <use x=\"561.230469\" xlink:href=\"#ArialMT-116\"/>\r\n       <use x=\"589.013672\" xlink:href=\"#ArialMT-114\"/>\r\n       <use x=\"622.314453\" xlink:href=\"#ArialMT-101\"/>\r\n       <use x=\"677.929688\" xlink:href=\"#ArialMT-97\"/>\r\n       <use x=\"733.544922\" xlink:href=\"#ArialMT-107\"/>\r\n      </g>\r\n     </g>\r\n    </g>\r\n    <g id=\"ytick_5\">\r\n     <g id=\"text_6\">\r\n      <!-- Visitor Win Streak -->\r\n      <g style=\"fill:#262626;\" transform=\"translate(7.2 612.960422)scale(0.11 -0.11)\">\r\n       <use xlink:href=\"#ArialMT-86\"/>\r\n       <use x=\"64.949219\" xlink:href=\"#ArialMT-105\"/>\r\n       <use x=\"87.166016\" xlink:href=\"#ArialMT-115\"/>\r\n       <use x=\"137.166016\" xlink:href=\"#ArialMT-105\"/>\r\n       <use x=\"159.382812\" xlink:href=\"#ArialMT-116\"/>\r\n       <use x=\"187.166016\" xlink:href=\"#ArialMT-111\"/>\r\n       <use x=\"242.78125\" xlink:href=\"#ArialMT-114\"/>\r\n       <use x=\"276.082031\" xlink:href=\"#ArialMT-32\"/>\r\n       <use x=\"303.865234\" xlink:href=\"#ArialMT-87\"/>\r\n       <use x=\"398.25\" xlink:href=\"#ArialMT-105\"/>\r\n       <use x=\"420.466797\" xlink:href=\"#ArialMT-110\"/>\r\n       <use x=\"476.082031\" xlink:href=\"#ArialMT-32\"/>\r\n       <use x=\"503.865234\" xlink:href=\"#ArialMT-83\"/>\r\n       <use x=\"570.564453\" xlink:href=\"#ArialMT-116\"/>\r\n       <use x=\"598.347656\" xlink:href=\"#ArialMT-114\"/>\r\n       <use x=\"631.648438\" xlink:href=\"#ArialMT-101\"/>\r\n       <use x=\"687.263672\" xlink:href=\"#ArialMT-97\"/>\r\n       <use x=\"742.878906\" xlink:href=\"#ArialMT-107\"/>\r\n      </g>\r\n     </g>\r\n    </g>\r\n   </g>\r\n   <g id=\"QuadMesh_1\">\r\n    <path clip-path=\"url(#p77235e9934)\" d=\"M 103.914531 21.935625 \r\nL 639.594531 21.935625 \r\nL 639.594531 152.399625 \r\nL 103.914531 152.399625 \r\nL 103.914531 21.935625 \r\n\" style=\"fill:#d05548;\"/>\r\n    <path clip-path=\"url(#p77235e9934)\" d=\"M 103.914531 152.399625 \r\nL 639.594531 152.399625 \r\nL 639.594531 282.863625 \r\nL 103.914531 282.863625 \r\nL 103.914531 152.399625 \r\n\" style=\"fill:#3b88be;\"/>\r\n    <path clip-path=\"url(#p77235e9934)\" d=\"M 103.914531 282.863625 \r\nL 639.594531 282.863625 \r\nL 639.594531 413.327625 \r\nL 103.914531 413.327625 \r\nL 103.914531 282.863625 \r\n\" style=\"fill:#053061;\"/>\r\n    <path clip-path=\"url(#p77235e9934)\" d=\"M 103.914531 413.327625 \r\nL 639.594531 413.327625 \r\nL 639.594531 543.791625 \r\nL 103.914531 543.791625 \r\nL 103.914531 413.327625 \r\n\" style=\"fill:#f2f5f6;\"/>\r\n    <path clip-path=\"url(#p77235e9934)\" d=\"M 103.914531 543.791625 \r\nL 639.594531 543.791625 \r\nL 639.594531 674.255625 \r\nL 103.914531 674.255625 \r\nL 103.914531 543.791625 \r\n\" style=\"fill:#f8f2ef;\"/>\r\n   </g>\r\n   <g id=\"text_7\">\r\n    <!-- -0.63 -->\r\n    <g style=\"fill:#ffffff;\" transform=\"translate(358.080156 90.269812)scale(0.12 -0.12)\">\r\n     <defs>\r\n      <path d=\"M 3.171875 21.484375 \r\nL 3.171875 30.328125 \r\nL 30.171875 30.328125 \r\nL 30.171875 21.484375 \r\nz\r\n\" id=\"ArialMT-45\"/>\r\n      <path d=\"M 4.15625 35.296875 \r\nQ 4.15625 48 6.765625 55.734375 \r\nQ 9.375 63.484375 14.515625 67.671875 \r\nQ 19.671875 71.875 27.484375 71.875 \r\nQ 33.25 71.875 37.59375 69.546875 \r\nQ 41.9375 67.234375 44.765625 62.859375 \r\nQ 47.609375 58.5 49.21875 52.21875 \r\nQ 50.828125 45.953125 50.828125 35.296875 \r\nQ 50.828125 22.703125 48.234375 14.96875 \r\nQ 45.65625 7.234375 40.5 3 \r\nQ 35.359375 -1.21875 27.484375 -1.21875 \r\nQ 17.140625 -1.21875 11.234375 6.203125 \r\nQ 4.15625 15.140625 4.15625 35.296875 \r\nz\r\nM 13.1875 35.296875 \r\nQ 13.1875 17.671875 17.3125 11.828125 \r\nQ 21.4375 6 27.484375 6 \r\nQ 33.546875 6 37.671875 11.859375 \r\nQ 41.796875 17.71875 41.796875 35.296875 \r\nQ 41.796875 52.984375 37.671875 58.78125 \r\nQ 33.546875 64.59375 27.390625 64.59375 \r\nQ 21.34375 64.59375 17.71875 59.46875 \r\nQ 13.1875 52.9375 13.1875 35.296875 \r\nz\r\n\" id=\"ArialMT-48\"/>\r\n      <path d=\"M 9.078125 0 \r\nL 9.078125 10.015625 \r\nL 19.09375 10.015625 \r\nL 19.09375 0 \r\nz\r\n\" id=\"ArialMT-46\"/>\r\n      <path d=\"M 49.75 54.046875 \r\nL 41.015625 53.375 \r\nQ 39.84375 58.546875 37.703125 60.890625 \r\nQ 34.125 64.65625 28.90625 64.65625 \r\nQ 24.703125 64.65625 21.53125 62.3125 \r\nQ 17.390625 59.28125 14.984375 53.46875 \r\nQ 12.59375 47.65625 12.5 36.921875 \r\nQ 15.671875 41.75 20.265625 44.09375 \r\nQ 24.859375 46.4375 29.890625 46.4375 \r\nQ 38.671875 46.4375 44.84375 39.96875 \r\nQ 51.03125 33.5 51.03125 23.25 \r\nQ 51.03125 16.5 48.125 10.71875 \r\nQ 45.21875 4.9375 40.140625 1.859375 \r\nQ 35.0625 -1.21875 28.609375 -1.21875 \r\nQ 17.625 -1.21875 10.6875 6.859375 \r\nQ 3.765625 14.9375 3.765625 33.5 \r\nQ 3.765625 54.25 11.421875 63.671875 \r\nQ 18.109375 71.875 29.4375 71.875 \r\nQ 37.890625 71.875 43.28125 67.140625 \r\nQ 48.6875 62.40625 49.75 54.046875 \r\nz\r\nM 13.875 23.1875 \r\nQ 13.875 18.65625 15.796875 14.5 \r\nQ 17.71875 10.359375 21.1875 8.171875 \r\nQ 24.65625 6 28.46875 6 \r\nQ 34.03125 6 38.03125 10.484375 \r\nQ 42.046875 14.984375 42.046875 22.703125 \r\nQ 42.046875 30.125 38.078125 34.390625 \r\nQ 34.125 38.671875 28.125 38.671875 \r\nQ 22.171875 38.671875 18.015625 34.390625 \r\nQ 13.875 30.125 13.875 23.1875 \r\nz\r\n\" id=\"ArialMT-54\"/>\r\n      <path d=\"M 4.203125 18.890625 \r\nL 12.984375 20.0625 \r\nQ 14.5 12.59375 18.140625 9.296875 \r\nQ 21.78125 6 27 6 \r\nQ 33.203125 6 37.46875 10.296875 \r\nQ 41.75 14.59375 41.75 20.953125 \r\nQ 41.75 27 37.796875 30.921875 \r\nQ 33.84375 34.859375 27.734375 34.859375 \r\nQ 25.25 34.859375 21.53125 33.890625 \r\nL 22.515625 41.609375 \r\nQ 23.390625 41.5 23.921875 41.5 \r\nQ 29.546875 41.5 34.03125 44.421875 \r\nQ 38.53125 47.359375 38.53125 53.46875 \r\nQ 38.53125 58.296875 35.25 61.46875 \r\nQ 31.984375 64.65625 26.8125 64.65625 \r\nQ 21.6875 64.65625 18.265625 61.421875 \r\nQ 14.84375 58.203125 13.875 51.765625 \r\nL 5.078125 53.328125 \r\nQ 6.6875 62.15625 12.390625 67.015625 \r\nQ 18.109375 71.875 26.609375 71.875 \r\nQ 32.46875 71.875 37.390625 69.359375 \r\nQ 42.328125 66.84375 44.9375 62.5 \r\nQ 47.5625 58.15625 47.5625 53.265625 \r\nQ 47.5625 48.640625 45.0625 44.828125 \r\nQ 42.578125 41.015625 37.703125 38.765625 \r\nQ 44.046875 37.3125 47.5625 32.6875 \r\nQ 51.078125 28.078125 51.078125 21.140625 \r\nQ 51.078125 11.765625 44.234375 5.25 \r\nQ 37.40625 -1.265625 26.953125 -1.265625 \r\nQ 17.53125 -1.265625 11.296875 4.34375 \r\nQ 5.078125 9.96875 4.203125 18.890625 \r\nz\r\n\" id=\"ArialMT-51\"/>\r\n     </defs>\r\n     <use xlink:href=\"#ArialMT-45\"/>\r\n     <use x=\"33.300781\" xlink:href=\"#ArialMT-48\"/>\r\n     <use x=\"88.916016\" xlink:href=\"#ArialMT-46\"/>\r\n     <use x=\"116.699219\" xlink:href=\"#ArialMT-54\"/>\r\n     <use x=\"172.314453\" xlink:href=\"#ArialMT-51\"/>\r\n    </g>\r\n   </g>\r\n   <g id=\"text_8\">\r\n    <!-- 0.65 -->\r\n    <g style=\"fill:#ffffff;\" transform=\"translate(360.077969 220.733812)scale(0.12 -0.12)\">\r\n     <defs>\r\n      <path d=\"M 4.15625 18.75 \r\nL 13.375 19.53125 \r\nQ 14.40625 12.796875 18.140625 9.390625 \r\nQ 21.875 6 27.15625 6 \r\nQ 33.5 6 37.890625 10.78125 \r\nQ 42.28125 15.578125 42.28125 23.484375 \r\nQ 42.28125 31 38.0625 35.34375 \r\nQ 33.84375 39.703125 27 39.703125 \r\nQ 22.75 39.703125 19.328125 37.765625 \r\nQ 15.921875 35.84375 13.96875 32.765625 \r\nL 5.71875 33.84375 \r\nL 12.640625 70.609375 \r\nL 48.25 70.609375 \r\nL 48.25 62.203125 \r\nL 19.671875 62.203125 \r\nL 15.828125 42.96875 \r\nQ 22.265625 47.46875 29.34375 47.46875 \r\nQ 38.71875 47.46875 45.15625 40.96875 \r\nQ 51.609375 34.46875 51.609375 24.265625 \r\nQ 51.609375 14.546875 45.953125 7.46875 \r\nQ 39.0625 -1.21875 27.15625 -1.21875 \r\nQ 17.390625 -1.21875 11.203125 4.25 \r\nQ 5.03125 9.71875 4.15625 18.75 \r\nz\r\n\" id=\"ArialMT-53\"/>\r\n     </defs>\r\n     <use xlink:href=\"#ArialMT-48\"/>\r\n     <use x=\"55.615234\" xlink:href=\"#ArialMT-46\"/>\r\n     <use x=\"83.398438\" xlink:href=\"#ArialMT-54\"/>\r\n     <use x=\"139.013672\" xlink:href=\"#ArialMT-53\"/>\r\n    </g>\r\n   </g>\r\n   <g id=\"text_9\">\r\n    <!-- 1 -->\r\n    <g style=\"fill:#ffffff;\" transform=\"translate(368.417969 351.197813)scale(0.12 -0.12)\">\r\n     <defs>\r\n      <path d=\"M 37.25 0 \r\nL 28.46875 0 \r\nL 28.46875 56 \r\nQ 25.296875 52.984375 20.140625 49.953125 \r\nQ 14.984375 46.921875 10.890625 45.40625 \r\nL 10.890625 53.90625 \r\nQ 18.265625 57.375 23.78125 62.296875 \r\nQ 29.296875 67.234375 31.59375 71.875 \r\nL 37.25 71.875 \r\nz\r\n\" id=\"ArialMT-49\"/>\r\n     </defs>\r\n     <use xlink:href=\"#ArialMT-49\"/>\r\n    </g>\r\n   </g>\r\n   <g id=\"text_10\">\r\n    <!-- 0.024 -->\r\n    <g style=\"fill:#262626;\" transform=\"translate(356.741406 481.661813)scale(0.12 -0.12)\">\r\n     <defs>\r\n      <path d=\"M 50.34375 8.453125 \r\nL 50.34375 0 \r\nL 3.03125 0 \r\nQ 2.9375 3.171875 4.046875 6.109375 \r\nQ 5.859375 10.9375 9.828125 15.625 \r\nQ 13.8125 20.3125 21.34375 26.46875 \r\nQ 33.015625 36.03125 37.109375 41.625 \r\nQ 41.21875 47.21875 41.21875 52.203125 \r\nQ 41.21875 57.421875 37.46875 61 \r\nQ 33.734375 64.59375 27.734375 64.59375 \r\nQ 21.390625 64.59375 17.578125 60.78125 \r\nQ 13.765625 56.984375 13.71875 50.25 \r\nL 4.6875 51.171875 \r\nQ 5.609375 61.28125 11.65625 66.578125 \r\nQ 17.71875 71.875 27.9375 71.875 \r\nQ 38.234375 71.875 44.234375 66.15625 \r\nQ 50.25 60.453125 50.25 52 \r\nQ 50.25 47.703125 48.484375 43.546875 \r\nQ 46.734375 39.40625 42.65625 34.8125 \r\nQ 38.578125 30.21875 29.109375 22.21875 \r\nQ 21.1875 15.578125 18.9375 13.203125 \r\nQ 16.703125 10.84375 15.234375 8.453125 \r\nz\r\n\" id=\"ArialMT-50\"/>\r\n      <path d=\"M 32.328125 0 \r\nL 32.328125 17.140625 \r\nL 1.265625 17.140625 \r\nL 1.265625 25.203125 \r\nL 33.9375 71.578125 \r\nL 41.109375 71.578125 \r\nL 41.109375 25.203125 \r\nL 50.78125 25.203125 \r\nL 50.78125 17.140625 \r\nL 41.109375 17.140625 \r\nL 41.109375 0 \r\nz\r\nM 32.328125 25.203125 \r\nL 32.328125 57.46875 \r\nL 9.90625 25.203125 \r\nz\r\n\" id=\"ArialMT-52\"/>\r\n     </defs>\r\n     <use xlink:href=\"#ArialMT-48\"/>\r\n     <use x=\"55.615234\" xlink:href=\"#ArialMT-46\"/>\r\n     <use x=\"83.398438\" xlink:href=\"#ArialMT-48\"/>\r\n     <use x=\"139.013672\" xlink:href=\"#ArialMT-50\"/>\r\n     <use x=\"194.628906\" xlink:href=\"#ArialMT-52\"/>\r\n    </g>\r\n   </g>\r\n   <g id=\"text_11\">\r\n    <!-- -0.032 -->\r\n    <g style=\"fill:#262626;\" transform=\"translate(354.743594 612.125813)scale(0.12 -0.12)\">\r\n     <use xlink:href=\"#ArialMT-45\"/>\r\n     <use x=\"33.300781\" xlink:href=\"#ArialMT-48\"/>\r\n     <use x=\"88.916016\" xlink:href=\"#ArialMT-46\"/>\r\n     <use x=\"116.699219\" xlink:href=\"#ArialMT-48\"/>\r\n     <use x=\"172.314453\" xlink:href=\"#ArialMT-51\"/>\r\n     <use x=\"227.929688\" xlink:href=\"#ArialMT-50\"/>\r\n    </g>\r\n   </g>\r\n   <g id=\"text_12\">\r\n    <!-- Correlation Heatmap -->\r\n    <g style=\"fill:#262626;\" transform=\"translate(316.398906 15.935625)scale(0.12 -0.12)\">\r\n     <defs>\r\n      <path d=\"M 58.796875 25.09375 \r\nL 68.265625 22.703125 \r\nQ 65.28125 11.03125 57.546875 4.90625 \r\nQ 49.8125 -1.21875 38.625 -1.21875 \r\nQ 27.046875 -1.21875 19.796875 3.484375 \r\nQ 12.546875 8.203125 8.765625 17.140625 \r\nQ 4.984375 26.078125 4.984375 36.328125 \r\nQ 4.984375 47.515625 9.25 55.828125 \r\nQ 13.53125 64.15625 21.40625 68.46875 \r\nQ 29.296875 72.796875 38.765625 72.796875 \r\nQ 49.515625 72.796875 56.828125 67.328125 \r\nQ 64.15625 61.859375 67.046875 51.953125 \r\nL 57.71875 49.75 \r\nQ 55.21875 57.5625 50.484375 61.125 \r\nQ 45.75 64.703125 38.578125 64.703125 \r\nQ 30.328125 64.703125 24.78125 60.734375 \r\nQ 19.234375 56.78125 16.984375 50.109375 \r\nQ 14.75 43.453125 14.75 36.375 \r\nQ 14.75 27.25 17.40625 20.4375 \r\nQ 20.0625 13.625 25.671875 10.25 \r\nQ 31.296875 6.890625 37.84375 6.890625 \r\nQ 45.796875 6.890625 51.3125 11.46875 \r\nQ 56.84375 16.0625 58.796875 25.09375 \r\nz\r\n\" id=\"ArialMT-67\"/>\r\n      <path d=\"M 6.59375 -19.875 \r\nL 6.59375 51.859375 \r\nL 14.59375 51.859375 \r\nL 14.59375 45.125 \r\nQ 17.4375 49.078125 21 51.046875 \r\nQ 24.5625 53.03125 29.640625 53.03125 \r\nQ 36.28125 53.03125 41.359375 49.609375 \r\nQ 46.4375 46.1875 49.015625 39.953125 \r\nQ 51.609375 33.734375 51.609375 26.3125 \r\nQ 51.609375 18.359375 48.75 11.984375 \r\nQ 45.90625 5.609375 40.453125 2.21875 \r\nQ 35.015625 -1.171875 29 -1.171875 \r\nQ 24.609375 -1.171875 21.109375 0.6875 \r\nQ 17.625 2.546875 15.375 5.375 \r\nL 15.375 -19.875 \r\nz\r\nM 14.546875 25.640625 \r\nQ 14.546875 15.625 18.59375 10.84375 \r\nQ 22.65625 6.0625 28.421875 6.0625 \r\nQ 34.28125 6.0625 38.453125 11.015625 \r\nQ 42.625 15.96875 42.625 26.375 \r\nQ 42.625 36.28125 38.546875 41.203125 \r\nQ 34.46875 46.140625 28.8125 46.140625 \r\nQ 23.1875 46.140625 18.859375 40.890625 \r\nQ 14.546875 35.640625 14.546875 25.640625 \r\nz\r\n\" id=\"ArialMT-112\"/>\r\n     </defs>\r\n     <use xlink:href=\"#ArialMT-67\"/>\r\n     <use x=\"72.216797\" xlink:href=\"#ArialMT-111\"/>\r\n     <use x=\"127.832031\" xlink:href=\"#ArialMT-114\"/>\r\n     <use x=\"161.132812\" xlink:href=\"#ArialMT-114\"/>\r\n     <use x=\"194.433594\" xlink:href=\"#ArialMT-101\"/>\r\n     <use x=\"250.048828\" xlink:href=\"#ArialMT-108\"/>\r\n     <use x=\"272.265625\" xlink:href=\"#ArialMT-97\"/>\r\n     <use x=\"327.880859\" xlink:href=\"#ArialMT-116\"/>\r\n     <use x=\"355.664062\" xlink:href=\"#ArialMT-105\"/>\r\n     <use x=\"377.880859\" xlink:href=\"#ArialMT-111\"/>\r\n     <use x=\"433.496094\" xlink:href=\"#ArialMT-110\"/>\r\n     <use x=\"489.111328\" xlink:href=\"#ArialMT-32\"/>\r\n     <use x=\"516.894531\" xlink:href=\"#ArialMT-72\"/>\r\n     <use x=\"589.111328\" xlink:href=\"#ArialMT-101\"/>\r\n     <use x=\"644.726562\" xlink:href=\"#ArialMT-97\"/>\r\n     <use x=\"700.341797\" xlink:href=\"#ArialMT-116\"/>\r\n     <use x=\"728.125\" xlink:href=\"#ArialMT-109\"/>\r\n     <use x=\"811.425781\" xlink:href=\"#ArialMT-97\"/>\r\n     <use x=\"867.041016\" xlink:href=\"#ArialMT-112\"/>\r\n    </g>\r\n   </g>\r\n  </g>\r\n  <g id=\"axes_2\">\r\n   <g id=\"patch_3\">\r\n    <path clip-path=\"url(#p798ab60dce)\" d=\"M 673.074531 674.255625 \r\nL 673.074531 671.7075 \r\nL 673.074531 24.48375 \r\nL 673.074531 21.935625 \r\nL 705.690531 21.935625 \r\nL 705.690531 24.48375 \r\nL 705.690531 671.7075 \r\nL 705.690531 674.255625 \r\nz\r\n\" style=\"fill:#eaeaf2;stroke:#eaeaf2;stroke-linejoin:miter;stroke-width:0.01;\"/>\r\n   </g>\r\n   <g id=\"matplotlib.axis_3\"/>\r\n   <g id=\"matplotlib.axis_4\">\r\n    <g id=\"ytick_6\">\r\n     <g id=\"line2d_1\">\r\n      <defs>\r\n       <path d=\"M 0 0 \r\nL 6 0 \r\n\" id=\"m7cc1fb6146\" style=\"stroke:#262626;stroke-width:1.25;\"/>\r\n      </defs>\r\n      <g>\r\n       <use style=\"fill:#262626;stroke:#262626;stroke-width:1.25;\" x=\"705.690531\" xlink:href=\"#m7cc1fb6146\" y=\"674.255625\"/>\r\n      </g>\r\n     </g>\r\n     <g id=\"text_13\">\r\n      <!-- −1.00 -->\r\n      <g style=\"fill:#262626;\" transform=\"translate(715.190531 678.192422)scale(0.11 -0.11)\">\r\n       <defs>\r\n        <path d=\"M 52.828125 31.203125 \r\nL 5.5625 31.203125 \r\nL 5.5625 39.40625 \r\nL 52.828125 39.40625 \r\nz\r\n\" id=\"ArialMT-8722\"/>\r\n       </defs>\r\n       <use xlink:href=\"#ArialMT-8722\"/>\r\n       <use x=\"58.398438\" xlink:href=\"#ArialMT-49\"/>\r\n       <use x=\"114.013672\" xlink:href=\"#ArialMT-46\"/>\r\n       <use x=\"141.796875\" xlink:href=\"#ArialMT-48\"/>\r\n       <use x=\"197.412109\" xlink:href=\"#ArialMT-48\"/>\r\n      </g>\r\n     </g>\r\n    </g>\r\n    <g id=\"ytick_7\">\r\n     <g id=\"line2d_2\">\r\n      <g>\r\n       <use style=\"fill:#262626;stroke:#262626;stroke-width:1.25;\" x=\"705.690531\" xlink:href=\"#m7cc1fb6146\" y=\"592.715625\"/>\r\n      </g>\r\n     </g>\r\n     <g id=\"text_14\">\r\n      <!-- −0.75 -->\r\n      <g style=\"fill:#262626;\" transform=\"translate(715.190531 596.652422)scale(0.11 -0.11)\">\r\n       <defs>\r\n        <path d=\"M 4.734375 62.203125 \r\nL 4.734375 70.65625 \r\nL 51.078125 70.65625 \r\nL 51.078125 63.8125 \r\nQ 44.234375 56.546875 37.515625 44.484375 \r\nQ 30.8125 32.421875 27.15625 19.671875 \r\nQ 24.515625 10.6875 23.78125 0 \r\nL 14.75 0 \r\nQ 14.890625 8.453125 18.0625 20.40625 \r\nQ 21.234375 32.375 27.171875 43.484375 \r\nQ 33.109375 54.59375 39.796875 62.203125 \r\nz\r\n\" id=\"ArialMT-55\"/>\r\n       </defs>\r\n       <use xlink:href=\"#ArialMT-8722\"/>\r\n       <use x=\"58.398438\" xlink:href=\"#ArialMT-48\"/>\r\n       <use x=\"114.013672\" xlink:href=\"#ArialMT-46\"/>\r\n       <use x=\"141.796875\" xlink:href=\"#ArialMT-55\"/>\r\n       <use x=\"197.412109\" xlink:href=\"#ArialMT-53\"/>\r\n      </g>\r\n     </g>\r\n    </g>\r\n    <g id=\"ytick_8\">\r\n     <g id=\"line2d_3\">\r\n      <g>\r\n       <use style=\"fill:#262626;stroke:#262626;stroke-width:1.25;\" x=\"705.690531\" xlink:href=\"#m7cc1fb6146\" y=\"511.175625\"/>\r\n      </g>\r\n     </g>\r\n     <g id=\"text_15\">\r\n      <!-- −0.50 -->\r\n      <g style=\"fill:#262626;\" transform=\"translate(715.190531 515.112422)scale(0.11 -0.11)\">\r\n       <use xlink:href=\"#ArialMT-8722\"/>\r\n       <use x=\"58.398438\" xlink:href=\"#ArialMT-48\"/>\r\n       <use x=\"114.013672\" xlink:href=\"#ArialMT-46\"/>\r\n       <use x=\"141.796875\" xlink:href=\"#ArialMT-53\"/>\r\n       <use x=\"197.412109\" xlink:href=\"#ArialMT-48\"/>\r\n      </g>\r\n     </g>\r\n    </g>\r\n    <g id=\"ytick_9\">\r\n     <g id=\"line2d_4\">\r\n      <g>\r\n       <use style=\"fill:#262626;stroke:#262626;stroke-width:1.25;\" x=\"705.690531\" xlink:href=\"#m7cc1fb6146\" y=\"429.635625\"/>\r\n      </g>\r\n     </g>\r\n     <g id=\"text_16\">\r\n      <!-- −0.25 -->\r\n      <g style=\"fill:#262626;\" transform=\"translate(715.190531 433.572422)scale(0.11 -0.11)\">\r\n       <use xlink:href=\"#ArialMT-8722\"/>\r\n       <use x=\"58.398438\" xlink:href=\"#ArialMT-48\"/>\r\n       <use x=\"114.013672\" xlink:href=\"#ArialMT-46\"/>\r\n       <use x=\"141.796875\" xlink:href=\"#ArialMT-50\"/>\r\n       <use x=\"197.412109\" xlink:href=\"#ArialMT-53\"/>\r\n      </g>\r\n     </g>\r\n    </g>\r\n    <g id=\"ytick_10\">\r\n     <g id=\"line2d_5\">\r\n      <g>\r\n       <use style=\"fill:#262626;stroke:#262626;stroke-width:1.25;\" x=\"705.690531\" xlink:href=\"#m7cc1fb6146\" y=\"348.095625\"/>\r\n      </g>\r\n     </g>\r\n     <g id=\"text_17\">\r\n      <!-- 0.00 -->\r\n      <g style=\"fill:#262626;\" transform=\"translate(715.190531 352.032422)scale(0.11 -0.11)\">\r\n       <use xlink:href=\"#ArialMT-48\"/>\r\n       <use x=\"55.615234\" xlink:href=\"#ArialMT-46\"/>\r\n       <use x=\"83.398438\" xlink:href=\"#ArialMT-48\"/>\r\n       <use x=\"139.013672\" xlink:href=\"#ArialMT-48\"/>\r\n      </g>\r\n     </g>\r\n    </g>\r\n    <g id=\"ytick_11\">\r\n     <g id=\"line2d_6\">\r\n      <g>\r\n       <use style=\"fill:#262626;stroke:#262626;stroke-width:1.25;\" x=\"705.690531\" xlink:href=\"#m7cc1fb6146\" y=\"266.555625\"/>\r\n      </g>\r\n     </g>\r\n     <g id=\"text_18\">\r\n      <!-- 0.25 -->\r\n      <g style=\"fill:#262626;\" transform=\"translate(715.190531 270.492422)scale(0.11 -0.11)\">\r\n       <use xlink:href=\"#ArialMT-48\"/>\r\n       <use x=\"55.615234\" xlink:href=\"#ArialMT-46\"/>\r\n       <use x=\"83.398438\" xlink:href=\"#ArialMT-50\"/>\r\n       <use x=\"139.013672\" xlink:href=\"#ArialMT-53\"/>\r\n      </g>\r\n     </g>\r\n    </g>\r\n    <g id=\"ytick_12\">\r\n     <g id=\"line2d_7\">\r\n      <g>\r\n       <use style=\"fill:#262626;stroke:#262626;stroke-width:1.25;\" x=\"705.690531\" xlink:href=\"#m7cc1fb6146\" y=\"185.015625\"/>\r\n      </g>\r\n     </g>\r\n     <g id=\"text_19\">\r\n      <!-- 0.50 -->\r\n      <g style=\"fill:#262626;\" transform=\"translate(715.190531 188.952422)scale(0.11 -0.11)\">\r\n       <use xlink:href=\"#ArialMT-48\"/>\r\n       <use x=\"55.615234\" xlink:href=\"#ArialMT-46\"/>\r\n       <use x=\"83.398438\" xlink:href=\"#ArialMT-53\"/>\r\n       <use x=\"139.013672\" xlink:href=\"#ArialMT-48\"/>\r\n      </g>\r\n     </g>\r\n    </g>\r\n    <g id=\"ytick_13\">\r\n     <g id=\"line2d_8\">\r\n      <g>\r\n       <use style=\"fill:#262626;stroke:#262626;stroke-width:1.25;\" x=\"705.690531\" xlink:href=\"#m7cc1fb6146\" y=\"103.475625\"/>\r\n      </g>\r\n     </g>\r\n     <g id=\"text_20\">\r\n      <!-- 0.75 -->\r\n      <g style=\"fill:#262626;\" transform=\"translate(715.190531 107.412422)scale(0.11 -0.11)\">\r\n       <use xlink:href=\"#ArialMT-48\"/>\r\n       <use x=\"55.615234\" xlink:href=\"#ArialMT-46\"/>\r\n       <use x=\"83.398438\" xlink:href=\"#ArialMT-55\"/>\r\n       <use x=\"139.013672\" xlink:href=\"#ArialMT-53\"/>\r\n      </g>\r\n     </g>\r\n    </g>\r\n    <g id=\"ytick_14\">\r\n     <g id=\"line2d_9\">\r\n      <g>\r\n       <use style=\"fill:#262626;stroke:#262626;stroke-width:1.25;\" x=\"705.690531\" xlink:href=\"#m7cc1fb6146\" y=\"21.935625\"/>\r\n      </g>\r\n     </g>\r\n     <g id=\"text_21\">\r\n      <!-- 1.00 -->\r\n      <g style=\"fill:#262626;\" transform=\"translate(715.190531 25.872422)scale(0.11 -0.11)\">\r\n       <use xlink:href=\"#ArialMT-49\"/>\r\n       <use x=\"55.615234\" xlink:href=\"#ArialMT-46\"/>\r\n       <use x=\"83.398438\" xlink:href=\"#ArialMT-48\"/>\r\n       <use x=\"139.013672\" xlink:href=\"#ArialMT-48\"/>\r\n      </g>\r\n     </g>\r\n    </g>\r\n   </g>\r\n   <image height=\"652\" id=\"image26c551d89d\" transform=\"scale(1 -1)translate(0 -652)\" width=\"33\" x=\"673\" xlink:href=\"data:image/png;base64,\r\niVBORw0KGgoAAAANSUhEUgAAACEAAAKMCAYAAABl+dF2AAAECElEQVR4nO2dwXXcMBDFKO30kfLS/z0r5UDjuQTiAFSAN/P5Rcmxc/1df951mPu0wFprzec6rSCZhEJiPtf5fVgmcVpBMgmFRMGEggkKiYIJBRMUEgUTxmBhcHBIFExQSFTbUDBBIVEwoWCCQqJgQsEEhUTBhCYBCol6AhQSnQ4omKCQKJhQMEEhUTChYIJCYu7WsZlLcEYVk1BIzN06NnN9znucN1gSiXoCFBL1BMx1n/c4b7AkEgUTakxQSHSfgI4oKCTmulvHWmutuTuiG4VEDzBoEqCQqCdAIdHpgLl7lG8UEl35oSs/KCRqTOiIgkKinoDeykEh0ZUfenaAQqIHGCgk+mkg1JigkKgnoEmAQqLGhLk+n9MOjkkoJOoJmLsjulFIFExQSLQO6FEOComCCU0CFBJ9GoAaExQS9QQ0CVBI1BMwdx9JNgqJegIUEq0DakxQSBRMaBKgkKgnYK67m9VaSyIxq3VsZnVENwqJfkwNHVFQSLQOUEh0s4KCCQqJ1gEdUVBIFExoEqCQ6MoPvYuCQqKeAIVEnxChngCFRMGEGhMUEvUEdMcEhUQ9AU0CFBJ9s4KCCQqJWdd5j/MGSyLROmDeJrFRSBRMmNX/grVRSPQuCjUmKCRqTGgSoJBoHVBjgkKiYIJCoosuFExQSFTb0MsPKCTqCWgSoJBoHdCzAxQSBRMUEl35oWCCQqLahoIJCol5a8zNvO9pBckkFBLzCPbhmMT5OUgmoZCYR7APxyTejuhGIVEwQSFRbUPBBIVEtQ3znDZYkkkoJHoDgxoTFBI1JtSYoJCoMaHPRaCQ6OUHFBLdJ6DGBIXEPOv8PhyTKJg/KCRqTCiYoJCoMaFggkKiNzBQSMxX8KnGMYmC+YNCYr6tY1MwQSFRY0LBBIVEjQm9lYNCYr6CfTgmUWP+oJCY7/ltOCahkOh0QI0JComCCTUmKCQKJsxTY24UEvUEdERBIdFHEqgxQSFRY4JCotqGGhMUEn0agCYBConWAU0CFBKtA5oEKCRaBzQJUEi0DlBItA6Yf01io5AomNAkQCHRNysomKCQaB3QJEAhMd/n/K81KCahkOh0QJMAhURvYFAwQSHROqBJgEKidUCTAIXEvK1j0z+FBIVEf0cXFBL1BNQToJCY9/wnK8skasyNQqKegJ4doJBoHdDvd4BComBCkwCFRI9yUEh00YVefkAhUU9ADzBQSLQO6MoPComCCU0CFBI9ykEh0ZUf6glQSNQTMO/zPe3gmIRConVAkwCFxLzf1rHWKpi/KCRaBzQJUEi0DlBItA6Yp0lsFBIFE5oEKCS68kPBBIVE64AmAQqJeftLHJuCCQqJ1gEKid7AoDsmKCTqCWgSoJBoHdAkQCHxH9szaro1jcBwAAAAAElFTkSuQmCC\" y=\"-22\"/>\r\n   <g id=\"patch_4\">\r\n    <path d=\"M 673.074531 674.255625 \r\nL 673.074531 671.7075 \r\nL 673.074531 24.48375 \r\nL 673.074531 21.935625 \r\nL 705.690531 21.935625 \r\nL 705.690531 24.48375 \r\nL 705.690531 671.7075 \r\nL 705.690531 674.255625 \r\nz\r\n\" style=\"fill:none;\"/>\r\n   </g>\r\n  </g>\r\n </g>\r\n <defs>\r\n  <clipPath id=\"p77235e9934\">\r\n   <rect height=\"652.32\" width=\"535.68\" x=\"103.914531\" y=\"21.935625\"/>\r\n  </clipPath>\r\n  <clipPath id=\"p798ab60dce\">\r\n   <rect height=\"652.32\" width=\"32.616\" x=\"673.074531\" y=\"21.935625\"/>\r\n  </clipPath>\r\n </defs>\r\n</svg>\r\n",
      "image/png": "[encoded data removed]"
     },
     "metadata": {}
    }
   ],
   "source": [
    "# Heatmap for correlations\n",
    "plt.figure(figsize = (12, 12))\n",
    "s = sns.heatmap(results.corr()[['Home Win']][0:5], # Indicates columns to include in heatmap\n",
    "               annot = True, \n",
    "               cmap = 'RdBu',\n",
    "               vmin = -1, \n",
    "               vmax = 1)\n",
    "\n",
    "s.set_yticklabels(s.get_yticklabels(), rotation = 0)\n",
    "s.set_xticklabels(s.get_xticklabels(), rotation = 90)\n",
    "plt.title('Correlation Heatmap')\n",
    "plt.show()"
   ]
  },
  {
   "cell_type": "markdown",
   "metadata": {},
   "source": [
    "As seen above, when it comes to predicting a home win:\n",
    "- More home goals can greatly increase the likelihood of a home win, while more goals from the visitor team can greatly reduce the likelihood of a home win as expected.\n",
    "- Home or Win Streaks do not have significant impacts as their correlations are small even though they are home win streaks are positively correlated and visitor win streaks are negatively correlated."
   ]
  },
  {
   "cell_type": "markdown",
   "metadata": {},
   "source": [
    "<h2> Further Data Manipulation: Converting team names to team IDs using Encoding <h2>"
   ]
  },
  {
   "cell_type": "markdown",
   "metadata": {},
   "source": [
    "Team names are stored as strings (e.g. \"Toronto Maple Leafs\") and classification methods do not work too well with strings.\n",
    "\n",
    "By using the 'one hot encoder' feature provided by Scikit-Learn, team names can be labelled in a numeric fashion so that the classifier can understand them and potentially provide much more information to our model in determining winners."
   ]
  },
  {
   "cell_type": "code",
   "execution_count": 30,
   "metadata": {},
   "outputs": [
    {
     "output_type": "execute_result",
     "data": {
      "text/plain": "LabelEncoder()"
     },
     "metadata": {},
     "execution_count": 30
    }
   ],
   "source": [
    "from sklearn.preprocessing import LabelEncoder, OneHotEncoder\n",
    "encoding = LabelEncoder() # encoding object has LabelEncoder ready to use\n",
    "encoding.fit(results[\"Home Team\"].values) # give each team a number to identify them by"
   ]
  },
  {
   "cell_type": "code",
   "execution_count": 31,
   "metadata": {},
   "outputs": [
    {
     "output_type": "execute_result",
     "data": {
      "text/plain": "(array([[23,  0],\n        [26, 15],\n        [27,  4],\n        [29,  2],\n        [ 3,  2],\n        [ 5, 18]]),\n (1358, 2))"
     },
     "metadata": {},
     "execution_count": 31
    }
   ],
   "source": [
    "# This will assign each team name a value to use instead of the string itself. Better to work with numbers than strings.\n",
    "home_teams = encoding.transform(results[\"Home Team\"].values)\n",
    "visitor_teams = encoding.transform(results[\"Visitor Team\"].values)\n",
    "\n",
    "# vstack allows you to stack a sequence of arrays vertically - in this case we do it to make easy comparisons\n",
    "X_teams = np.vstack([home_teams, visitor_teams]).T # transpose\n",
    "\n",
    "X_teams[:6], X_teams.shape"
   ]
  },
  {
   "cell_type": "markdown",
   "metadata": {},
   "source": [
    "Home Team and Visitor Teams are displayed in the same order as the above array."
   ]
  },
  {
   "cell_type": "code",
   "execution_count": 32,
   "metadata": {},
   "outputs": [
    {
     "output_type": "execute_result",
     "data": {
      "text/plain": "array(['San Jose Sharks', 'Toronto Maple Leafs', 'Vancouver Canucks', ...,\n       'Boston Bruins', 'St. Louis Blues', 'Boston Bruins'], dtype=object)"
     },
     "metadata": {},
     "execution_count": 32
    }
   ],
   "source": [
    "results[\"Home Team\"].values"
   ]
  },
  {
   "cell_type": "code",
   "execution_count": 33,
   "metadata": {},
   "outputs": [
    {
     "output_type": "execute_result",
     "data": {
      "text/plain": "array(['Anaheim Ducks', 'Montreal Canadiens', 'Calgary Flames', ...,\n       'St. Louis Blues', 'Boston Bruins', 'St. Louis Blues'],\n      dtype=object)"
     },
     "metadata": {},
     "execution_count": 33
    }
   ],
   "source": [
    "results[\"Visitor Team\"].values"
   ]
  },
  {
   "cell_type": "code",
   "execution_count": 35,
   "metadata": {},
   "outputs": [],
   "source": [
    "# Data Cleaning: Remove commas in attendance column\n",
    "results[\"Attendance\"] = results[\"Attendance\"].str.replace(\",\",\"\")"
   ]
  },
  {
   "cell_type": "code",
   "execution_count": 36,
   "metadata": {},
   "outputs": [
    {
     "output_type": "execute_result",
     "data": {
      "text/plain": "         Date        Visitor Team  Visitor Goals            Home Team  \\\n0  2018-10-03       Anaheim Ducks              5      San Jose Sharks   \n1  2018-10-03  Montreal Canadiens              2  Toronto Maple Leafs   \n2  2018-10-03      Calgary Flames              2    Vancouver Canucks   \n3  2018-10-03       Boston Bruins              0  Washington Capitals   \n4  2018-10-04       Boston Bruins              4       Buffalo Sabres   \n\n   Home Goals Game Finish Attendance  Home Win  Home Win Streak  \\\n0           2           1      17562     False                0   \n1           3           2      19589      True                0   \n2           5           1      18870      True                0   \n3           7           1      18506      True                0   \n4           0           1      19070     False                0   \n\n   Visitor Win Streak Home Last Win Visitor Last Win  Home Team Won Last  \n0                   0             0                0                   0  \n1                   0             0                0                   0  \n2                   0             0                0                   0  \n3                   0             0                0                   0  \n4                   0             0            False                   0  ",
      "text/html": "<div>\n<style scoped>\n    .dataframe tbody tr th:only-of-type {\n        vertical-align: middle;\n    }\n\n    .dataframe tbody tr th {\n        vertical-align: top;\n    }\n\n    .dataframe thead th {\n        text-align: right;\n    }\n</style>\n<table border=\"1\" class=\"dataframe\">\n  <thead>\n    <tr style=\"text-align: right;\">\n      <th></th>\n      <th>Date</th>\n      <th>Visitor Team</th>\n      <th>Visitor Goals</th>\n      <th>Home Team</th>\n      <th>Home Goals</th>\n      <th>Game Finish</th>\n      <th>Attendance</th>\n      <th>Home Win</th>\n      <th>Home Win Streak</th>\n      <th>Visitor Win Streak</th>\n      <th>Home Last Win</th>\n      <th>Visitor Last Win</th>\n      <th>Home Team Won Last</th>\n    </tr>\n  </thead>\n  <tbody>\n    <tr>\n      <th>0</th>\n      <td>2018-10-03</td>\n      <td>Anaheim Ducks</td>\n      <td>5</td>\n      <td>San Jose Sharks</td>\n      <td>2</td>\n      <td>1</td>\n      <td>17562</td>\n      <td>False</td>\n      <td>0</td>\n      <td>0</td>\n      <td>0</td>\n      <td>0</td>\n      <td>0</td>\n    </tr>\n    <tr>\n      <th>1</th>\n      <td>2018-10-03</td>\n      <td>Montreal Canadiens</td>\n      <td>2</td>\n      <td>Toronto Maple Leafs</td>\n      <td>3</td>\n      <td>2</td>\n      <td>19589</td>\n      <td>True</td>\n      <td>0</td>\n      <td>0</td>\n      <td>0</td>\n      <td>0</td>\n      <td>0</td>\n    </tr>\n    <tr>\n      <th>2</th>\n      <td>2018-10-03</td>\n      <td>Calgary Flames</td>\n      <td>2</td>\n      <td>Vancouver Canucks</td>\n      <td>5</td>\n      <td>1</td>\n      <td>18870</td>\n      <td>True</td>\n      <td>0</td>\n      <td>0</td>\n      <td>0</td>\n      <td>0</td>\n      <td>0</td>\n    </tr>\n    <tr>\n      <th>3</th>\n      <td>2018-10-03</td>\n      <td>Boston Bruins</td>\n      <td>0</td>\n      <td>Washington Capitals</td>\n      <td>7</td>\n      <td>1</td>\n      <td>18506</td>\n      <td>True</td>\n      <td>0</td>\n      <td>0</td>\n      <td>0</td>\n      <td>0</td>\n      <td>0</td>\n    </tr>\n    <tr>\n      <th>4</th>\n      <td>2018-10-04</td>\n      <td>Boston Bruins</td>\n      <td>4</td>\n      <td>Buffalo Sabres</td>\n      <td>0</td>\n      <td>1</td>\n      <td>19070</td>\n      <td>False</td>\n      <td>0</td>\n      <td>0</td>\n      <td>0</td>\n      <td>False</td>\n      <td>0</td>\n    </tr>\n  </tbody>\n</table>\n</div>"
     },
     "metadata": {},
     "execution_count": 36
    }
   ],
   "source": [
    "results.head()"
   ]
  },
  {
   "cell_type": "code",
   "execution_count": 37,
   "metadata": {},
   "outputs": [],
   "source": [
    "# To get rid of any infinite values in the dataframe\n",
    "results.replace([np.inf, -np.inf], np.nan, inplace=True)"
   ]
  },
  {
   "cell_type": "code",
   "execution_count": 38,
   "metadata": {},
   "outputs": [],
   "source": [
    "# To get rid of any null values in the dataframe\n",
    "results.fillna(results.mean(), inplace=True)"
   ]
  },
  {
   "cell_type": "code",
   "execution_count": 39,
   "metadata": {},
   "outputs": [],
   "source": [
    "X_needed_features = results[['Home Win Streak', 'Home Last Win', 'Home Team Won Last']].values"
   ]
  },
  {
   "cell_type": "code",
   "execution_count": 40,
   "metadata": {},
   "outputs": [
    {
     "output_type": "execute_result",
     "data": {
      "text/plain": "(1358, 5)"
     },
     "metadata": {},
     "execution_count": 40
    }
   ],
   "source": [
    "# Combines everything\n",
    "X_all = np.hstack([X_needed_features, X_teams])\n",
    "X_all.shape"
   ]
  },
  {
   "cell_type": "markdown",
   "metadata": {},
   "source": [
    "<h2> Creating the Training/Testing Dataset Split <h2>"
   ]
  },
  {
   "cell_type": "code",
   "execution_count": 41,
   "metadata": {},
   "outputs": [],
   "source": [
    "# Data Splicing: the split is 70% training set and 30% testing set\n",
    "# y_true created earlier above is the object that stores all values for the Home Win column for each game in the dataset\n",
    "X_train, X_test, Y_train, Y_test = train_test_split(X_all, y_true, test_size=0.3, stratify = y_true, random_state=10)"
   ]
  },
  {
   "cell_type": "code",
   "execution_count": 42,
   "metadata": {},
   "outputs": [],
   "source": [
    "from sklearn.preprocessing import StandardScaler\n",
    "scaler = StandardScaler()\n",
    "scaler.fit(X_train)\n",
    "\n",
    "X_train = scaler.transform(X_train)\n",
    "X_test = scaler.transform(X_test)"
   ]
  },
  {
   "cell_type": "code",
   "execution_count": 43,
   "metadata": {},
   "outputs": [
    {
     "output_type": "execute_result",
     "data": {
      "text/plain": "(950, 5)"
     },
     "metadata": {},
     "execution_count": 43
    }
   ],
   "source": [
    "X_train.shape"
   ]
  },
  {
   "cell_type": "code",
   "execution_count": 44,
   "metadata": {},
   "outputs": [
    {
     "output_type": "execute_result",
     "data": {
      "text/plain": "(950,)"
     },
     "metadata": {},
     "execution_count": 44
    }
   ],
   "source": [
    "Y_train.shape"
   ]
  },
  {
   "cell_type": "markdown",
   "metadata": {},
   "source": [
    "<h1> Classification using various Model Algorithms <h1>"
   ]
  },
  {
   "cell_type": "markdown",
   "metadata": {},
   "source": [
    "<h2> Classification with Decision Trees <h2>"
   ]
  },
  {
   "cell_type": "markdown",
   "metadata": {},
   "source": [
    "The Decision Tree Classifier will be used as the model to predict which team won the game."
   ]
  },
  {
   "cell_type": "code",
   "execution_count": 45,
   "metadata": {},
   "outputs": [],
   "source": [
    "from sklearn.model_selection import cross_val_score\n",
    "from sklearn.tree import DecisionTreeClassifier\n",
    "from sklearn import metrics # for accuracy calculation\n",
    "from sklearn.metrics import classification_report, confusion_matrix"
   ]
  },
  {
   "cell_type": "code",
   "execution_count": 46,
   "metadata": {},
   "outputs": [],
   "source": [
    "# Create Decision Tree classifer object\n",
    "DT = DecisionTreeClassifier()\n",
    "\n",
    "# Train Decision Tree Classifer\n",
    "DT = DT.fit(X_train,Y_train)\n",
    "\n",
    "# Predict the response for test dataset\n",
    "y_pred = DT.predict(X_test)"
   ]
  },
  {
   "cell_type": "code",
   "execution_count": 47,
   "metadata": {
    "tags": []
   },
   "outputs": [
    {
     "output_type": "stream",
     "name": "stdout",
     "text": "The F1 score using Decision Tree Classifier is the following: 0.4956\n"
    }
   ],
   "source": [
    "# y_true is the object containing the Home Win column\n",
    "scores = cross_val_score(DT, X_all, y_true)\n",
    "print(\"The F1 score using Decision Tree Classifier is the following: {0:.4f}\".format(np.mean(scores)))"
   ]
  },
  {
   "cell_type": "code",
   "execution_count": 48,
   "metadata": {
    "tags": []
   },
   "outputs": [
    {
     "output_type": "stream",
     "name": "stdout",
     "text": "[[ 80 110]\n [103 115]]\n"
    }
   ],
   "source": [
    "print(confusion_matrix(Y_test, y_pred))"
   ]
  },
  {
   "cell_type": "code",
   "execution_count": 49,
   "metadata": {
    "tags": []
   },
   "outputs": [
    {
     "output_type": "stream",
     "name": "stdout",
     "text": "precision    recall  f1-score   support\n\n       False       0.44      0.42      0.43       190\n        True       0.51      0.53      0.52       218\n\n    accuracy                           0.48       408\n   macro avg       0.47      0.47      0.47       408\nweighted avg       0.48      0.48      0.48       408\n\n"
    }
   ],
   "source": [
    "print(metrics.classification_report(Y_test, y_pred))"
   ]
  },
  {
   "cell_type": "markdown",
   "metadata": {},
   "source": [
    "<h2> Classification with Random Forests <h2>"
   ]
  },
  {
   "cell_type": "code",
   "execution_count": 50,
   "metadata": {
    "tags": []
   },
   "outputs": [],
   "source": [
    "# Random Forest Classifier\n",
    "from sklearn.ensemble import RandomForestClassifier\n",
    "\n",
    "# Create Random Forests classifer object\n",
    "RF = RandomForestClassifier(n_estimators=10)\n",
    "\n",
    "# Train Random Forests Classifer\n",
    "RF = RF.fit(X_train, Y_train)\n",
    "\n",
    "# Predict the response for test dataset\n",
    "y_pred = RF.predict(X_test)"
   ]
  },
  {
   "cell_type": "code",
   "execution_count": 51,
   "metadata": {
    "tags": []
   },
   "outputs": [
    {
     "output_type": "stream",
     "name": "stdout",
     "text": "The F1 score using Random Forest Classifier is the following: 0.5015\n"
    }
   ],
   "source": [
    "scores = cross_val_score(RF, X_all, y_true)\n",
    "print(\"The F1 score using Random Forest Classifier is the following: {0:.4f}\".format(np.mean(scores)))"
   ]
  },
  {
   "cell_type": "markdown",
   "metadata": {},
   "source": [
    "<h2> GridSearchCV with Random Forests Classifier <h2>"
   ]
  },
  {
   "cell_type": "code",
   "execution_count": 52,
   "metadata": {},
   "outputs": [],
   "source": [
    "from sklearn.model_selection import GridSearchCV"
   ]
  },
  {
   "cell_type": "code",
   "execution_count": 53,
   "metadata": {},
   "outputs": [],
   "source": [
    "# Will take some time to run; used to prevent overfitting\n",
    "parameter_space = {\n",
    "    \"max_features\": [2, 10, 50, 'auto'],\n",
    "    \"n_estimators\": [50, 100, 200],\n",
    "    \"criterion\": [\"gini\", \"entropy\"],\n",
    "    \"min_samples_leaf\": [1,2,4,6],\n",
    "}"
   ]
  },
  {
   "cell_type": "code",
   "execution_count": 54,
   "metadata": {
    "tags": []
   },
   "outputs": [
    {
     "output_type": "stream",
     "name": "stdout",
     "text": "F1: 0.5088\nRandomForestClassifier(min_samples_leaf=4)\n"
    }
   ],
   "source": [
    "RF = RandomForestClassifier()\n",
    "grid = GridSearchCV(RF, parameter_space)\n",
    "grid.fit(X_all, y_true)\n",
    "\n",
    "# View results\n",
    "print(\"F1: {0:.4f}\".format(grid.best_score_))\n",
    "print(grid.best_estimator_) # Indicates best options used for the random forests classifier based on the options given in the parameter_space"
   ]
  },
  {
   "cell_type": "markdown",
   "metadata": {},
   "source": [
    "Using GridSearchCV improved the F1 score of the random forests classifier."
   ]
  },
  {
   "cell_type": "markdown",
   "metadata": {},
   "source": [
    "<h2> Naive Bayes Classifier <h2>"
   ]
  },
  {
   "cell_type": "code",
   "execution_count": 55,
   "metadata": {
    "tags": []
   },
   "outputs": [
    {
     "output_type": "stream",
     "name": "stdout",
     "text": "GaussianNB()\n"
    }
   ],
   "source": [
    "# Gaussian Naive Bayes\n",
    "from sklearn.naive_bayes import GaussianNB\n",
    "\n",
    "# fit a Naive Bayes model to the data\n",
    "NB = GaussianNB()\n",
    "\n",
    "NB.fit(X_train, Y_train)\n",
    "print(NB)\n"
   ]
  },
  {
   "cell_type": "code",
   "execution_count": 56,
   "metadata": {
    "tags": []
   },
   "outputs": [
    {
     "output_type": "stream",
     "name": "stdout",
     "text": "The F1 score using Naive Bayes Classifier is the following: 0.5221\n"
    }
   ],
   "source": [
    "scores = cross_val_score(NB, X_all, y_true)\n",
    "print(\"The F1 score using Naive Bayes Classifier is the following: {0:.4f}\".format(np.mean(scores)))"
   ]
  },
  {
   "cell_type": "markdown",
   "metadata": {},
   "source": [
    "<h2> K Nearest Neighbour (KNN) <h2>"
   ]
  },
  {
   "cell_type": "code",
   "execution_count": 57,
   "metadata": {},
   "outputs": [
    {
     "output_type": "execute_result",
     "data": {
      "text/plain": "KNeighborsClassifier()"
     },
     "metadata": {},
     "execution_count": 57
    }
   ],
   "source": [
    "from sklearn.neighbors import KNeighborsClassifier\n",
    "KNN = KNeighborsClassifier(n_neighbors=5) # sets k=5\n",
    "KNN.fit(X_train, Y_train)"
   ]
  },
  {
   "cell_type": "code",
   "execution_count": 58,
   "metadata": {},
   "outputs": [],
   "source": [
    "y_pred = KNN.predict(X_test)"
   ]
  },
  {
   "cell_type": "code",
   "execution_count": 59,
   "metadata": {
    "tags": []
   },
   "outputs": [
    {
     "output_type": "stream",
     "name": "stdout",
     "text": "The F1 score using KNN Classifier is the following: 0.5184\n"
    }
   ],
   "source": [
    "scores = cross_val_score(KNN, X_all, y_true)\n",
    "print(\"The F1 score using KNN Classifier is the following: {0:.4f}\".format(np.mean(scores)))"
   ]
  },
  {
   "cell_type": "code",
   "execution_count": 60,
   "metadata": {
    "tags": []
   },
   "outputs": [
    {
     "output_type": "stream",
     "name": "stdout",
     "text": "[[ 82 108]\n [ 92 126]]\n              precision    recall  f1-score   support\n\n       False       0.47      0.43      0.45       190\n        True       0.54      0.58      0.56       218\n\n    accuracy                           0.51       408\n   macro avg       0.50      0.50      0.50       408\nweighted avg       0.51      0.51      0.51       408\n\n"
    }
   ],
   "source": [
    "print(confusion_matrix(Y_test, y_pred))\n",
    "print(metrics.classification_report(Y_test, y_pred))"
   ]
  },
  {
   "cell_type": "markdown",
   "metadata": {},
   "source": [
    "The results show the KNN algorithm was able to classify all the 408 records in the test set with 92% accuracy."
   ]
  },
  {
   "cell_type": "markdown",
   "metadata": {},
   "source": [
    "<h2> Support Vector Machine (SVM) <h2>"
   ]
  },
  {
   "cell_type": "code",
   "execution_count": 61,
   "metadata": {},
   "outputs": [],
   "source": [
    "# Import SVM model\n",
    "from sklearn import svm\n",
    "\n",
    "# Create a SVM Classifier\n",
    "SVM = svm.SVC(kernel='linear') # Linear Kernel\n",
    "\n",
    "SVM.fit(X_train, Y_train)\n",
    "\n",
    "y_pred = SVM.predict(X_test)"
   ]
  },
  {
   "cell_type": "code",
   "execution_count": 62,
   "metadata": {
    "tags": []
   },
   "outputs": [
    {
     "output_type": "stream",
     "name": "stdout",
     "text": "The F1 score using SVM Classifier is the following: 0.5353\n"
    }
   ],
   "source": [
    "scores = cross_val_score(SVM, X_all, y_true)\n",
    "print(\"The F1 score using SVM Classifier is the following: {0:.4f}\".format(np.mean(scores)))"
   ]
  },
  {
   "cell_type": "code",
   "execution_count": 63,
   "metadata": {
    "tags": []
   },
   "outputs": [
    {
     "output_type": "stream",
     "name": "stdout",
     "text": "[[  0 190]\n [  0 218]]\n              precision    recall  f1-score   support\n\n       False       0.00      0.00      0.00       190\n        True       0.53      1.00      0.70       218\n\n    accuracy                           0.53       408\n   macro avg       0.27      0.50      0.35       408\nweighted avg       0.29      0.53      0.37       408\n\n"
    }
   ],
   "source": [
    "print(confusion_matrix(Y_test, y_pred))\n",
    "print(metrics.classification_report(Y_test, y_pred))"
   ]
  },
  {
   "cell_type": "markdown",
   "metadata": {},
   "source": [
    "<h2> Boosting <h2>"
   ]
  },
  {
   "cell_type": "code",
   "execution_count": 64,
   "metadata": {},
   "outputs": [],
   "source": [
    "from sklearn.ensemble import AdaBoostClassifier"
   ]
  },
  {
   "cell_type": "code",
   "execution_count": 65,
   "metadata": {},
   "outputs": [
    {
     "output_type": "execute_result",
     "data": {
      "text/plain": "(408, 5)"
     },
     "metadata": {},
     "execution_count": 65
    }
   ],
   "source": [
    "X_test.shape"
   ]
  },
  {
   "cell_type": "code",
   "execution_count": 66,
   "metadata": {},
   "outputs": [],
   "source": [
    "model = DecisionTreeClassifier(criterion='entropy', max_depth=1)\n",
    "AdaBoost = AdaBoostClassifier(base_estimator=model, n_estimators=400, learning_rate=1)\n",
    "\n",
    "boostmodel = AdaBoost.fit(X_train, Y_train)\n",
    "\n",
    "y_pred = boostmodel.predict(X_test)"
   ]
  },
  {
   "cell_type": "code",
   "execution_count": 67,
   "metadata": {
    "tags": []
   },
   "outputs": [
    {
     "output_type": "stream",
     "name": "stdout",
     "text": "The F1 score using Adaptive Boosting Classifier is the following: 0.5434\n"
    }
   ],
   "source": [
    "scores = cross_val_score(AdaBoost, X_all, y_true)\n",
    "print(\"The F1 score using Adaptive Boosting Classifier is the following: {0:.4f}\".format(np.mean(scores)))"
   ]
  },
  {
   "cell_type": "markdown",
   "metadata": {},
   "source": [
    "Accuracy when using boosting algorithms is expected to be 100%,. When you use weak learner models with decision trees, accuracy is not as high due to factors such as overfitting. Boosting algorithms would be the alternative, which usually increases the accuracy."
   ]
  },
  {
   "cell_type": "markdown",
   "metadata": {},
   "source": [
    "<h2> Summary of Individual Model Performances <h2>"
   ]
  },
  {
   "cell_type": "markdown",
   "metadata": {},
   "source": [
    "Final Results Summarized Below:\n",
    "\n",
    "Note:\n",
    "DT = Decision Tree,\n",
    "RF = Random Forest,\n",
    "NB = Naive Bayes,\n",
    "KNN = K Nearest Neighbours,\n",
    "SVM = Support Vector Machine,\n",
    "AdaBoost = Adaptive Boosting Algorithm"
   ]
  },
  {
   "cell_type": "code",
   "execution_count": 68,
   "metadata": {},
   "outputs": [
    {
     "output_type": "execute_result",
     "data": {
      "text/plain": "<AxesSubplot:>"
     },
     "metadata": {},
     "execution_count": 68
    },
    {
     "output_type": "display_data",
     "data": {
      "text/plain": "<Figure size 432x288 with 1 Axes>",
      "image/svg+xml": "<?xml version=\"1.0\" encoding=\"utf-8\" standalone=\"no\"?>\r\n<!DOCTYPE svg PUBLIC \"-//W3C//DTD SVG 1.1//EN\"\r\n  \"http://www.w3.org/Graphics/SVG/1.1/DTD/svg11.dtd\">\r\n<!-- Created with matplotlib (https://matplotlib.org/) -->\r\n<svg height=\"259.429766pt\" version=\"1.1\" viewBox=\"0 0 396.494777 259.429766\" width=\"396.494777pt\" xmlns=\"http://www.w3.org/2000/svg\" xmlns:xlink=\"http://www.w3.org/1999/xlink\">\r\n <metadata>\r\n  <rdf:RDF xmlns:cc=\"http://creativecommons.org/ns#\" xmlns:dc=\"http://purl.org/dc/elements/1.1/\" xmlns:rdf=\"http://www.w3.org/1999/02/22-rdf-syntax-ns#\">\r\n   <cc:Work>\r\n    <dc:type rdf:resource=\"http://purl.org/dc/dcmitype/StillImage\"/>\r\n    <dc:date>2020-09-14T14:23:34.771359</dc:date>\r\n    <dc:format>image/svg+xml</dc:format>\r\n    <dc:creator>\r\n     <cc:Agent>\r\n      <dc:title>Matplotlib v3.3.1, https://matplotlib.org/</dc:title>\r\n     </cc:Agent>\r\n    </dc:creator>\r\n   </cc:Work>\r\n  </rdf:RDF>\r\n </metadata>\r\n <defs>\r\n  <style type=\"text/css\">*{stroke-linecap:butt;stroke-linejoin:round;}</style>\r\n </defs>\r\n <g id=\"figure_1\">\r\n  <g id=\"patch_1\">\r\n   <path d=\"M 0 259.429766 \r\nL 396.494777 259.429766 \r\nL 396.494777 0 \r\nL 0 0 \r\nz\r\n\" style=\"fill:#ffffff;\"/>\r\n  </g>\r\n  <g id=\"axes_1\">\r\n   <g id=\"patch_2\">\r\n    <path d=\"M 42.635 224.64 \r\nL 377.435 224.64 \r\nL 377.435 7.2 \r\nL 42.635 7.2 \r\nz\r\n\" style=\"fill:#eaeaf2;\"/>\r\n   </g>\r\n   <g id=\"matplotlib.axis_1\">\r\n    <g id=\"xtick_1\">\r\n     <g id=\"text_1\">\r\n      <!-- Baseline -->\r\n      <g style=\"fill:#262626;\" transform=\"translate(34.90409 248.950391)scale(0.165 -0.165)\">\r\n       <defs>\r\n        <path d=\"M 7.328125 0 \r\nL 7.328125 71.578125 \r\nL 34.1875 71.578125 \r\nQ 42.390625 71.578125 47.34375 69.40625 \r\nQ 52.296875 67.234375 55.09375 62.71875 \r\nQ 57.90625 58.203125 57.90625 53.265625 \r\nQ 57.90625 48.6875 55.421875 44.625 \r\nQ 52.9375 40.578125 47.90625 38.09375 \r\nQ 54.390625 36.1875 57.875 31.59375 \r\nQ 61.375 27 61.375 20.75 \r\nQ 61.375 15.71875 59.25 11.390625 \r\nQ 57.125 7.078125 54 4.734375 \r\nQ 50.875 2.390625 46.15625 1.1875 \r\nQ 41.453125 0 34.625 0 \r\nz\r\nM 16.796875 41.5 \r\nL 32.28125 41.5 \r\nQ 38.578125 41.5 41.3125 42.328125 \r\nQ 44.921875 43.40625 46.75 45.890625 \r\nQ 48.578125 48.390625 48.578125 52.15625 \r\nQ 48.578125 55.71875 46.875 58.421875 \r\nQ 45.171875 61.140625 41.984375 62.140625 \r\nQ 38.8125 63.140625 31.109375 63.140625 \r\nL 16.796875 63.140625 \r\nz\r\nM 16.796875 8.453125 \r\nL 34.625 8.453125 \r\nQ 39.203125 8.453125 41.0625 8.796875 \r\nQ 44.34375 9.375 46.53125 10.734375 \r\nQ 48.734375 12.109375 50.140625 14.71875 \r\nQ 51.5625 17.328125 51.5625 20.75 \r\nQ 51.5625 24.75 49.515625 27.703125 \r\nQ 47.46875 30.671875 43.828125 31.859375 \r\nQ 40.1875 33.0625 33.34375 33.0625 \r\nL 16.796875 33.0625 \r\nz\r\n\" id=\"ArialMT-66\"/>\r\n        <path d=\"M 40.4375 6.390625 \r\nQ 35.546875 2.25 31.03125 0.53125 \r\nQ 26.515625 -1.171875 21.34375 -1.171875 \r\nQ 12.796875 -1.171875 8.203125 3 \r\nQ 3.609375 7.171875 3.609375 13.671875 \r\nQ 3.609375 17.484375 5.34375 20.625 \r\nQ 7.078125 23.78125 9.890625 25.6875 \r\nQ 12.703125 27.59375 16.21875 28.5625 \r\nQ 18.796875 29.25 24.03125 29.890625 \r\nQ 34.671875 31.15625 39.703125 32.90625 \r\nQ 39.75 34.71875 39.75 35.203125 \r\nQ 39.75 40.578125 37.25 42.78125 \r\nQ 33.890625 45.75 27.25 45.75 \r\nQ 21.046875 45.75 18.09375 43.578125 \r\nQ 15.140625 41.40625 13.71875 35.890625 \r\nL 5.125 37.0625 \r\nQ 6.296875 42.578125 8.984375 45.96875 \r\nQ 11.671875 49.359375 16.75 51.1875 \r\nQ 21.828125 53.03125 28.515625 53.03125 \r\nQ 35.15625 53.03125 39.296875 51.46875 \r\nQ 43.453125 49.90625 45.40625 47.53125 \r\nQ 47.359375 45.171875 48.140625 41.546875 \r\nQ 48.578125 39.3125 48.578125 33.453125 \r\nL 48.578125 21.734375 \r\nQ 48.578125 9.46875 49.140625 6.21875 \r\nQ 49.703125 2.984375 51.375 0 \r\nL 42.1875 0 \r\nQ 40.828125 2.734375 40.4375 6.390625 \r\nz\r\nM 39.703125 26.03125 \r\nQ 34.90625 24.078125 25.34375 22.703125 \r\nQ 19.921875 21.921875 17.671875 20.9375 \r\nQ 15.4375 19.96875 14.203125 18.09375 \r\nQ 12.984375 16.21875 12.984375 13.921875 \r\nQ 12.984375 10.40625 15.640625 8.0625 \r\nQ 18.3125 5.71875 23.4375 5.71875 \r\nQ 28.515625 5.71875 32.46875 7.9375 \r\nQ 36.421875 10.15625 38.28125 14.015625 \r\nQ 39.703125 17 39.703125 22.796875 \r\nz\r\n\" id=\"ArialMT-97\"/>\r\n        <path d=\"M 3.078125 15.484375 \r\nL 11.765625 16.84375 \r\nQ 12.5 11.625 15.84375 8.84375 \r\nQ 19.1875 6.0625 25.203125 6.0625 \r\nQ 31.25 6.0625 34.171875 8.515625 \r\nQ 37.109375 10.984375 37.109375 14.3125 \r\nQ 37.109375 17.28125 34.515625 19 \r\nQ 32.71875 20.171875 25.53125 21.96875 \r\nQ 15.875 24.421875 12.140625 26.203125 \r\nQ 8.40625 27.984375 6.46875 31.125 \r\nQ 4.546875 34.28125 4.546875 38.09375 \r\nQ 4.546875 41.546875 6.125 44.5 \r\nQ 7.71875 47.46875 10.453125 49.421875 \r\nQ 12.5 50.921875 16.03125 51.96875 \r\nQ 19.578125 53.03125 23.640625 53.03125 \r\nQ 29.734375 53.03125 34.34375 51.265625 \r\nQ 38.96875 49.515625 41.15625 46.5 \r\nQ 43.359375 43.5 44.1875 38.484375 \r\nL 35.59375 37.3125 \r\nQ 35.015625 41.3125 32.203125 43.546875 \r\nQ 29.390625 45.796875 24.265625 45.796875 \r\nQ 18.21875 45.796875 15.625 43.796875 \r\nQ 13.03125 41.796875 13.03125 39.109375 \r\nQ 13.03125 37.40625 14.109375 36.03125 \r\nQ 15.1875 34.625 17.484375 33.6875 \r\nQ 18.796875 33.203125 25.25 31.453125 \r\nQ 34.578125 28.953125 38.25 27.359375 \r\nQ 41.9375 25.78125 44.03125 22.75 \r\nQ 46.140625 19.734375 46.140625 15.234375 \r\nQ 46.140625 10.84375 43.578125 6.953125 \r\nQ 41.015625 3.078125 36.171875 0.953125 \r\nQ 31.34375 -1.171875 25.25 -1.171875 \r\nQ 15.140625 -1.171875 9.84375 3.03125 \r\nQ 4.546875 7.234375 3.078125 15.484375 \r\nz\r\n\" id=\"ArialMT-115\"/>\r\n        <path d=\"M 42.09375 16.703125 \r\nL 51.171875 15.578125 \r\nQ 49.03125 7.625 43.21875 3.21875 \r\nQ 37.40625 -1.171875 28.375 -1.171875 \r\nQ 17 -1.171875 10.328125 5.828125 \r\nQ 3.65625 12.84375 3.65625 25.484375 \r\nQ 3.65625 38.578125 10.390625 45.796875 \r\nQ 17.140625 53.03125 27.875 53.03125 \r\nQ 38.28125 53.03125 44.875 45.953125 \r\nQ 51.46875 38.875 51.46875 26.03125 \r\nQ 51.46875 25.25 51.421875 23.6875 \r\nL 12.75 23.6875 \r\nQ 13.234375 15.140625 17.578125 10.59375 \r\nQ 21.921875 6.0625 28.421875 6.0625 \r\nQ 33.25 6.0625 36.671875 8.59375 \r\nQ 40.09375 11.140625 42.09375 16.703125 \r\nz\r\nM 13.234375 30.90625 \r\nL 42.1875 30.90625 \r\nQ 41.609375 37.453125 38.875 40.71875 \r\nQ 34.671875 45.796875 27.984375 45.796875 \r\nQ 21.921875 45.796875 17.796875 41.75 \r\nQ 13.671875 37.703125 13.234375 30.90625 \r\nz\r\n\" id=\"ArialMT-101\"/>\r\n        <path d=\"M 6.390625 0 \r\nL 6.390625 71.578125 \r\nL 15.1875 71.578125 \r\nL 15.1875 0 \r\nz\r\n\" id=\"ArialMT-108\"/>\r\n        <path d=\"M 6.640625 61.46875 \r\nL 6.640625 71.578125 \r\nL 15.4375 71.578125 \r\nL 15.4375 61.46875 \r\nz\r\nM 6.640625 0 \r\nL 6.640625 51.859375 \r\nL 15.4375 51.859375 \r\nL 15.4375 0 \r\nz\r\n\" id=\"ArialMT-105\"/>\r\n        <path d=\"M 6.59375 0 \r\nL 6.59375 51.859375 \r\nL 14.5 51.859375 \r\nL 14.5 44.484375 \r\nQ 20.21875 53.03125 31 53.03125 \r\nQ 35.6875 53.03125 39.625 51.34375 \r\nQ 43.5625 49.65625 45.515625 46.921875 \r\nQ 47.46875 44.1875 48.25 40.4375 \r\nQ 48.734375 37.984375 48.734375 31.890625 \r\nL 48.734375 0 \r\nL 39.9375 0 \r\nL 39.9375 31.546875 \r\nQ 39.9375 36.921875 38.90625 39.578125 \r\nQ 37.890625 42.234375 35.28125 43.8125 \r\nQ 32.671875 45.40625 29.15625 45.40625 \r\nQ 23.53125 45.40625 19.453125 41.84375 \r\nQ 15.375 38.28125 15.375 28.328125 \r\nL 15.375 0 \r\nz\r\n\" id=\"ArialMT-110\"/>\r\n       </defs>\r\n       <use xlink:href=\"#ArialMT-66\"/>\r\n       <use x=\"66.699219\" xlink:href=\"#ArialMT-97\"/>\r\n       <use x=\"122.314453\" xlink:href=\"#ArialMT-115\"/>\r\n       <use x=\"172.314453\" xlink:href=\"#ArialMT-101\"/>\r\n       <use x=\"227.929688\" xlink:href=\"#ArialMT-108\"/>\r\n       <use x=\"250.146484\" xlink:href=\"#ArialMT-105\"/>\r\n       <use x=\"272.363281\" xlink:href=\"#ArialMT-110\"/>\r\n       <use x=\"327.978516\" xlink:href=\"#ArialMT-101\"/>\r\n      </g>\r\n     </g>\r\n    </g>\r\n    <g id=\"xtick_2\">\r\n     <g id=\"text_2\">\r\n      <!-- DT -->\r\n      <g style=\"fill:#262626;\" transform=\"translate(103.380865 248.950391)scale(0.165 -0.165)\">\r\n       <defs>\r\n        <path d=\"M 7.71875 0 \r\nL 7.71875 71.578125 \r\nL 32.375 71.578125 \r\nQ 40.71875 71.578125 45.125 70.5625 \r\nQ 51.265625 69.140625 55.609375 65.4375 \r\nQ 61.28125 60.640625 64.078125 53.1875 \r\nQ 66.890625 45.75 66.890625 36.1875 \r\nQ 66.890625 28.03125 64.984375 21.734375 \r\nQ 63.09375 15.4375 60.109375 11.296875 \r\nQ 57.125 7.171875 53.578125 4.796875 \r\nQ 50.046875 2.4375 45.046875 1.21875 \r\nQ 40.046875 0 33.546875 0 \r\nz\r\nM 17.1875 8.453125 \r\nL 32.46875 8.453125 \r\nQ 39.546875 8.453125 43.578125 9.765625 \r\nQ 47.609375 11.078125 50 13.484375 \r\nQ 53.375 16.84375 55.25 22.53125 \r\nQ 57.125 28.21875 57.125 36.328125 \r\nQ 57.125 47.5625 53.4375 53.59375 \r\nQ 49.75 59.625 44.484375 61.671875 \r\nQ 40.671875 63.140625 32.234375 63.140625 \r\nL 17.1875 63.140625 \r\nz\r\n\" id=\"ArialMT-68\"/>\r\n        <path d=\"M 25.921875 0 \r\nL 25.921875 63.140625 \r\nL 2.34375 63.140625 \r\nL 2.34375 71.578125 \r\nL 59.078125 71.578125 \r\nL 59.078125 63.140625 \r\nL 35.40625 63.140625 \r\nL 35.40625 0 \r\nz\r\n\" id=\"ArialMT-84\"/>\r\n       </defs>\r\n       <use xlink:href=\"#ArialMT-68\"/>\r\n       <use x=\"72.216797\" xlink:href=\"#ArialMT-84\"/>\r\n      </g>\r\n     </g>\r\n    </g>\r\n    <g id=\"xtick_3\">\r\n     <g id=\"text_3\">\r\n      <!-- RF -->\r\n      <g style=\"fill:#262626;\" transform=\"translate(151.209436 248.950391)scale(0.165 -0.165)\">\r\n       <defs>\r\n        <path d=\"M 7.859375 0 \r\nL 7.859375 71.578125 \r\nL 39.59375 71.578125 \r\nQ 49.171875 71.578125 54.140625 69.640625 \r\nQ 59.125 67.71875 62.109375 62.828125 \r\nQ 65.09375 57.953125 65.09375 52.046875 \r\nQ 65.09375 44.4375 60.15625 39.203125 \r\nQ 55.21875 33.984375 44.921875 32.5625 \r\nQ 48.6875 30.765625 50.640625 29 \r\nQ 54.78125 25.203125 58.5 19.484375 \r\nL 70.953125 0 \r\nL 59.03125 0 \r\nL 49.5625 14.890625 \r\nQ 45.40625 21.34375 42.71875 24.75 \r\nQ 40.046875 28.171875 37.921875 29.53125 \r\nQ 35.796875 30.90625 33.59375 31.453125 \r\nQ 31.984375 31.78125 28.328125 31.78125 \r\nL 17.328125 31.78125 \r\nL 17.328125 0 \r\nz\r\nM 17.328125 39.984375 \r\nL 37.703125 39.984375 \r\nQ 44.1875 39.984375 47.84375 41.328125 \r\nQ 51.515625 42.671875 53.421875 45.625 \r\nQ 55.328125 48.578125 55.328125 52.046875 \r\nQ 55.328125 57.125 51.640625 60.390625 \r\nQ 47.953125 63.671875 39.984375 63.671875 \r\nL 17.328125 63.671875 \r\nz\r\n\" id=\"ArialMT-82\"/>\r\n        <path d=\"M 8.203125 0 \r\nL 8.203125 71.578125 \r\nL 56.5 71.578125 \r\nL 56.5 63.140625 \r\nL 17.671875 63.140625 \r\nL 17.671875 40.96875 \r\nL 51.265625 40.96875 \r\nL 51.265625 32.515625 \r\nL 17.671875 32.515625 \r\nL 17.671875 0 \r\nz\r\n\" id=\"ArialMT-70\"/>\r\n       </defs>\r\n       <use xlink:href=\"#ArialMT-82\"/>\r\n       <use x=\"72.216797\" xlink:href=\"#ArialMT-70\"/>\r\n      </g>\r\n     </g>\r\n    </g>\r\n    <g id=\"xtick_4\">\r\n     <g id=\"text_4\">\r\n      <!-- NB -->\r\n      <g style=\"fill:#262626;\" transform=\"translate(198.573945 248.950391)scale(0.165 -0.165)\">\r\n       <defs>\r\n        <path d=\"M 7.625 0 \r\nL 7.625 71.578125 \r\nL 17.328125 71.578125 \r\nL 54.9375 15.375 \r\nL 54.9375 71.578125 \r\nL 64.015625 71.578125 \r\nL 64.015625 0 \r\nL 54.296875 0 \r\nL 16.703125 56.25 \r\nL 16.703125 0 \r\nz\r\n\" id=\"ArialMT-78\"/>\r\n       </defs>\r\n       <use xlink:href=\"#ArialMT-78\"/>\r\n       <use x=\"72.216797\" xlink:href=\"#ArialMT-66\"/>\r\n      </g>\r\n     </g>\r\n    </g>\r\n    <g id=\"xtick_5\">\r\n     <g id=\"text_5\">\r\n      <!-- KNN -->\r\n      <g style=\"fill:#262626;\" transform=\"translate(240.44447 248.950391)scale(0.165 -0.165)\">\r\n       <defs>\r\n        <path d=\"M 7.328125 0 \r\nL 7.328125 71.578125 \r\nL 16.796875 71.578125 \r\nL 16.796875 36.078125 \r\nL 52.34375 71.578125 \r\nL 65.1875 71.578125 \r\nL 35.15625 42.578125 \r\nL 66.5 0 \r\nL 54 0 \r\nL 28.515625 36.234375 \r\nL 16.796875 24.8125 \r\nL 16.796875 0 \r\nz\r\n\" id=\"ArialMT-75\"/>\r\n       </defs>\r\n       <use xlink:href=\"#ArialMT-75\"/>\r\n       <use x=\"66.699219\" xlink:href=\"#ArialMT-78\"/>\r\n       <use x=\"138.916016\" xlink:href=\"#ArialMT-78\"/>\r\n      </g>\r\n     </g>\r\n    </g>\r\n    <g id=\"xtick_6\">\r\n     <g id=\"text_6\">\r\n      <!-- SVM -->\r\n      <g style=\"fill:#262626;\" transform=\"translate(287.814135 248.950391)scale(0.165 -0.165)\">\r\n       <defs>\r\n        <path d=\"M 4.5 23 \r\nL 13.421875 23.78125 \r\nQ 14.0625 18.40625 16.375 14.96875 \r\nQ 18.703125 11.53125 23.578125 9.40625 \r\nQ 28.46875 7.28125 34.578125 7.28125 \r\nQ 39.984375 7.28125 44.140625 8.890625 \r\nQ 48.296875 10.5 50.3125 13.296875 \r\nQ 52.34375 16.109375 52.34375 19.4375 \r\nQ 52.34375 22.796875 50.390625 25.3125 \r\nQ 48.4375 27.828125 43.953125 29.546875 \r\nQ 41.0625 30.671875 31.203125 33.03125 \r\nQ 21.34375 35.40625 17.390625 37.5 \r\nQ 12.25 40.1875 9.734375 44.15625 \r\nQ 7.234375 48.140625 7.234375 53.078125 \r\nQ 7.234375 58.5 10.296875 63.203125 \r\nQ 13.375 67.921875 19.28125 70.359375 \r\nQ 25.203125 72.796875 32.421875 72.796875 \r\nQ 40.375 72.796875 46.453125 70.234375 \r\nQ 52.546875 67.671875 55.8125 62.6875 \r\nQ 59.078125 57.71875 59.328125 51.421875 \r\nL 50.25 50.734375 \r\nQ 49.515625 57.515625 45.28125 60.984375 \r\nQ 41.0625 64.453125 32.8125 64.453125 \r\nQ 24.21875 64.453125 20.28125 61.296875 \r\nQ 16.359375 58.15625 16.359375 53.71875 \r\nQ 16.359375 49.859375 19.140625 47.359375 \r\nQ 21.875 44.875 33.421875 42.265625 \r\nQ 44.96875 39.65625 49.265625 37.703125 \r\nQ 55.515625 34.8125 58.484375 30.390625 \r\nQ 61.46875 25.984375 61.46875 20.21875 \r\nQ 61.46875 14.5 58.203125 9.4375 \r\nQ 54.9375 4.390625 48.796875 1.578125 \r\nQ 42.671875 -1.21875 35.015625 -1.21875 \r\nQ 25.296875 -1.21875 18.71875 1.609375 \r\nQ 12.15625 4.4375 8.421875 10.125 \r\nQ 4.6875 15.828125 4.5 23 \r\nz\r\n\" id=\"ArialMT-83\"/>\r\n        <path d=\"M 28.171875 0 \r\nL 0.4375 71.578125 \r\nL 10.6875 71.578125 \r\nL 29.296875 19.578125 \r\nQ 31.546875 13.328125 33.0625 7.859375 \r\nQ 34.71875 13.71875 36.921875 19.578125 \r\nL 56.25 71.578125 \r\nL 65.921875 71.578125 \r\nL 37.890625 0 \r\nz\r\n\" id=\"ArialMT-86\"/>\r\n        <path d=\"M 7.421875 0 \r\nL 7.421875 71.578125 \r\nL 21.6875 71.578125 \r\nL 38.625 20.90625 \r\nQ 40.96875 13.8125 42.046875 10.296875 \r\nQ 43.265625 14.203125 45.84375 21.78125 \r\nL 62.984375 71.578125 \r\nL 75.734375 71.578125 \r\nL 75.734375 0 \r\nL 66.609375 0 \r\nL 66.609375 59.90625 \r\nL 45.796875 0 \r\nL 37.25 0 \r\nL 16.546875 60.9375 \r\nL 16.546875 0 \r\nz\r\n\" id=\"ArialMT-77\"/>\r\n       </defs>\r\n       <use xlink:href=\"#ArialMT-83\"/>\r\n       <use x=\"66.699219\" xlink:href=\"#ArialMT-86\"/>\r\n       <use x=\"133.398438\" xlink:href=\"#ArialMT-77\"/>\r\n      </g>\r\n     </g>\r\n    </g>\r\n    <g id=\"xtick_7\">\r\n     <g id=\"text_7\">\r\n      <!-- AdaBoost -->\r\n      <g style=\"fill:#262626;\" transform=\"translate(317.746652 248.950391)scale(0.165 -0.165)\">\r\n       <defs>\r\n        <path d=\"M -0.140625 0 \r\nL 27.34375 71.578125 \r\nL 37.546875 71.578125 \r\nL 66.84375 0 \r\nL 56.0625 0 \r\nL 47.703125 21.6875 \r\nL 17.78125 21.6875 \r\nL 9.90625 0 \r\nz\r\nM 20.515625 29.390625 \r\nL 44.78125 29.390625 \r\nL 37.3125 49.21875 \r\nQ 33.890625 58.25 32.234375 64.0625 \r\nQ 30.859375 57.171875 28.375 50.390625 \r\nz\r\n\" id=\"ArialMT-65\"/>\r\n        <path d=\"M 40.234375 0 \r\nL 40.234375 6.546875 \r\nQ 35.296875 -1.171875 25.734375 -1.171875 \r\nQ 19.53125 -1.171875 14.328125 2.25 \r\nQ 9.125 5.671875 6.265625 11.796875 \r\nQ 3.421875 17.921875 3.421875 25.875 \r\nQ 3.421875 33.640625 6 39.96875 \r\nQ 8.59375 46.296875 13.765625 49.65625 \r\nQ 18.953125 53.03125 25.34375 53.03125 \r\nQ 30.03125 53.03125 33.6875 51.046875 \r\nQ 37.359375 49.078125 39.65625 45.90625 \r\nL 39.65625 71.578125 \r\nL 48.390625 71.578125 \r\nL 48.390625 0 \r\nz\r\nM 12.453125 25.875 \r\nQ 12.453125 15.921875 16.640625 10.984375 \r\nQ 20.84375 6.0625 26.5625 6.0625 \r\nQ 32.328125 6.0625 36.34375 10.765625 \r\nQ 40.375 15.484375 40.375 25.140625 \r\nQ 40.375 35.796875 36.265625 40.765625 \r\nQ 32.171875 45.75 26.171875 45.75 \r\nQ 20.3125 45.75 16.375 40.96875 \r\nQ 12.453125 36.1875 12.453125 25.875 \r\nz\r\n\" id=\"ArialMT-100\"/>\r\n        <path d=\"M 3.328125 25.921875 \r\nQ 3.328125 40.328125 11.328125 47.265625 \r\nQ 18.015625 53.03125 27.640625 53.03125 \r\nQ 38.328125 53.03125 45.109375 46.015625 \r\nQ 51.90625 39.015625 51.90625 26.65625 \r\nQ 51.90625 16.65625 48.90625 10.90625 \r\nQ 45.90625 5.171875 40.15625 2 \r\nQ 34.421875 -1.171875 27.640625 -1.171875 \r\nQ 16.75 -1.171875 10.03125 5.8125 \r\nQ 3.328125 12.796875 3.328125 25.921875 \r\nz\r\nM 12.359375 25.921875 \r\nQ 12.359375 15.96875 16.703125 11.015625 \r\nQ 21.046875 6.0625 27.640625 6.0625 \r\nQ 34.1875 6.0625 38.53125 11.03125 \r\nQ 42.875 16.015625 42.875 26.21875 \r\nQ 42.875 35.84375 38.5 40.796875 \r\nQ 34.125 45.75 27.640625 45.75 \r\nQ 21.046875 45.75 16.703125 40.8125 \r\nQ 12.359375 35.890625 12.359375 25.921875 \r\nz\r\n\" id=\"ArialMT-111\"/>\r\n        <path d=\"M 25.78125 7.859375 \r\nL 27.046875 0.09375 \r\nQ 23.34375 -0.6875 20.40625 -0.6875 \r\nQ 15.625 -0.6875 12.984375 0.828125 \r\nQ 10.359375 2.34375 9.28125 4.8125 \r\nQ 8.203125 7.28125 8.203125 15.1875 \r\nL 8.203125 45.015625 \r\nL 1.765625 45.015625 \r\nL 1.765625 51.859375 \r\nL 8.203125 51.859375 \r\nL 8.203125 64.703125 \r\nL 16.9375 69.96875 \r\nL 16.9375 51.859375 \r\nL 25.78125 51.859375 \r\nL 25.78125 45.015625 \r\nL 16.9375 45.015625 \r\nL 16.9375 14.703125 \r\nQ 16.9375 10.9375 17.40625 9.859375 \r\nQ 17.875 8.796875 18.921875 8.15625 \r\nQ 19.96875 7.515625 21.921875 7.515625 \r\nQ 23.390625 7.515625 25.78125 7.859375 \r\nz\r\n\" id=\"ArialMT-116\"/>\r\n       </defs>\r\n       <use xlink:href=\"#ArialMT-65\"/>\r\n       <use x=\"66.699219\" xlink:href=\"#ArialMT-100\"/>\r\n       <use x=\"122.314453\" xlink:href=\"#ArialMT-97\"/>\r\n       <use x=\"177.929688\" xlink:href=\"#ArialMT-66\"/>\r\n       <use x=\"244.628906\" xlink:href=\"#ArialMT-111\"/>\r\n       <use x=\"300.244141\" xlink:href=\"#ArialMT-111\"/>\r\n       <use x=\"355.859375\" xlink:href=\"#ArialMT-115\"/>\r\n       <use x=\"405.859375\" xlink:href=\"#ArialMT-116\"/>\r\n      </g>\r\n     </g>\r\n    </g>\r\n   </g>\r\n   <g id=\"matplotlib.axis_2\">\r\n    <g id=\"ytick_1\">\r\n     <g id=\"line2d_1\">\r\n      <path clip-path=\"url(#p962dccdf74)\" d=\"M 42.635 224.64 \r\nL 377.435 224.64 \r\n\" style=\"fill:none;stroke:#ffffff;stroke-linecap:round;stroke-width:1.5;\"/>\r\n     </g>\r\n     <g id=\"text_8\">\r\n      <!-- 0.0 -->\r\n      <g style=\"fill:#262626;\" transform=\"translate(7.2 230.545195)scale(0.165 -0.165)\">\r\n       <defs>\r\n        <path d=\"M 4.15625 35.296875 \r\nQ 4.15625 48 6.765625 55.734375 \r\nQ 9.375 63.484375 14.515625 67.671875 \r\nQ 19.671875 71.875 27.484375 71.875 \r\nQ 33.25 71.875 37.59375 69.546875 \r\nQ 41.9375 67.234375 44.765625 62.859375 \r\nQ 47.609375 58.5 49.21875 52.21875 \r\nQ 50.828125 45.953125 50.828125 35.296875 \r\nQ 50.828125 22.703125 48.234375 14.96875 \r\nQ 45.65625 7.234375 40.5 3 \r\nQ 35.359375 -1.21875 27.484375 -1.21875 \r\nQ 17.140625 -1.21875 11.234375 6.203125 \r\nQ 4.15625 15.140625 4.15625 35.296875 \r\nz\r\nM 13.1875 35.296875 \r\nQ 13.1875 17.671875 17.3125 11.828125 \r\nQ 21.4375 6 27.484375 6 \r\nQ 33.546875 6 37.671875 11.859375 \r\nQ 41.796875 17.71875 41.796875 35.296875 \r\nQ 41.796875 52.984375 37.671875 58.78125 \r\nQ 33.546875 64.59375 27.390625 64.59375 \r\nQ 21.34375 64.59375 17.71875 59.46875 \r\nQ 13.1875 52.9375 13.1875 35.296875 \r\nz\r\n\" id=\"ArialMT-48\"/>\r\n        <path d=\"M 9.078125 0 \r\nL 9.078125 10.015625 \r\nL 19.09375 10.015625 \r\nL 19.09375 0 \r\nz\r\n\" id=\"ArialMT-46\"/>\r\n       </defs>\r\n       <use xlink:href=\"#ArialMT-48\"/>\r\n       <use x=\"55.615234\" xlink:href=\"#ArialMT-46\"/>\r\n       <use x=\"83.398438\" xlink:href=\"#ArialMT-48\"/>\r\n      </g>\r\n     </g>\r\n    </g>\r\n    <g id=\"ytick_2\">\r\n     <g id=\"line2d_2\">\r\n      <path clip-path=\"url(#p962dccdf74)\" d=\"M 42.635 186.530741 \r\nL 377.435 186.530741 \r\n\" style=\"fill:none;stroke:#ffffff;stroke-linecap:round;stroke-width:1.5;\"/>\r\n     </g>\r\n     <g id=\"text_9\">\r\n      <!-- 0.1 -->\r\n      <g style=\"fill:#262626;\" transform=\"translate(7.2 192.435936)scale(0.165 -0.165)\">\r\n       <defs>\r\n        <path d=\"M 37.25 0 \r\nL 28.46875 0 \r\nL 28.46875 56 \r\nQ 25.296875 52.984375 20.140625 49.953125 \r\nQ 14.984375 46.921875 10.890625 45.40625 \r\nL 10.890625 53.90625 \r\nQ 18.265625 57.375 23.78125 62.296875 \r\nQ 29.296875 67.234375 31.59375 71.875 \r\nL 37.25 71.875 \r\nz\r\n\" id=\"ArialMT-49\"/>\r\n       </defs>\r\n       <use xlink:href=\"#ArialMT-48\"/>\r\n       <use x=\"55.615234\" xlink:href=\"#ArialMT-46\"/>\r\n       <use x=\"83.398438\" xlink:href=\"#ArialMT-49\"/>\r\n      </g>\r\n     </g>\r\n    </g>\r\n    <g id=\"ytick_3\">\r\n     <g id=\"line2d_3\">\r\n      <path clip-path=\"url(#p962dccdf74)\" d=\"M 42.635 148.421482 \r\nL 377.435 148.421482 \r\n\" style=\"fill:none;stroke:#ffffff;stroke-linecap:round;stroke-width:1.5;\"/>\r\n     </g>\r\n     <g id=\"text_10\">\r\n      <!-- 0.2 -->\r\n      <g style=\"fill:#262626;\" transform=\"translate(7.2 154.326677)scale(0.165 -0.165)\">\r\n       <defs>\r\n        <path d=\"M 50.34375 8.453125 \r\nL 50.34375 0 \r\nL 3.03125 0 \r\nQ 2.9375 3.171875 4.046875 6.109375 \r\nQ 5.859375 10.9375 9.828125 15.625 \r\nQ 13.8125 20.3125 21.34375 26.46875 \r\nQ 33.015625 36.03125 37.109375 41.625 \r\nQ 41.21875 47.21875 41.21875 52.203125 \r\nQ 41.21875 57.421875 37.46875 61 \r\nQ 33.734375 64.59375 27.734375 64.59375 \r\nQ 21.390625 64.59375 17.578125 60.78125 \r\nQ 13.765625 56.984375 13.71875 50.25 \r\nL 4.6875 51.171875 \r\nQ 5.609375 61.28125 11.65625 66.578125 \r\nQ 17.71875 71.875 27.9375 71.875 \r\nQ 38.234375 71.875 44.234375 66.15625 \r\nQ 50.25 60.453125 50.25 52 \r\nQ 50.25 47.703125 48.484375 43.546875 \r\nQ 46.734375 39.40625 42.65625 34.8125 \r\nQ 38.578125 30.21875 29.109375 22.21875 \r\nQ 21.1875 15.578125 18.9375 13.203125 \r\nQ 16.703125 10.84375 15.234375 8.453125 \r\nz\r\n\" id=\"ArialMT-50\"/>\r\n       </defs>\r\n       <use xlink:href=\"#ArialMT-48\"/>\r\n       <use x=\"55.615234\" xlink:href=\"#ArialMT-46\"/>\r\n       <use x=\"83.398438\" xlink:href=\"#ArialMT-50\"/>\r\n      </g>\r\n     </g>\r\n    </g>\r\n    <g id=\"ytick_4\">\r\n     <g id=\"line2d_4\">\r\n      <path clip-path=\"url(#p962dccdf74)\" d=\"M 42.635 110.312223 \r\nL 377.435 110.312223 \r\n\" style=\"fill:none;stroke:#ffffff;stroke-linecap:round;stroke-width:1.5;\"/>\r\n     </g>\r\n     <g id=\"text_11\">\r\n      <!-- 0.3 -->\r\n      <g style=\"fill:#262626;\" transform=\"translate(7.2 116.217418)scale(0.165 -0.165)\">\r\n       <defs>\r\n        <path d=\"M 4.203125 18.890625 \r\nL 12.984375 20.0625 \r\nQ 14.5 12.59375 18.140625 9.296875 \r\nQ 21.78125 6 27 6 \r\nQ 33.203125 6 37.46875 10.296875 \r\nQ 41.75 14.59375 41.75 20.953125 \r\nQ 41.75 27 37.796875 30.921875 \r\nQ 33.84375 34.859375 27.734375 34.859375 \r\nQ 25.25 34.859375 21.53125 33.890625 \r\nL 22.515625 41.609375 \r\nQ 23.390625 41.5 23.921875 41.5 \r\nQ 29.546875 41.5 34.03125 44.421875 \r\nQ 38.53125 47.359375 38.53125 53.46875 \r\nQ 38.53125 58.296875 35.25 61.46875 \r\nQ 31.984375 64.65625 26.8125 64.65625 \r\nQ 21.6875 64.65625 18.265625 61.421875 \r\nQ 14.84375 58.203125 13.875 51.765625 \r\nL 5.078125 53.328125 \r\nQ 6.6875 62.15625 12.390625 67.015625 \r\nQ 18.109375 71.875 26.609375 71.875 \r\nQ 32.46875 71.875 37.390625 69.359375 \r\nQ 42.328125 66.84375 44.9375 62.5 \r\nQ 47.5625 58.15625 47.5625 53.265625 \r\nQ 47.5625 48.640625 45.0625 44.828125 \r\nQ 42.578125 41.015625 37.703125 38.765625 \r\nQ 44.046875 37.3125 47.5625 32.6875 \r\nQ 51.078125 28.078125 51.078125 21.140625 \r\nQ 51.078125 11.765625 44.234375 5.25 \r\nQ 37.40625 -1.265625 26.953125 -1.265625 \r\nQ 17.53125 -1.265625 11.296875 4.34375 \r\nQ 5.078125 9.96875 4.203125 18.890625 \r\nz\r\n\" id=\"ArialMT-51\"/>\r\n       </defs>\r\n       <use xlink:href=\"#ArialMT-48\"/>\r\n       <use x=\"55.615234\" xlink:href=\"#ArialMT-46\"/>\r\n       <use x=\"83.398438\" xlink:href=\"#ArialMT-51\"/>\r\n      </g>\r\n     </g>\r\n    </g>\r\n    <g id=\"ytick_5\">\r\n     <g id=\"line2d_5\">\r\n      <path clip-path=\"url(#p962dccdf74)\" d=\"M 42.635 72.202963 \r\nL 377.435 72.202963 \r\n\" style=\"fill:none;stroke:#ffffff;stroke-linecap:round;stroke-width:1.5;\"/>\r\n     </g>\r\n     <g id=\"text_12\">\r\n      <!-- 0.4 -->\r\n      <g style=\"fill:#262626;\" transform=\"translate(7.2 78.108159)scale(0.165 -0.165)\">\r\n       <defs>\r\n        <path d=\"M 32.328125 0 \r\nL 32.328125 17.140625 \r\nL 1.265625 17.140625 \r\nL 1.265625 25.203125 \r\nL 33.9375 71.578125 \r\nL 41.109375 71.578125 \r\nL 41.109375 25.203125 \r\nL 50.78125 25.203125 \r\nL 50.78125 17.140625 \r\nL 41.109375 17.140625 \r\nL 41.109375 0 \r\nz\r\nM 32.328125 25.203125 \r\nL 32.328125 57.46875 \r\nL 9.90625 25.203125 \r\nz\r\n\" id=\"ArialMT-52\"/>\r\n       </defs>\r\n       <use xlink:href=\"#ArialMT-48\"/>\r\n       <use x=\"55.615234\" xlink:href=\"#ArialMT-46\"/>\r\n       <use x=\"83.398438\" xlink:href=\"#ArialMT-52\"/>\r\n      </g>\r\n     </g>\r\n    </g>\r\n    <g id=\"ytick_6\">\r\n     <g id=\"line2d_6\">\r\n      <path clip-path=\"url(#p962dccdf74)\" d=\"M 42.635 34.093704 \r\nL 377.435 34.093704 \r\n\" style=\"fill:none;stroke:#ffffff;stroke-linecap:round;stroke-width:1.5;\"/>\r\n     </g>\r\n     <g id=\"text_13\">\r\n      <!-- 0.5 -->\r\n      <g style=\"fill:#262626;\" transform=\"translate(7.2 39.9989)scale(0.165 -0.165)\">\r\n       <defs>\r\n        <path d=\"M 4.15625 18.75 \r\nL 13.375 19.53125 \r\nQ 14.40625 12.796875 18.140625 9.390625 \r\nQ 21.875 6 27.15625 6 \r\nQ 33.5 6 37.890625 10.78125 \r\nQ 42.28125 15.578125 42.28125 23.484375 \r\nQ 42.28125 31 38.0625 35.34375 \r\nQ 33.84375 39.703125 27 39.703125 \r\nQ 22.75 39.703125 19.328125 37.765625 \r\nQ 15.921875 35.84375 13.96875 32.765625 \r\nL 5.71875 33.84375 \r\nL 12.640625 70.609375 \r\nL 48.25 70.609375 \r\nL 48.25 62.203125 \r\nL 19.671875 62.203125 \r\nL 15.828125 42.96875 \r\nQ 22.265625 47.46875 29.34375 47.46875 \r\nQ 38.71875 47.46875 45.15625 40.96875 \r\nQ 51.609375 34.46875 51.609375 24.265625 \r\nQ 51.609375 14.546875 45.953125 7.46875 \r\nQ 39.0625 -1.21875 27.15625 -1.21875 \r\nQ 17.390625 -1.21875 11.203125 4.25 \r\nQ 5.03125 9.71875 4.15625 18.75 \r\nz\r\n\" id=\"ArialMT-53\"/>\r\n       </defs>\r\n       <use xlink:href=\"#ArialMT-48\"/>\r\n       <use x=\"55.615234\" xlink:href=\"#ArialMT-46\"/>\r\n       <use x=\"83.398438\" xlink:href=\"#ArialMT-53\"/>\r\n      </g>\r\n     </g>\r\n    </g>\r\n   </g>\r\n   <g id=\"patch_3\">\r\n    <path clip-path=\"url(#p962dccdf74)\" d=\"M 47.417857 224.64 \r\nL 85.680714 224.64 \r\nL 85.680714 82.378136 \r\nL 47.417857 82.378136 \r\nz\r\n\" style=\"fill:#5875a4;stroke:#ffffff;stroke-linejoin:miter;stroke-width:1.5;\"/>\r\n   </g>\r\n   <g id=\"patch_4\">\r\n    <path clip-path=\"url(#p962dccdf74)\" d=\"M 95.246429 224.64 \r\nL 133.509286 224.64 \r\nL 133.509286 33.78883 \r\nL 95.246429 33.78883 \r\nz\r\n\" style=\"fill:#cc8963;stroke:#ffffff;stroke-linejoin:miter;stroke-width:1.5;\"/>\r\n   </g>\r\n   <g id=\"patch_5\">\r\n    <path clip-path=\"url(#p962dccdf74)\" d=\"M 143.075 224.64 \r\nL 181.337857 224.64 \r\nL 181.337857 30.16845 \r\nL 143.075 30.16845 \r\nz\r\n\" style=\"fill:#5f9e6e;stroke:#ffffff;stroke-linejoin:miter;stroke-width:1.5;\"/>\r\n   </g>\r\n   <g id=\"patch_6\">\r\n    <path clip-path=\"url(#p962dccdf74)\" d=\"M 190.903571 224.64 \r\nL 229.166429 224.64 \r\nL 229.166429 25.671558 \r\nL 190.903571 25.671558 \r\nz\r\n\" style=\"fill:#b55d60;stroke:#ffffff;stroke-linejoin:miter;stroke-width:1.5;\"/>\r\n   </g>\r\n   <g id=\"patch_7\">\r\n    <path clip-path=\"url(#p962dccdf74)\" d=\"M 238.732143 224.64 \r\nL 276.995 224.64 \r\nL 276.995 27.081601 \r\nL 238.732143 27.081601 \r\nz\r\n\" style=\"fill:#857aab;stroke:#ffffff;stroke-linejoin:miter;stroke-width:1.5;\"/>\r\n   </g>\r\n   <g id=\"patch_8\">\r\n    <path clip-path=\"url(#p962dccdf74)\" d=\"M 286.560714 224.64 \r\nL 324.823571 224.64 \r\nL 324.823571 20.641136 \r\nL 286.560714 20.641136 \r\nz\r\n\" style=\"fill:#8d7866;stroke:#ffffff;stroke-linejoin:miter;stroke-width:1.5;\"/>\r\n   </g>\r\n   <g id=\"patch_9\">\r\n    <path clip-path=\"url(#p962dccdf74)\" d=\"M 334.389286 224.64 \r\nL 372.652143 224.64 \r\nL 372.652143 17.554286 \r\nL 334.389286 17.554286 \r\nz\r\n\" style=\"fill:#d095bf;stroke:#ffffff;stroke-linejoin:miter;stroke-width:1.5;\"/>\r\n   </g>\r\n   <g id=\"line2d_7\">\r\n    <path clip-path=\"url(#p962dccdf74)\" style=\"fill:none;stroke:#424242;stroke-linecap:round;stroke-width:4.05;\"/>\r\n   </g>\r\n   <g id=\"line2d_8\">\r\n    <path clip-path=\"url(#p962dccdf74)\" style=\"fill:none;stroke:#424242;stroke-linecap:round;stroke-width:4.05;\"/>\r\n   </g>\r\n   <g id=\"line2d_9\">\r\n    <path clip-path=\"url(#p962dccdf74)\" style=\"fill:none;stroke:#424242;stroke-linecap:round;stroke-width:4.05;\"/>\r\n   </g>\r\n   <g id=\"line2d_10\">\r\n    <path clip-path=\"url(#p962dccdf74)\" style=\"fill:none;stroke:#424242;stroke-linecap:round;stroke-width:4.05;\"/>\r\n   </g>\r\n   <g id=\"line2d_11\">\r\n    <path clip-path=\"url(#p962dccdf74)\" style=\"fill:none;stroke:#424242;stroke-linecap:round;stroke-width:4.05;\"/>\r\n   </g>\r\n   <g id=\"line2d_12\">\r\n    <path clip-path=\"url(#p962dccdf74)\" style=\"fill:none;stroke:#424242;stroke-linecap:round;stroke-width:4.05;\"/>\r\n   </g>\r\n   <g id=\"line2d_13\">\r\n    <path clip-path=\"url(#p962dccdf74)\" style=\"fill:none;stroke:#424242;stroke-linecap:round;stroke-width:4.05;\"/>\r\n   </g>\r\n   <g id=\"patch_10\">\r\n    <path d=\"M 42.635 224.64 \r\nL 42.635 7.2 \r\n\" style=\"fill:none;stroke:#ffffff;stroke-linecap:square;stroke-linejoin:miter;stroke-width:1.875;\"/>\r\n   </g>\r\n   <g id=\"patch_11\">\r\n    <path d=\"M 377.435 224.64 \r\nL 377.435 7.2 \r\n\" style=\"fill:none;stroke:#ffffff;stroke-linecap:square;stroke-linejoin:miter;stroke-width:1.875;\"/>\r\n   </g>\r\n   <g id=\"patch_12\">\r\n    <path d=\"M 42.635 224.64 \r\nL 377.435 224.64 \r\n\" style=\"fill:none;stroke:#ffffff;stroke-linecap:square;stroke-linejoin:miter;stroke-width:1.875;\"/>\r\n   </g>\r\n   <g id=\"patch_13\">\r\n    <path d=\"M 42.635 7.2 \r\nL 377.435 7.2 \r\n\" style=\"fill:none;stroke:#ffffff;stroke-linecap:square;stroke-linejoin:miter;stroke-width:1.875;\"/>\r\n   </g>\r\n  </g>\r\n </g>\r\n <defs>\r\n  <clipPath id=\"p962dccdf74\">\r\n   <rect height=\"217.44\" width=\"334.8\" x=\"42.635\" y=\"7.2\"/>\r\n  </clipPath>\r\n </defs>\r\n</svg>\r\n",
      "image/png": "[encoded data removed]"
     },
     "metadata": {}
    }
   ],
   "source": [
    "%matplotlib inline\n",
    "import seaborn as sns\n",
    "import matplotlib.pyplot as plt\n",
    "\n",
    "# RF value uses GridSearchCV\n",
    "labels = [\"Baseline\", \"DT\", \"RF\", \"NB\", \"KNN\", \"SVM\", \"AdaBoost\"]\n",
    "scores = [0.3733, 0.5008, 0.5103, 0.5221, 0.5184, 0.5353, 0.5434]\n",
    "\n",
    "sns.set(style=\"darkgrid\", context=\"talk\")\n",
    "sns.barplot(labels, scores)"
   ]
  },
  {
   "cell_type": "markdown",
   "metadata": {},
   "source": [
    "The best model is AdaBoost as it has the highest F1 score relative to the other classifiers utilized."
   ]
  },
  {
   "source": [
    "<h2> Storing preferred classification model using pickle <h2>"
   ],
   "cell_type": "markdown",
   "metadata": {}
  },
  {
   "cell_type": "code",
   "execution_count": 95,
   "metadata": {},
   "outputs": [],
   "source": [
    "# To serialize data in its current state and store for future state\n",
    "import pickle\n",
    "filename = 'model' # Name of file in folder\n",
    "outfile = open(filename, 'wb') # wb\n",
    "\n",
    "# Pickles the classification model into the 'model' file\n",
    "pickle.dump(boostmodel, outfile)\n",
    "outfile.close()"
   ]
  },
  {
   "cell_type": "markdown",
   "metadata": {},
   "source": [
    "<h2> Forecasting: Testing the Best Model on the 2019-2020 Regular Season <h2>"
   ]
  },
  {
   "cell_type": "code",
   "execution_count": 70,
   "metadata": {},
   "outputs": [],
   "source": [
    "# Imports new dataset for 2019-2020 regular season\n",
    "# Note this season ended in March due to COVID-19, so dataset size is less.\n",
    "sheet2 = client.open(\"NHL_Data\").worksheet('2019-20') # Indicates the worksheet name to be opened"
   ]
  },
  {
   "cell_type": "code",
   "execution_count": 71,
   "metadata": {
    "tags": [
     "outputPrepend"
    ]
   },
   "outputs": [
    {
     "output_type": "stream",
     "name": "stdout",
     "text": "Home': 'New York Islanders',\n  'Home Goals': 4,\n  'Visitor': 'San Jose Sharks',\n  'Visitor Goals': 1},\n {'Att.': 18573,\n  'Date': '2020-02-23',\n  'Game Finish': '',\n  'Home': 'Washington Capitals',\n  'Home Goals': 5,\n  'Visitor': 'Pittsburgh Penguins',\n  'Visitor Goals': 3},\n {'Att.': 17518,\n  'Date': '2020-02-24',\n  'Game Finish': 'OT',\n  'Home': 'Columbus Blue Jackets',\n  'Home Goals': 4,\n  'Visitor': 'Ottawa Senators',\n  'Visitor Goals': 3},\n {'Att.': 15431,\n  'Date': '2020-02-25',\n  'Game Finish': 'OT',\n  'Home': 'Anaheim Ducks',\n  'Home Goals': 4,\n  'Visitor': 'Edmonton Oilers',\n  'Visitor Goals': 3},\n {'Att.': 12391,\n  'Date': '2020-02-25',\n  'Game Finish': '',\n  'Home': 'Arizona Coyotes',\n  'Home Goals': 1,\n  'Visitor': 'Florida Panthers',\n  'Visitor Goals': 2},\n {'Att.': 17850,\n  'Date': '2020-02-25',\n  'Game Finish': '',\n  'Home': 'Boston Bruins',\n  'Home Goals': 2,\n  'Visitor': 'Calgary Flames',\n  'Visitor Goals': 5},\n {'Att.': 18176,\n  'Date': '2020-02-25',\n  'Game Finish': '',\n  'Home': 'Carolina Hurricanes',\n  'Home Goals': 1,\n  'Visitor': 'Dallas Stars',\n  'Visitor Goals': 4},\n {'Att.': 17525,\n  'Date': '2020-02-25',\n  'Game Finish': '',\n  'Home': 'Detroit Red Wings',\n  'Home Goals': 1,\n  'Visitor': 'New Jersey Devils',\n  'Visitor Goals': 4},\n {'Att.': 17057,\n  'Date': '2020-02-25',\n  'Game Finish': '',\n  'Home': 'Minnesota Wild',\n  'Home Goals': 5,\n  'Visitor': 'Columbus Blue Jackets',\n  'Visitor Goals': 4},\n {'Att.': 21187,\n  'Date': '2020-02-25',\n  'Game Finish': 'OT',\n  'Home': 'Montreal Canadiens',\n  'Home Goals': 3,\n  'Visitor': 'Vancouver Canucks',\n  'Visitor Goals': 4},\n {'Att.': 17205,\n  'Date': '2020-02-25',\n  'Game Finish': '',\n  'Home': 'Nashville Predators',\n  'Home Goals': 3,\n  'Visitor': 'Ottawa Senators',\n  'Visitor Goals': 2},\n {'Att.': 13917,\n  'Date': '2020-02-25',\n  'Game Finish': 'OT',\n  'Home': 'New York Islanders',\n  'Home Goals': 3,\n  'Visitor': 'New York Rangers',\n  'Visitor Goals': 4},\n {'Att.': 18290,\n  'Date': '2020-02-25',\n  'Game Finish': '',\n  'Home': 'Philadelphia Flyers',\n  'Home Goals': 4,\n  'Visitor': 'San Jose Sharks',\n  'Visitor Goals': 2},\n {'Att.': 18096,\n  'Date': '2020-02-25',\n  'Game Finish': '',\n  'Home': 'St. Louis Blues',\n  'Home Goals': 6,\n  'Visitor': 'Chicago Blackhawks',\n  'Visitor Goals': 5},\n {'Att.': 19092,\n  'Date': '2020-02-25',\n  'Game Finish': '',\n  'Home': 'Tampa Bay Lightning',\n  'Home Goals': 3,\n  'Visitor': 'Toronto Maple Leafs',\n  'Visitor Goals': 4},\n {'Att.': 18573,\n  'Date': '2020-02-25',\n  'Game Finish': 'SO',\n  'Home': 'Washington Capitals',\n  'Home Goals': 4,\n  'Visitor': 'Winnipeg Jets',\n  'Visitor Goals': 3},\n {'Att.': 18020,\n  'Date': '2020-02-26',\n  'Game Finish': '',\n  'Home': 'Colorado Avalanche',\n  'Home Goals': 3,\n  'Visitor': 'Buffalo Sabres',\n  'Visitor Goals': 2},\n {'Att.': 16898,\n  'Date': '2020-02-26',\n  'Game Finish': '',\n  'Home': 'Los Angeles Kings',\n  'Home Goals': 2,\n  'Visitor': 'Pittsburgh Penguins',\n  'Visitor Goals': 1},\n {'Att.': 18421,\n  'Date': '2020-02-26',\n  'Game Finish': '',\n  'Home': 'Vegas Golden Knights',\n  'Home Goals': 3,\n  'Visitor': 'Edmonton Oilers',\n  'Visitor Goals': 0},\n {'Att.': 17850,\n  'Date': '2020-02-27',\n  'Game Finish': '',\n  'Home': 'Boston Bruins',\n  'Home Goals': 4,\n  'Visitor': 'Dallas Stars',\n  'Visitor Goals': 3},\n {'Att.': 17663,\n  'Date': '2020-02-27',\n  'Game Finish': '',\n  'Home': 'Detroit Red Wings',\n  'Home Goals': 1,\n  'Visitor': 'Minnesota Wild',\n  'Visitor Goals': 7},\n {'Att.': 16322,\n  'Date': '2020-02-27',\n  'Game Finish': '',\n  'Home': 'Florida Panthers',\n  'Home Goals': 3,\n  'Visitor': 'Toronto Maple Leafs',\n  'Visitor Goals': 5},\n {'Att.': 20946,\n  'Date': '2020-02-27',\n  'Game Finish': '',\n  'Home': 'Montreal Canadiens',\n  'Home Goals': 2,\n  'Visitor': 'New York Rangers',\n  'Visitor Goals': 5},\n {'Att.': 17350,\n  'Date': '2020-02-27',\n  'Game Finish': 'OT',\n  'Home': 'Nashville Predators',\n  'Home Goals': 4,\n  'Visitor': 'Calgary Flames',\n  'Visitor Goals': 3},\n {'Att.': 12166,\n  'Date': '2020-02-27',\n  'Game Finish': '',\n  'Home': 'Ottawa Senators',\n  'Home Goals': 5,\n  'Visitor': 'Vancouver Canucks',\n  'Visitor Goals': 2},\n {'Att.': 16913,\n  'Date': '2020-02-27',\n  'Game Finish': 'OT',\n  'Home': 'San Jose Sharks',\n  'Home Goals': 3,\n  'Visitor': 'New Jersey Devils',\n  'Visitor Goals': 2},\n {'Att.': 18096,\n  'Date': '2020-02-27',\n  'Game Finish': 'OT',\n  'Home': 'St. Louis Blues',\n  'Home Goals': 3,\n  'Visitor': 'New York Islanders',\n  'Visitor Goals': 2},\n {'Att.': 19092,\n  'Date': '2020-02-27',\n  'Game Finish': '',\n  'Home': 'Tampa Bay Lightning',\n  'Home Goals': 2,\n  'Visitor': 'Chicago Blackhawks',\n  'Visitor Goals': 5},\n {'Att.': 15325,\n  'Date': '2020-02-27',\n  'Game Finish': '',\n  'Home': 'Winnipeg Jets',\n  'Home Goals': 3,\n  'Visitor': 'Washington Capitals',\n  'Visitor Goals': 0},\n {'Att.': 16588,\n  'Date': '2020-02-28',\n  'Game Finish': '',\n  'Home': 'Anaheim Ducks',\n  'Home Goals': 3,\n  'Visitor': 'Pittsburgh Penguins',\n  'Visitor Goals': 2},\n {'Att.': 18680,\n  'Date': '2020-02-28',\n  'Game Finish': '',\n  'Home': 'Carolina Hurricanes',\n  'Home Goals': 2,\n  'Visitor': 'Colorado Avalanche',\n  'Visitor Goals': 3},\n {'Att.': 18955,\n  'Date': '2020-02-28',\n  'Game Finish': '',\n  'Home': 'Columbus Blue Jackets',\n  'Home Goals': 0,\n  'Visitor': 'Minnesota Wild',\n  'Visitor Goals': 5},\n {'Att.': 19581,\n  'Date': '2020-02-28',\n  'Game Finish': '',\n  'Home': 'Philadelphia Flyers',\n  'Home Goals': 5,\n  'Visitor': 'New York Rangers',\n  'Visitor Goals': 2},\n {'Att.': 18404,\n  'Date': '2020-02-28',\n  'Game Finish': '',\n  'Home': 'Vegas Golden Knights',\n  'Home Goals': 4,\n  'Visitor': 'Buffalo Sabres',\n  'Visitor Goals': 2},\n {'Att.': 17125,\n  'Date': '2020-02-29',\n  'Game Finish': '',\n  'Home': 'Arizona Coyotes',\n  'Home Goals': 5,\n  'Visitor': 'Buffalo Sabres',\n  'Visitor Goals': 2},\n {'Att.': 18347,\n  'Date': '2020-02-29',\n  'Game Finish': '',\n  'Home': 'Edmonton Oilers',\n  'Home Goals': 3,\n  'Visitor': 'Winnipeg Jets',\n  'Visitor Goals': 2},\n {'Att.': 16055,\n  'Date': '2020-02-29',\n  'Game Finish': 'SO',\n  'Home': 'Florida Panthers',\n  'Home Goals': 2,\n  'Visitor': 'Chicago Blackhawks',\n  'Visitor Goals': 3},\n {'Att.': 17372,\n  'Date': '2020-02-29',\n  'Game Finish': 'OT',\n  'Home': 'Los Angeles Kings',\n  'Home Goals': 2,\n  'Visitor': 'New Jersey Devils',\n  'Visitor Goals': 1},\n {'Att.': 21207,\n  'Date': '2020-02-29',\n  'Game Finish': 'OT',\n  'Home': 'Montreal Canadiens',\n  'Home Goals': 4,\n  'Visitor': 'Carolina Hurricanes',\n  'Visitor Goals': 3},\n {'Att.': 17619,\n  'Date': '2020-02-29',\n  'Game Finish': '',\n  'Home': 'Nashville Predators',\n  'Home Goals': 2,\n  'Visitor': 'Colorado Avalanche',\n  'Visitor Goals': 3},\n {'Att.': 13917,\n  'Date': '2020-02-29',\n  'Game Finish': '',\n  'Home': 'New York Islanders',\n  'Home Goals': 0,\n  'Visitor': 'Boston Bruins',\n  'Visitor Goals': 4},\n {'Att.': 15505,\n  'Date': '2020-02-29',\n  'Game Finish': 'SO',\n  'Home': 'Ottawa Senators',\n  'Home Goals': 4,\n  'Visitor': 'Detroit Red Wings',\n  'Visitor Goals': 3},\n {'Att.': 17562,\n  'Date': '2020-02-29',\n  'Game Finish': '',\n  'Home': 'San Jose Sharks',\n  'Home Goals': 5,\n  'Visitor': 'Pittsburgh Penguins',\n  'Visitor Goals': 0},\n {'Att.': 18096,\n  'Date': '2020-02-29',\n  'Game Finish': 'SO',\n  'Home': 'St. Louis Blues',\n  'Home Goals': 4,\n  'Visitor': 'Dallas Stars',\n  'Visitor Goals': 3},\n {'Att.': 19092,\n  'Date': '2020-02-29',\n  'Game Finish': '',\n  'Home': 'Tampa Bay Lightning',\n  'Home Goals': 4,\n  'Visitor': 'Calgary Flames',\n  'Visitor Goals': 3},\n {'Att.': 19371,\n  'Date': '2020-02-29',\n  'Game Finish': '',\n  'Home': 'Toronto Maple Leafs',\n  'Home Goals': 4,\n  'Visitor': 'Vancouver Canucks',\n  'Visitor Goals': 2},\n {'Att.': 16195,\n  'Date': '2020-03-01',\n  'Game Finish': '',\n  'Home': 'Anaheim Ducks',\n  'Home Goals': 0,\n  'Visitor': 'New Jersey Devils',\n  'Visitor Goals': 3},\n {'Att.': 18378,\n  'Date': '2020-03-01',\n  'Game Finish': '',\n  'Home': 'Columbus Blue Jackets',\n  'Home Goals': 5,\n  'Visitor': 'Vancouver Canucks',\n  'Visitor Goals': 3},\n {'Att.': 14104,\n  'Date': '2020-03-01',\n  'Game Finish': '',\n  'Home': 'Florida Panthers',\n  'Home Goals': 0,\n  'Visitor': 'Calgary Flames',\n  'Visitor Goals': 3},\n {'Att.': 17388,\n  'Date': '2020-03-01',\n  'Game Finish': '',\n  'Home': 'Minnesota Wild',\n  'Home Goals': 3,\n  'Visitor': 'Washington Capitals',\n  'Visitor Goals': 4},\n {'Att.': 18006,\n  'Date': '2020-03-01',\n  'Game Finish': '',\n  'Home': 'New York Rangers',\n  'Home Goals': 3,\n  'Visitor': 'Philadelphia Flyers',\n  'Visitor Goals': 5},\n {'Att.': 18419,\n  'Date': '2020-03-01',\n  'Game Finish': '',\n  'Home': 'Vegas Golden Knights',\n  'Home Goals': 1,\n  'Visitor': 'Los Angeles Kings',\n  'Visitor Goals': 4},\n {'Att.': 17708,\n  'Date': '2020-03-02',\n  'Game Finish': '',\n  'Home': 'Detroit Red Wings',\n  'Home Goals': 1,\n  'Visitor': 'Colorado Avalanche',\n  'Visitor Goals': 2},\n {'Att.': 17316,\n  'Date': '2020-03-02',\n  'Game Finish': '',\n  'Home': 'Nashville Predators',\n  'Home Goals': 3,\n  'Visitor': 'Edmonton Oilers',\n  'Visitor Goals': 8},\n {'Att.': 21345,\n  'Date': '2020-03-03',\n  'Game Finish': '',\n  'Home': 'Chicago Blackhawks',\n  'Home Goals': 6,\n  'Visitor': 'Anaheim Ducks',\n  'Visitor Goals': 2},\n {'Att.': 18532,\n  'Date': '2020-03-03',\n  'Game Finish': 'OT',\n  'Home': 'Dallas Stars',\n  'Home Goals': 1,\n  'Visitor': 'Edmonton Oilers',\n  'Visitor Goals': 2},\n {'Att.': 17242,\n  'Date': '2020-03-03',\n  'Game Finish': '',\n  'Home': 'Minnesota Wild',\n  'Home Goals': 3,\n  'Visitor': 'Nashville Predators',\n  'Visitor Goals': 1},\n {'Att.': 12788,\n  'Date': '2020-03-03',\n  'Game Finish': '',\n  'Home': 'New York Islanders',\n  'Home Goals': 2,\n  'Visitor': 'Montreal Canadiens',\n  'Visitor Goals': 6},\n {'Att.': 16091,\n  'Date': '2020-03-03',\n  'Game Finish': '',\n  'Home': 'New York Rangers',\n  'Home Goals': 1,\n  'Visitor': 'St. Louis Blues',\n  'Visitor Goals': 3},\n {'Att.': 18455,\n  'Date': '2020-03-03',\n  'Game Finish': '',\n  'Home': 'Pittsburgh Penguins',\n  'Home Goals': 7,\n  'Visitor': 'Ottawa Senators',\n  'Visitor Goals': 3},\n {'Att.': 16129,\n  'Date': '2020-03-03',\n  'Game Finish': '',\n  'Home': 'San Jose Sharks',\n  'Home Goals': 5,\n  'Visitor': 'Toronto Maple Leafs',\n  'Visitor Goals': 2},\n {'Att.': 19092,\n  'Date': '2020-03-03',\n  'Game Finish': '',\n  'Home': 'Tampa Bay Lightning',\n  'Home Goals': 1,\n  'Visitor': 'Boston Bruins',\n  'Visitor Goals': 2},\n {'Att.': 18290,\n  'Date': '2020-03-03',\n  'Game Finish': '',\n  'Home': 'Vegas Golden Knights',\n  'Home Goals': 3,\n  'Visitor': 'New Jersey Devils',\n  'Visitor Goals': 0},\n {'Att.': 15325,\n  'Date': '2020-03-03',\n  'Game Finish': '',\n  'Home': 'Winnipeg Jets',\n  'Home Goals': 3,\n  'Visitor': 'Buffalo Sabres',\n  'Visitor Goals': 1},\n {'Att.': 18696,\n  'Date': '2020-03-04',\n  'Game Finish': 'OT',\n  'Home': 'Calgary Flames',\n  'Home Goals': 3,\n  'Visitor': 'Columbus Blue Jackets',\n  'Visitor Goals': 2},\n {'Att.': 18033,\n  'Date': '2020-03-04',\n  'Game Finish': 'OT',\n  'Home': 'Colorado Avalanche',\n  'Home Goals': 3,\n  'Visitor': 'Anaheim Ducks',\n  'Visitor Goals': 4},\n {'Att.': 17363,\n  'Date': '2020-03-04',\n  'Game Finish': '',\n  'Home': 'Vancouver Canucks',\n  'Home Goals': 2,\n  'Visitor': 'Arizona Coyotes',\n  'Visitor Goals': 4},\n {'Att.': 18573,\n  'Date': '2020-03-04',\n  'Game Finish': '',\n  'Home': 'Washington Capitals',\n  'Home Goals': 2,\n  'Visitor': 'Philadelphia Flyers',\n  'Visitor Goals': 5},\n {'Att.': 18236,\n  'Date': '2020-03-05',\n  'Game Finish': '',\n  'Home': 'Buffalo Sabres',\n  'Home Goals': 2,\n  'Visitor': 'Pittsburgh Penguins',\n  'Visitor Goals': 4},\n {'Att.': 21481,\n  'Date': '2020-03-05',\n  'Game Finish': '',\n  'Home': 'Chicago Blackhawks',\n  'Home Goals': 4,\n  'Visitor': 'Edmonton Oilers',\n  'Visitor Goals': 3},\n {'Att.': 15577,\n  'Date': '2020-03-05',\n  'Game Finish': 'OT',\n  'Home': 'Florida Panthers',\n  'Home Goals': 1,\n  'Visitor': 'Boston Bruins',\n  'Visitor Goals': 2},\n {'Att.': 17495,\n  'Date': '2020-03-05',\n  'Game Finish': 'SO',\n  'Home': 'Los Angeles Kings',\n  'Home Goals': 1,\n  'Visitor': 'Toronto Maple Leafs',\n  'Visitor Goals': 0},\n {'Att.': 17349,\n  'Date': '2020-03-05',\n  'Game Finish': '',\n  'Home': 'Nashville Predators',\n  'Home Goals': 2,\n  'Visitor': 'Dallas Stars',\n  'Visitor Goals': 0},\n {'Att.': 17277,\n  'Date': '2020-03-05',\n  'Game Finish': 'OT',\n  'Home': 'New York Rangers',\n  'Home Goals': 6,\n  'Visitor': 'Washington Capitals',\n  'Visitor Goals': 5},\n {'Att.': 13445,\n  'Date': '2020-03-05',\n  'Game Finish': '',\n  'Home': 'Ottawa Senators',\n  'Home Goals': 4,\n  'Visitor': 'New York Islanders',\n  'Visitor Goals': 3},\n {'Att.': 18900,\n  'Date': '2020-03-05',\n  'Game Finish': '',\n  'Home': 'Philadelphia Flyers',\n  'Home Goals': 4,\n  'Visitor': 'Carolina Hurricanes',\n  'Visitor Goals': 1},\n {'Att.': 14517,\n  'Date': '2020-03-05',\n  'Game Finish': '',\n  'Home': 'San Jose Sharks',\n  'Home Goals': 2,\n  'Visitor': 'Minnesota Wild',\n  'Visitor Goals': 3},\n {'Att.': 19092,\n  'Date': '2020-03-05',\n  'Game Finish': '',\n  'Home': 'Tampa Bay Lightning',\n  'Home Goals': 4,\n  'Visitor': 'Montreal Canadiens',\n  'Visitor Goals': 0},\n {'Att.': 15984,\n  'Date': '2020-03-06',\n  'Game Finish': '',\n  'Home': 'Anaheim Ducks',\n  'Home Goals': 2,\n  'Visitor': 'Toronto Maple Leafs',\n  'Visitor Goals': 1},\n {'Att.': 19206,\n  'Date': '2020-03-06',\n  'Game Finish': '',\n  'Home': 'Calgary Flames',\n  'Home Goals': 3,\n  'Visitor': 'Arizona Coyotes',\n  'Visitor Goals': 2},\n {'Att.': 19515,\n  'Date': '2020-03-06',\n  'Game Finish': '',\n  'Home': 'Detroit Red Wings',\n  'Home Goals': 2,\n  'Visitor': 'Chicago Blackhawks',\n  'Visitor Goals': 1},\n {'Att.': 14685,\n  'Date': '2020-03-06',\n  'Game Finish': '',\n  'Home': 'New Jersey Devils',\n  'Home Goals': 4,\n  'Visitor': 'St. Louis Blues',\n  'Visitor Goals': 2},\n {'Att.': 18871,\n  'Date': '2020-03-06',\n  'Game Finish': '',\n  'Home': 'Vancouver Canucks',\n  'Home Goals': 6,\n  'Visitor': 'Colorado Avalanche',\n  'Visitor Goals': 3},\n {'Att.': 15325,\n  'Date': '2020-03-06',\n  'Game Finish': '',\n  'Home': 'Winnipeg Jets',\n  'Home Goals': 4,\n  'Visitor': 'Vegas Golden Knights',\n  'Visitor Goals': 0},\n {'Att.': 17850,\n  'Date': '2020-03-07',\n  'Game Finish': '',\n  'Home': 'Boston Bruins',\n  'Home Goals': 3,\n  'Visitor': 'Tampa Bay Lightning',\n  'Visitor Goals': 5},\n {'Att.': 18532,\n  'Date': '2020-03-07',\n  'Game Finish': '',\n  'Home': 'Dallas Stars',\n  'Home Goals': 0,\n  'Visitor': 'Nashville Predators',\n  'Visitor Goals': 1},\n {'Att.': 17085,\n  'Date': '2020-03-07',\n  'Game Finish': '',\n  'Home': 'Edmonton Oilers',\n  'Home Goals': 4,\n  'Visitor': 'Columbus Blue Jackets',\n  'Visitor Goals': 1},\n {'Att.': 17873,\n  'Date': '2020-03-07',\n  'Game Finish': '',\n  'Home': 'Florida Panthers',\n  'Home Goals': 4,\n  'Visitor': 'Montreal Canadiens',\n  'Visitor Goals': 1},\n {'Att.': 16082,\n  'Date': '2020-03-07',\n  'Game Finish': '',\n  'Home': 'Los Angeles Kings',\n  'Home Goals': 7,\n  'Visitor': 'Minnesota Wild',\n  'Visitor Goals': 3},\n {'Att.': 13917,\n  'Date': '2020-03-07',\n  'Game Finish': 'OT',\n  'Home': 'New York Islanders',\n  'Home Goals': 2,\n  'Visitor': 'Carolina Hurricanes',\n  'Visitor Goals': 3},\n {'Att.': 17542,\n  'Date': '2020-03-07',\n  'Game Finish': '',\n  'Home': 'New York Rangers',\n  'Home Goals': 4,\n  'Visitor': 'New Jersey Devils',\n  'Visitor Goals': 6},\n {'Att.': 19781,\n  'Date': '2020-03-07',\n  'Game Finish': '',\n  'Home': 'Philadelphia Flyers',\n  'Home Goals': 3,\n  'Visitor': 'Buffalo Sabres',\n  'Visitor Goals': 1},\n {'Att.': 18656,\n  'Date': '2020-03-07',\n  'Game Finish': '',\n  'Home': 'Pittsburgh Penguins',\n  'Home Goals': 2,\n  'Visitor': 'Washington Capitals',\n  'Visitor Goals': 5},\n {'Att.': 16018,\n  'Date': '2020-03-07',\n  'Game Finish': 'OT',\n  'Home': 'San Jose Sharks',\n  'Home Goals': 1,\n  'Visitor': 'Ottawa Senators',\n  'Visitor Goals': 2},\n {'Att.': 15948,\n  'Date': '2020-03-08',\n  'Game Finish': 'OT',\n  'Home': 'Anaheim Ducks',\n  'Home Goals': 4,\n  'Visitor': 'Minnesota Wild',\n  'Visitor Goals': 5},\n {'Att.': 18841,\n  'Date': '2020-03-08',\n  'Game Finish': '',\n  'Home': 'Calgary Flames',\n  'Home Goals': 3,\n  'Visitor': 'Vegas Golden Knights',\n  'Visitor Goals': 5},\n {'Att.': 21815,\n  'Date': '2020-03-08',\n  'Game Finish': '',\n  'Home': 'Chicago Blackhawks',\n  'Home Goals': 0,\n  'Visitor': 'St. Louis Blues',\n  'Visitor Goals': 2},\n {'Att.': 18841,\n  'Date': '2020-03-08',\n  'Game Finish': 'SO',\n  'Home': 'Detroit Red Wings',\n  'Home Goals': 5,\n  'Visitor': 'Tampa Bay Lightning',\n  'Visitor Goals': 4},\n {'Att.': 18548,\n  'Date': '2020-03-08',\n  'Game Finish': '',\n  'Home': 'Pittsburgh Penguins',\n  'Home Goals': 2,\n  'Visitor': 'Carolina Hurricanes',\n  'Visitor Goals': 6},\n {'Att.': 14694,\n  'Date': '2020-03-08',\n  'Game Finish': '',\n  'Home': 'San Jose Sharks',\n  'Home Goals': 3,\n  'Visitor': 'Colorado Avalanche',\n  'Visitor Goals': 4},\n {'Att.': 18871,\n  'Date': '2020-03-08',\n  'Game Finish': '',\n  'Home': 'Vancouver Canucks',\n  'Home Goals': 1,\n  'Visitor': 'Columbus Blue Jackets',\n  'Visitor Goals': 2},\n {'Att.': 16539,\n  'Date': '2020-03-09',\n  'Game Finish': 'SO',\n  'Home': 'Buffalo Sabres',\n  'Home Goals': 3,\n  'Visitor': 'Washington Capitals',\n  'Visitor Goals': 2},\n {'Att.': 17327,\n  'Date': '2020-03-09',\n  'Game Finish': 'OT',\n  'Home': 'Edmonton Oilers',\n  'Home Goals': 2,\n  'Visitor': 'Vegas Golden Knights',\n  'Visitor Goals': 3},\n {'Att.': 15011,\n  'Date': '2020-03-09',\n  'Game Finish': '',\n  'Home': 'Los Angeles Kings',\n  'Home Goals': 3,\n  'Visitor': 'Colorado Avalanche',\n  'Visitor Goals': 1},\n {'Att.': 18096,\n  'Date': '2020-03-09',\n  'Game Finish': '',\n  'Home': 'St. Louis Blues',\n  'Home Goals': 1,\n  'Visitor': 'Florida Panthers',\n  'Visitor Goals': 2},\n {'Att.': 15325,\n  'Date': '2020-03-09',\n  'Game Finish': '',\n  'Home': 'Winnipeg Jets',\n  'Home Goals': 4,\n  'Visitor': 'Arizona Coyotes',\n  'Visitor Goals': 2},\n {'Att.': 15044,\n  'Date': '2020-03-10',\n  'Game Finish': '',\n  'Home': 'Anaheim Ducks',\n  'Home Goals': 5,\n  'Visitor': 'Ottawa Senators',\n  'Visitor Goals': 2},\n {'Att.': 18195,\n  'Date': '2020-03-10',\n  'Game Finish': '',\n  'Home': 'Dallas Stars',\n  'Home Goals': 2,\n  'Visitor': 'New York Rangers',\n  'Visitor Goals': 4},\n {'Att.': 17511,\n  'Date': '2020-03-10',\n  'Game Finish': '',\n  'Home': 'Detroit Red Wings',\n  'Home Goals': 2,\n  'Visitor': 'Carolina Hurricanes',\n  'Visitor Goals': 5},\n {'Att.': 21021,\n  'Date': '2020-03-10',\n  'Game Finish': '',\n  'Home': 'Montreal Canadiens',\n  'Home Goals': 2,\n  'Visitor': 'Nashville Predators',\n  'Visitor Goals': 4},\n {'Att.': 13473,\n  'Date': '2020-03-10',\n  'Game Finish': '',\n  'Home': 'New Jersey Devils',\n  'Home Goals': 2,\n  'Visitor': 'Pittsburgh Penguins',\n  'Visitor Goals': 5},\n {'Att.': 19689,\n  'Date': '2020-03-10',\n  'Game Finish': '',\n  'Home': 'Philadelphia Flyers',\n  'Home Goals': 0,\n  'Visitor': 'Boston Bruins',\n  'Visitor Goals': 2},\n {'Att.': 19124,\n  'Date': '2020-03-10',\n  'Game Finish': '',\n  'Home': 'Toronto Maple Leafs',\n  'Home Goals': 2,\n  'Visitor': 'Tampa Bay Lightning',\n  'Visitor Goals': 1},\n {'Att.': 18871,\n  'Date': '2020-03-10',\n  'Game Finish': 'SO',\n  'Home': 'Vancouver Canucks',\n  'Home Goals': 5,\n  'Visitor': 'New York Islanders',\n  'Visitor Goals': 4},\n {'Att.': 16195,\n  'Date': '2020-03-11',\n  'Game Finish': '',\n  'Home': 'Anaheim Ducks',\n  'Home Goals': 2,\n  'Visitor': 'St. Louis Blues',\n  'Visitor Goals': 4},\n {'Att.': 21275,\n  'Date': '2020-03-11',\n  'Game Finish': '',\n  'Home': 'Chicago Blackhawks',\n  'Home Goals': 6,\n  'Visitor': 'San Jose Sharks',\n  'Visitor Goals': 2},\n {'Att.': 18025,\n  'Date': '2020-03-11',\n  'Game Finish': 'OT',\n  'Home': 'Colorado Avalanche',\n  'Home Goals': 3,\n  'Visitor': 'New York Rangers',\n  'Visitor Goals': 2},\n {'Att.': 17165,\n  'Date': '2020-03-11',\n  'Game Finish': '',\n  'Home': 'Edmonton Oilers',\n  'Home Goals': 2,\n  'Visitor': 'Winnipeg Jets',\n  'Visitor Goals': 4},\n {'Att.': 12030,\n  'Date': '2020-03-11',\n  'Game Finish': '',\n  'Home': 'Los Angeles Kings',\n  'Home Goals': 3,\n  'Visitor': 'Ottawa Senators',\n  'Visitor Goals': 2}]\n"
    }
   ],
   "source": [
    "results_new = sheet2.get_all_records()\n",
    "\n",
    "# for better looking format when data is printed\n",
    "pprint(results_new)"
   ]
  },
  {
   "cell_type": "code",
   "execution_count": 72,
   "metadata": {},
   "outputs": [
    {
     "output_type": "execute_result",
     "data": {
      "text/plain": "            Date              Visitor  Visitor Goals                  Home  \\\n0     2019-10-02    Vancouver Canucks              2       Edmonton Oilers   \n1     2019-10-02  Washington Capitals              3       St. Louis Blues   \n2     2019-10-02      Ottawa Senators              3   Toronto Maple Leafs   \n3     2019-10-02      San Jose Sharks              1  Vegas Golden Knights   \n4     2019-10-03      Arizona Coyotes              1         Anaheim Ducks   \n...          ...                  ...            ...                   ...   \n1077  2020-03-11      St. Louis Blues              4         Anaheim Ducks   \n1078  2020-03-11      San Jose Sharks              2    Chicago Blackhawks   \n1079  2020-03-11     New York Rangers              2    Colorado Avalanche   \n1080  2020-03-11        Winnipeg Jets              4       Edmonton Oilers   \n1081  2020-03-11      Ottawa Senators              2     Los Angeles Kings   \n\n      Home Goals Game Finish   Att.  \n0              3              18347  \n1              2          OT  18096  \n2              5              19612  \n3              4              18588  \n4              2              17174  \n...          ...         ...    ...  \n1077           2              16195  \n1078           6              21275  \n1079           3          OT  18025  \n1080           2              17165  \n1081           3              12030  \n\n[1082 rows x 7 columns]",
      "text/html": "<div>\n<style scoped>\n    .dataframe tbody tr th:only-of-type {\n        vertical-align: middle;\n    }\n\n    .dataframe tbody tr th {\n        vertical-align: top;\n    }\n\n    .dataframe thead th {\n        text-align: right;\n    }\n</style>\n<table border=\"1\" class=\"dataframe\">\n  <thead>\n    <tr style=\"text-align: right;\">\n      <th></th>\n      <th>Date</th>\n      <th>Visitor</th>\n      <th>Visitor Goals</th>\n      <th>Home</th>\n      <th>Home Goals</th>\n      <th>Game Finish</th>\n      <th>Att.</th>\n    </tr>\n  </thead>\n  <tbody>\n    <tr>\n      <th>0</th>\n      <td>2019-10-02</td>\n      <td>Vancouver Canucks</td>\n      <td>2</td>\n      <td>Edmonton Oilers</td>\n      <td>3</td>\n      <td></td>\n      <td>18347</td>\n    </tr>\n    <tr>\n      <th>1</th>\n      <td>2019-10-02</td>\n      <td>Washington Capitals</td>\n      <td>3</td>\n      <td>St. Louis Blues</td>\n      <td>2</td>\n      <td>OT</td>\n      <td>18096</td>\n    </tr>\n    <tr>\n      <th>2</th>\n      <td>2019-10-02</td>\n      <td>Ottawa Senators</td>\n      <td>3</td>\n      <td>Toronto Maple Leafs</td>\n      <td>5</td>\n      <td></td>\n      <td>19612</td>\n    </tr>\n    <tr>\n      <th>3</th>\n      <td>2019-10-02</td>\n      <td>San Jose Sharks</td>\n      <td>1</td>\n      <td>Vegas Golden Knights</td>\n      <td>4</td>\n      <td></td>\n      <td>18588</td>\n    </tr>\n    <tr>\n      <th>4</th>\n      <td>2019-10-03</td>\n      <td>Arizona Coyotes</td>\n      <td>1</td>\n      <td>Anaheim Ducks</td>\n      <td>2</td>\n      <td></td>\n      <td>17174</td>\n    </tr>\n    <tr>\n      <th>...</th>\n      <td>...</td>\n      <td>...</td>\n      <td>...</td>\n      <td>...</td>\n      <td>...</td>\n      <td>...</td>\n      <td>...</td>\n    </tr>\n    <tr>\n      <th>1077</th>\n      <td>2020-03-11</td>\n      <td>St. Louis Blues</td>\n      <td>4</td>\n      <td>Anaheim Ducks</td>\n      <td>2</td>\n      <td></td>\n      <td>16195</td>\n    </tr>\n    <tr>\n      <th>1078</th>\n      <td>2020-03-11</td>\n      <td>San Jose Sharks</td>\n      <td>2</td>\n      <td>Chicago Blackhawks</td>\n      <td>6</td>\n      <td></td>\n      <td>21275</td>\n    </tr>\n    <tr>\n      <th>1079</th>\n      <td>2020-03-11</td>\n      <td>New York Rangers</td>\n      <td>2</td>\n      <td>Colorado Avalanche</td>\n      <td>3</td>\n      <td>OT</td>\n      <td>18025</td>\n    </tr>\n    <tr>\n      <th>1080</th>\n      <td>2020-03-11</td>\n      <td>Winnipeg Jets</td>\n      <td>4</td>\n      <td>Edmonton Oilers</td>\n      <td>2</td>\n      <td></td>\n      <td>17165</td>\n    </tr>\n    <tr>\n      <th>1081</th>\n      <td>2020-03-11</td>\n      <td>Ottawa Senators</td>\n      <td>2</td>\n      <td>Los Angeles Kings</td>\n      <td>3</td>\n      <td></td>\n      <td>12030</td>\n    </tr>\n  </tbody>\n</table>\n<p>1082 rows × 7 columns</p>\n</div>"
     },
     "metadata": {},
     "execution_count": 72
    }
   ],
   "source": [
    "# Imports Google sheet as pandas dataframe; 0 indicates first row/column\n",
    "results_new = pd.DataFrame(results_new[0:], columns=results_new[0])\n",
    "\n",
    "# The dataset contains all the games from the regular season\n",
    "# By default the first row will be considered as the header\n",
    "results_new"
   ]
  },
  {
   "cell_type": "code",
   "execution_count": 74,
   "metadata": {},
   "outputs": [],
   "source": [
    "# Fix the names of the columns for new dataset\n",
    "results_new.columns = [\"Date\", \"Visitor Team\", \"Visitor Goals\", \"Home Team\", \"Home Goals\", \"Game Finish\", \"Attendance\"]"
   ]
  },
  {
   "cell_type": "code",
   "execution_count": 75,
   "metadata": {},
   "outputs": [],
   "source": [
    "# Fills empty rows in 'Game Finish' column with NaN by adding in 'REG' for regulation win\n",
    "results_new[\"Game Finish\"] = results_new[\"Game Finish\"].replace(\"\", \"REG\")"
   ]
  },
  {
   "cell_type": "code",
   "execution_count": 76,
   "metadata": {},
   "outputs": [
    {
     "output_type": "execute_result",
     "data": {
      "text/plain": "            Date         Visitor Team  Visitor Goals             Home Team  \\\n0     2019-10-02    Vancouver Canucks              2       Edmonton Oilers   \n1     2019-10-02  Washington Capitals              3       St. Louis Blues   \n2     2019-10-02      Ottawa Senators              3   Toronto Maple Leafs   \n3     2019-10-02      San Jose Sharks              1  Vegas Golden Knights   \n4     2019-10-03      Arizona Coyotes              1         Anaheim Ducks   \n...          ...                  ...            ...                   ...   \n1077  2020-03-11      St. Louis Blues              4         Anaheim Ducks   \n1078  2020-03-11      San Jose Sharks              2    Chicago Blackhawks   \n1079  2020-03-11     New York Rangers              2    Colorado Avalanche   \n1080  2020-03-11        Winnipeg Jets              4       Edmonton Oilers   \n1081  2020-03-11      Ottawa Senators              2     Los Angeles Kings   \n\n      Home Goals Game Finish  Attendance  \n0              3         REG       18347  \n1              2          OT       18096  \n2              5         REG       19612  \n3              4         REG       18588  \n4              2         REG       17174  \n...          ...         ...         ...  \n1077           2         REG       16195  \n1078           6         REG       21275  \n1079           3          OT       18025  \n1080           2         REG       17165  \n1081           3         REG       12030  \n\n[1082 rows x 7 columns]",
      "text/html": "<div>\n<style scoped>\n    .dataframe tbody tr th:only-of-type {\n        vertical-align: middle;\n    }\n\n    .dataframe tbody tr th {\n        vertical-align: top;\n    }\n\n    .dataframe thead th {\n        text-align: right;\n    }\n</style>\n<table border=\"1\" class=\"dataframe\">\n  <thead>\n    <tr style=\"text-align: right;\">\n      <th></th>\n      <th>Date</th>\n      <th>Visitor Team</th>\n      <th>Visitor Goals</th>\n      <th>Home Team</th>\n      <th>Home Goals</th>\n      <th>Game Finish</th>\n      <th>Attendance</th>\n    </tr>\n  </thead>\n  <tbody>\n    <tr>\n      <th>0</th>\n      <td>2019-10-02</td>\n      <td>Vancouver Canucks</td>\n      <td>2</td>\n      <td>Edmonton Oilers</td>\n      <td>3</td>\n      <td>REG</td>\n      <td>18347</td>\n    </tr>\n    <tr>\n      <th>1</th>\n      <td>2019-10-02</td>\n      <td>Washington Capitals</td>\n      <td>3</td>\n      <td>St. Louis Blues</td>\n      <td>2</td>\n      <td>OT</td>\n      <td>18096</td>\n    </tr>\n    <tr>\n      <th>2</th>\n      <td>2019-10-02</td>\n      <td>Ottawa Senators</td>\n      <td>3</td>\n      <td>Toronto Maple Leafs</td>\n      <td>5</td>\n      <td>REG</td>\n      <td>19612</td>\n    </tr>\n    <tr>\n      <th>3</th>\n      <td>2019-10-02</td>\n      <td>San Jose Sharks</td>\n      <td>1</td>\n      <td>Vegas Golden Knights</td>\n      <td>4</td>\n      <td>REG</td>\n      <td>18588</td>\n    </tr>\n    <tr>\n      <th>4</th>\n      <td>2019-10-03</td>\n      <td>Arizona Coyotes</td>\n      <td>1</td>\n      <td>Anaheim Ducks</td>\n      <td>2</td>\n      <td>REG</td>\n      <td>17174</td>\n    </tr>\n    <tr>\n      <th>...</th>\n      <td>...</td>\n      <td>...</td>\n      <td>...</td>\n      <td>...</td>\n      <td>...</td>\n      <td>...</td>\n      <td>...</td>\n    </tr>\n    <tr>\n      <th>1077</th>\n      <td>2020-03-11</td>\n      <td>St. Louis Blues</td>\n      <td>4</td>\n      <td>Anaheim Ducks</td>\n      <td>2</td>\n      <td>REG</td>\n      <td>16195</td>\n    </tr>\n    <tr>\n      <th>1078</th>\n      <td>2020-03-11</td>\n      <td>San Jose Sharks</td>\n      <td>2</td>\n      <td>Chicago Blackhawks</td>\n      <td>6</td>\n      <td>REG</td>\n      <td>21275</td>\n    </tr>\n    <tr>\n      <th>1079</th>\n      <td>2020-03-11</td>\n      <td>New York Rangers</td>\n      <td>2</td>\n      <td>Colorado Avalanche</td>\n      <td>3</td>\n      <td>OT</td>\n      <td>18025</td>\n    </tr>\n    <tr>\n      <th>1080</th>\n      <td>2020-03-11</td>\n      <td>Winnipeg Jets</td>\n      <td>4</td>\n      <td>Edmonton Oilers</td>\n      <td>2</td>\n      <td>REG</td>\n      <td>17165</td>\n    </tr>\n    <tr>\n      <th>1081</th>\n      <td>2020-03-11</td>\n      <td>Ottawa Senators</td>\n      <td>2</td>\n      <td>Los Angeles Kings</td>\n      <td>3</td>\n      <td>REG</td>\n      <td>12030</td>\n    </tr>\n  </tbody>\n</table>\n<p>1082 rows × 7 columns</p>\n</div>"
     },
     "metadata": {},
     "execution_count": 76
    }
   ],
   "source": [
    "results_new"
   ]
  },
  {
   "cell_type": "code",
   "execution_count": 77,
   "metadata": {},
   "outputs": [],
   "source": [
    "# Create a new attribute called \"Home Win\" to show which team won that game for new dataset\n",
    "results_new[\"Home Win\"] = results_new[\"Visitor Goals\"] < results_new[\"Home Goals\"]"
   ]
  },
  {
   "cell_type": "code",
   "execution_count": 78,
   "metadata": {},
   "outputs": [],
   "source": [
    "# Create Home Last Win and Visitor Last Win\n",
    "results_new[\"Home Last Win\"] = False\n",
    "results_new[\"Visitor Last Win\"] = False\n",
    "\n",
    "won_last = defaultdict(int)\n",
    "\n",
    "for index, row in results_new.iterrows(): # for each row\n",
    "    home_team = row[\"Home Team\"]\n",
    "    visitor_team = row[\"Visitor Team\"]\n",
    "    row[\"Home Last Win\"] = won_last[home_team]\n",
    "    row[\"Visitor Last Win\"] = won_last[visitor_team]\n",
    "    results_new.loc[index] = row\n",
    "    # Set which team won\n",
    "    won_last[home_team] = row[\"Home Win\"] # set Home Last Win as True if \"Home Win\" is True\n",
    "    won_last[visitor_team] = not row[\"Home Win\"] # otherwise set \"Visitor Last Win\" as True"
   ]
  },
  {
   "cell_type": "code",
   "execution_count": 79,
   "metadata": {},
   "outputs": [],
   "source": [
    "# Set new win streak feature with a default value of 0 for new dataset\n",
    "results_new[\"Home Win Streak\"] = 0\n",
    "results_new[\"Visitor Win Streak\"] = 0\n",
    "\n",
    "from collections import defaultdict\n",
    "win_streak = defaultdict(int)\n",
    "\n",
    "for index, row in results_new.iterrows(): # Similar to before\n",
    "    home_team = row[\"Home Team\"]\n",
    "    visitor_team = row[\"Visitor Team\"]\n",
    "    row[\"Home Win Streak\"] = win_streak[home_team]\n",
    "    row[\"Visitor Win Streak\"] = win_streak[visitor_team]\n",
    "    results_new.loc[index] = row\n",
    "    \n",
    "    if row[\"Home Win\"]:\n",
    "        win_streak[home_team] += 1 # if \"Home Win\" is True, increase home_team by 1\n",
    "        win_streak[visitor_team] = 0\n",
    "    else:\n",
    "        win_streak[home_team] = 0\n",
    "        win_streak[visitor_team] += 1 # if \"Home Win\" is False, increase visitor_team by 1"
   ]
  },
  {
   "cell_type": "code",
   "execution_count": 80,
   "metadata": {},
   "outputs": [],
   "source": [
    "# Create Home Team Won Last feature\n",
    "last_match_winner = defaultdict(int)\n",
    "\n",
    "def home_team_won_last(row):\n",
    "    home_team = row[\"Home Team\"]\n",
    "    visitor_team = row[\"Visitor Team\"]\n",
    "    \n",
    "    # Sort team names for a consistent ordering (sorts by alphabetical order)\n",
    "    teams = tuple(sorted([home_team, visitor_team]))\n",
    "    \n",
    "    # If the home team won the previous game, the \"result\" will be 1\n",
    "    result = 1 if last_match_winner[teams] == row[\"Home Team\"] else 0\n",
    "    \n",
    "    # Update record for next encounter\n",
    "    winner = row[\"Home Team\"] if row[\"Home Win\"] else row[\"Visitor Team\"]\n",
    "    \n",
    "    last_match_winner[teams] = winner\n",
    "    return result\n",
    "\n",
    "results_new[\"Home Team Won Last\"] = results_new.apply(home_team_won_last, axis=1)"
   ]
  },
  {
   "cell_type": "code",
   "execution_count": 81,
   "metadata": {},
   "outputs": [
    {
     "output_type": "execute_result",
     "data": {
      "text/plain": "            Date         Visitor Team  Visitor Goals             Home Team  \\\n0     2019-10-02    Vancouver Canucks              2       Edmonton Oilers   \n1     2019-10-02  Washington Capitals              3       St. Louis Blues   \n2     2019-10-02      Ottawa Senators              3   Toronto Maple Leafs   \n3     2019-10-02      San Jose Sharks              1  Vegas Golden Knights   \n4     2019-10-03      Arizona Coyotes              1         Anaheim Ducks   \n...          ...                  ...            ...                   ...   \n1077  2020-03-11      St. Louis Blues              4         Anaheim Ducks   \n1078  2020-03-11      San Jose Sharks              2    Chicago Blackhawks   \n1079  2020-03-11     New York Rangers              2    Colorado Avalanche   \n1080  2020-03-11        Winnipeg Jets              4       Edmonton Oilers   \n1081  2020-03-11      Ottawa Senators              2     Los Angeles Kings   \n\n      Home Goals Game Finish  Attendance  Home Win Home Last Win  \\\n0              3         REG       18347      True             0   \n1              2          OT       18096     False             0   \n2              5         REG       19612      True             0   \n3              4         REG       18588      True             0   \n4              2         REG       17174      True             0   \n...          ...         ...         ...       ...           ...   \n1077           2         REG       16195     False          True   \n1078           6         REG       21275      True         False   \n1079           3          OT       18025      True         False   \n1080           2         REG       17165     False         False   \n1081           3         REG       12030      True          True   \n\n     Visitor Last Win  Home Win Streak  Visitor Win Streak  Home Team Won Last  \n0                   0                0                   0                   0  \n1                   0                0                   0                   0  \n2                   0                0                   0                   0  \n3                   0                0                   0                   0  \n4                   0                0                   0                   0  \n...               ...              ...                 ...                 ...  \n1077            False                1                   0                   0  \n1078            False                0                   0                   0  \n1079             True                0                   1                   0  \n1080             True                0                   3                   1  \n1081            False                6                   0                   0  \n\n[1082 rows x 13 columns]",
      "text/html": "<div>\n<style scoped>\n    .dataframe tbody tr th:only-of-type {\n        vertical-align: middle;\n    }\n\n    .dataframe tbody tr th {\n        vertical-align: top;\n    }\n\n    .dataframe thead th {\n        text-align: right;\n    }\n</style>\n<table border=\"1\" class=\"dataframe\">\n  <thead>\n    <tr style=\"text-align: right;\">\n      <th></th>\n      <th>Date</th>\n      <th>Visitor Team</th>\n      <th>Visitor Goals</th>\n      <th>Home Team</th>\n      <th>Home Goals</th>\n      <th>Game Finish</th>\n      <th>Attendance</th>\n      <th>Home Win</th>\n      <th>Home Last Win</th>\n      <th>Visitor Last Win</th>\n      <th>Home Win Streak</th>\n      <th>Visitor Win Streak</th>\n      <th>Home Team Won Last</th>\n    </tr>\n  </thead>\n  <tbody>\n    <tr>\n      <th>0</th>\n      <td>2019-10-02</td>\n      <td>Vancouver Canucks</td>\n      <td>2</td>\n      <td>Edmonton Oilers</td>\n      <td>3</td>\n      <td>REG</td>\n      <td>18347</td>\n      <td>True</td>\n      <td>0</td>\n      <td>0</td>\n      <td>0</td>\n      <td>0</td>\n      <td>0</td>\n    </tr>\n    <tr>\n      <th>1</th>\n      <td>2019-10-02</td>\n      <td>Washington Capitals</td>\n      <td>3</td>\n      <td>St. Louis Blues</td>\n      <td>2</td>\n      <td>OT</td>\n      <td>18096</td>\n      <td>False</td>\n      <td>0</td>\n      <td>0</td>\n      <td>0</td>\n      <td>0</td>\n      <td>0</td>\n    </tr>\n    <tr>\n      <th>2</th>\n      <td>2019-10-02</td>\n      <td>Ottawa Senators</td>\n      <td>3</td>\n      <td>Toronto Maple Leafs</td>\n      <td>5</td>\n      <td>REG</td>\n      <td>19612</td>\n      <td>True</td>\n      <td>0</td>\n      <td>0</td>\n      <td>0</td>\n      <td>0</td>\n      <td>0</td>\n    </tr>\n    <tr>\n      <th>3</th>\n      <td>2019-10-02</td>\n      <td>San Jose Sharks</td>\n      <td>1</td>\n      <td>Vegas Golden Knights</td>\n      <td>4</td>\n      <td>REG</td>\n      <td>18588</td>\n      <td>True</td>\n      <td>0</td>\n      <td>0</td>\n      <td>0</td>\n      <td>0</td>\n      <td>0</td>\n    </tr>\n    <tr>\n      <th>4</th>\n      <td>2019-10-03</td>\n      <td>Arizona Coyotes</td>\n      <td>1</td>\n      <td>Anaheim Ducks</td>\n      <td>2</td>\n      <td>REG</td>\n      <td>17174</td>\n      <td>True</td>\n      <td>0</td>\n      <td>0</td>\n      <td>0</td>\n      <td>0</td>\n      <td>0</td>\n    </tr>\n    <tr>\n      <th>...</th>\n      <td>...</td>\n      <td>...</td>\n      <td>...</td>\n      <td>...</td>\n      <td>...</td>\n      <td>...</td>\n      <td>...</td>\n      <td>...</td>\n      <td>...</td>\n      <td>...</td>\n      <td>...</td>\n      <td>...</td>\n      <td>...</td>\n    </tr>\n    <tr>\n      <th>1077</th>\n      <td>2020-03-11</td>\n      <td>St. Louis Blues</td>\n      <td>4</td>\n      <td>Anaheim Ducks</td>\n      <td>2</td>\n      <td>REG</td>\n      <td>16195</td>\n      <td>False</td>\n      <td>True</td>\n      <td>False</td>\n      <td>1</td>\n      <td>0</td>\n      <td>0</td>\n    </tr>\n    <tr>\n      <th>1078</th>\n      <td>2020-03-11</td>\n      <td>San Jose Sharks</td>\n      <td>2</td>\n      <td>Chicago Blackhawks</td>\n      <td>6</td>\n      <td>REG</td>\n      <td>21275</td>\n      <td>True</td>\n      <td>False</td>\n      <td>False</td>\n      <td>0</td>\n      <td>0</td>\n      <td>0</td>\n    </tr>\n    <tr>\n      <th>1079</th>\n      <td>2020-03-11</td>\n      <td>New York Rangers</td>\n      <td>2</td>\n      <td>Colorado Avalanche</td>\n      <td>3</td>\n      <td>OT</td>\n      <td>18025</td>\n      <td>True</td>\n      <td>False</td>\n      <td>True</td>\n      <td>0</td>\n      <td>1</td>\n      <td>0</td>\n    </tr>\n    <tr>\n      <th>1080</th>\n      <td>2020-03-11</td>\n      <td>Winnipeg Jets</td>\n      <td>4</td>\n      <td>Edmonton Oilers</td>\n      <td>2</td>\n      <td>REG</td>\n      <td>17165</td>\n      <td>False</td>\n      <td>False</td>\n      <td>True</td>\n      <td>0</td>\n      <td>3</td>\n      <td>1</td>\n    </tr>\n    <tr>\n      <th>1081</th>\n      <td>2020-03-11</td>\n      <td>Ottawa Senators</td>\n      <td>2</td>\n      <td>Los Angeles Kings</td>\n      <td>3</td>\n      <td>REG</td>\n      <td>12030</td>\n      <td>True</td>\n      <td>True</td>\n      <td>False</td>\n      <td>6</td>\n      <td>0</td>\n      <td>0</td>\n    </tr>\n  </tbody>\n</table>\n<p>1082 rows × 13 columns</p>\n</div>"
     },
     "metadata": {},
     "execution_count": 81
    }
   ],
   "source": [
    "results_new"
   ]
  },
  {
   "cell_type": "code",
   "execution_count": 82,
   "metadata": {},
   "outputs": [
    {
     "output_type": "execute_result",
     "data": {
      "text/plain": "<Worksheet '2019-20 Edited' id:669205449>"
     },
     "metadata": {},
     "execution_count": 82
    }
   ],
   "source": [
    "# Exports dataframe onto google sheets file\n",
    "spreadsheet_key = '1Pk9_A7RvpF2VgFVjUvIx5DapZAIf8NDoDm3zzw2xKNg' # from spreadsheet URL\n",
    "wks_name = '2019-20 Edited' # Creates new spreadsheet titled '2019-20 Edited'\n",
    "d2g.upload(results_new, spreadsheet_key, wks_name, credentials=creds, row_names=True)"
   ]
  },
  {
   "cell_type": "code",
   "execution_count": 83,
   "metadata": {},
   "outputs": [],
   "source": [
    "# Puts all needed features into one object\n",
    "X_needed_features_new = results_new[['Home Win Streak', 'Home Last Win', 'Home Team Won Last']]"
   ]
  },
  {
   "cell_type": "code",
   "execution_count": 84,
   "metadata": {},
   "outputs": [],
   "source": [
    "# Encoding new dataset\n",
    "from sklearn.preprocessing import LabelEncoder, OneHotEncoder\n",
    "home_teams_new = encoding.transform(results_new[\"Home Team\"].values)\n",
    "visitor_teams_new = encoding.transform(results_new[\"Visitor Team\"].values)\n",
    "X_teams_new = np.vstack([home_teams_new, visitor_teams_new]).T"
   ]
  },
  {
   "cell_type": "code",
   "execution_count": 85,
   "metadata": {},
   "outputs": [
    {
     "output_type": "execute_result",
     "data": {
      "text/plain": "(1082, 2)"
     },
     "metadata": {},
     "execution_count": 85
    }
   ],
   "source": [
    "X_teams_new.shape"
   ]
  },
  {
   "cell_type": "code",
   "execution_count": 86,
   "metadata": {},
   "outputs": [
    {
     "output_type": "execute_result",
     "data": {
      "text/plain": "(1082, 5)"
     },
     "metadata": {},
     "execution_count": 86
    }
   ],
   "source": [
    "# Combining everything\n",
    "X_all_new = np.hstack([X_needed_features_new, X_teams_new])\n",
    "X_all_new.shape"
   ]
  },
  {
   "cell_type": "markdown",
   "metadata": {},
   "source": [
    "<h2> 2019-2020 Season Baseline <h2>"
   ]
  },
  {
   "cell_type": "code",
   "execution_count": 87,
   "metadata": {},
   "outputs": [],
   "source": [
    "y_true_new = results_new[\"Home Win\"].values"
   ]
  },
  {
   "cell_type": "code",
   "execution_count": 86,
   "metadata": {},
   "outputs": [
    {
     "output_type": "execute_result",
     "data": {
      "text/plain": "(1082,)"
     },
     "metadata": {},
     "execution_count": 86
    }
   ],
   "source": [
    "y_true_new.shape"
   ]
  },
  {
   "cell_type": "code",
   "execution_count": 88,
   "metadata": {
    "tags": []
   },
   "outputs": [
    {
     "output_type": "stream",
     "name": "stdout",
     "text": "Home team wins 53.33% of matches\nF1 Score: 0.3709\n              precision    recall  f1-score   support\n\n       False       0.00      0.00      0.00       505\n        True       0.53      1.00      0.70       577\n\n    accuracy                           0.53      1082\n   macro avg       0.27      0.50      0.35      1082\nweighted avg       0.28      0.53      0.37      1082\n\n"
    }
   ],
   "source": [
    "print(\"Home team wins {:.2f}% of matches\".format(100*np.mean(y_true_new)))\n",
    "y_pred = [1] * len(y_true_new)\n",
    "print(\"F1 Score: {:.4f}\".format(f1_score(y_true_new, y_pred, pos_label=None, average='weighted')))\n",
    "print(classification_report(y_true_new, y_pred))"
   ]
  },
  {
   "cell_type": "markdown",
   "metadata": {},
   "source": [
    "The baseline F1 score for the 2019-2020 regular season is 0.3709. The preferred model, which uses the adaptive boosting algorithm, must have a higher F1 score than 0.3709."
   ]
  },
  {
   "cell_type": "markdown",
   "metadata": {},
   "source": [
    "<h2> Implementing the Preferred Model from the Previous Season <h2>"
   ]
  },
  {
   "cell_type": "code",
   "execution_count": 98,
   "metadata": {},
   "outputs": [],
   "source": [
    "# Using the pickled model to predict the new season results\n",
    "infile = open(filename, 'rb')\n",
    "model = pickle.load(infile) # Loads classficiation model from 'model' file into object called model \n",
    "y_pred = model.predict(X_all_new)"
   ]
  },
  {
   "cell_type": "code",
   "execution_count": 99,
   "metadata": {
    "tags": []
   },
   "outputs": [
    {
     "output_type": "stream",
     "name": "stdout",
     "text": "precision    recall  f1-score   support\n\n       False       0.48      0.92      0.63       505\n        True       0.64      0.13      0.21       577\n\n    accuracy                           0.50      1082\n   macro avg       0.56      0.52      0.42      1082\nweighted avg       0.57      0.50      0.41      1082\n\n"
    }
   ],
   "source": [
    "print(classification_report(y_true_new, y_pred))"
   ]
  },
  {
   "cell_type": "code",
   "execution_count": 100,
   "metadata": {
    "tags": []
   },
   "outputs": [
    {
     "output_type": "stream",
     "name": "stdout",
     "text": "This results in getting 49.6% of predictions correct!\n"
    }
   ],
   "source": [
    "print(\"This results in getting {:.1f}% of predictions correct!\".format(100*np.mean(y_pred == y_true_new)))"
   ]
  },
  {
   "cell_type": "code",
   "execution_count": 101,
   "metadata": {},
   "outputs": [],
   "source": [
    "infile.close()"
   ]
  },
  {
   "cell_type": "markdown",
   "metadata": {},
   "source": [
    "<h2> Data Preparation for Tableau <h2>"
   ]
  },
  {
   "cell_type": "code",
   "execution_count": 91,
   "metadata": {},
   "outputs": [],
   "source": [
    "# To use 1 core core in the cpu\n",
    "n_jobs=1"
   ]
  },
  {
   "cell_type": "code",
   "execution_count": null,
   "metadata": {},
   "outputs": [],
   "source": [
    "import numpy as np\n",
    "import pandas as pd"
   ]
  },
  {
   "source": [
    "<h3> Importing and Combining all regular season worksheets into a single pandas dataframe <h3>"
   ],
   "cell_type": "markdown",
   "metadata": {}
  },
  {
   "cell_type": "code",
   "execution_count": 156,
   "metadata": {},
   "outputs": [],
   "source": [
    "df = pd.read_excel('D:/NHL/NHL_Season_Data.xlsx', sheet_name=None)"
   ]
  },
  {
   "cell_type": "code",
   "execution_count": 157,
   "metadata": {},
   "outputs": [
    {
     "output_type": "execute_result",
     "data": {
      "text/plain": "dict_keys(['2014-15', '2015-16', '2016-17', '2017-18', '2018-19', '2019-20'])"
     },
     "metadata": {},
     "execution_count": 157
    }
   ],
   "source": [
    "# Lists all worksheets in the excel file\n",
    "df.keys()"
   ]
  },
  {
   "cell_type": "code",
   "execution_count": 178,
   "metadata": {},
   "outputs": [],
   "source": [
    "# Adds 'Season' column to each worksheet as the first column to the left and fills downs with the respective season\n",
    "df['2014-15'].insert(0,'Season', '2014-15')\n",
    "df['2015-16'].insert(0,'Season', '2015-16')\n",
    "df['2016-17'].insert(0,'Season', '2016-17')\n",
    "df['2017-18'].insert(0,'Season', '2017-18')\n",
    "df['2018-19'].insert(0,'Season', '2018-19')\n",
    "df['2019-20'].insert(0,'Season', '2019-20')"
   ]
  },
  {
   "cell_type": "code",
   "execution_count": 180,
   "metadata": {},
   "outputs": [],
   "source": [
    "# File containing all individual regular season data being combined\n",
    "df_ = pd.concat(df, ignore_index=True)"
   ]
  },
  {
   "cell_type": "code",
   "execution_count": 181,
   "metadata": {},
   "outputs": [],
   "source": [
    "# Drops 'LOG' and 'Notes' columns\n",
    "df_ = df_.drop(['LOG', 'Notes'], axis=1)"
   ]
  },
  {
   "cell_type": "code",
   "execution_count": 184,
   "metadata": {},
   "outputs": [],
   "source": [
    "# Fix the names of the columns; Index will be named to be droped in the next line\n",
    "df_.columns = [\"Season\", \"Date\", \"Visitor Team\", \"Visitor Goals\", \"Home Team\", \"Home Goals\", \"Game Finish\", \"Attendance\"]\n",
    "\n",
    "# Fills empty rows in 'Game Finish' column with NaN by adding in 'REG' for regulation win\n",
    "df_[\"Game Finish\"] = df_[\"Game Finish\"].fillna('REG')"
   ]
  },
  {
   "cell_type": "code",
   "execution_count": 185,
   "metadata": {},
   "outputs": [
    {
     "output_type": "execute_result",
     "data": {
      "text/plain": "       Season       Date         Visitor Team  Visitor Goals  \\\n0     2014-15 2014-10-08  Philadelphia Flyers              1   \n1     2014-15 2014-10-08    Vancouver Canucks              4   \n2     2014-15 2014-10-08      San Jose Sharks              4   \n3     2014-15 2014-10-08   Montreal Canadiens              4   \n4     2014-15 2014-10-09        Winnipeg Jets              6   \n...       ...        ...                  ...            ...   \n7309  2019-20 2020-03-11      St. Louis Blues              4   \n7310  2019-20 2020-03-11      San Jose Sharks              2   \n7311  2019-20 2020-03-11     New York Rangers              2   \n7312  2019-20 2020-03-11        Winnipeg Jets              4   \n7313  2019-20 2020-03-11      Ottawa Senators              2   \n\n                Home Team  Home Goals Game Finish  Attendance  \n0           Boston Bruins           2         REG       17565  \n1          Calgary Flames           2         REG       19289  \n2       Los Angeles Kings           0         REG       18514  \n3     Toronto Maple Leafs           3         REG       19745  \n4         Arizona Coyotes           2         REG       17125  \n...                   ...         ...         ...         ...  \n7309        Anaheim Ducks           2         REG       16195  \n7310   Chicago Blackhawks           6         REG       21275  \n7311   Colorado Avalanche           3          OT       18025  \n7312      Edmonton Oilers           2         REG       17165  \n7313    Los Angeles Kings           3         REG       12030  \n\n[7314 rows x 8 columns]",
      "text/html": "<div>\n<style scoped>\n    .dataframe tbody tr th:only-of-type {\n        vertical-align: middle;\n    }\n\n    .dataframe tbody tr th {\n        vertical-align: top;\n    }\n\n    .dataframe thead th {\n        text-align: right;\n    }\n</style>\n<table border=\"1\" class=\"dataframe\">\n  <thead>\n    <tr style=\"text-align: right;\">\n      <th></th>\n      <th>Season</th>\n      <th>Date</th>\n      <th>Visitor Team</th>\n      <th>Visitor Goals</th>\n      <th>Home Team</th>\n      <th>Home Goals</th>\n      <th>Game Finish</th>\n      <th>Attendance</th>\n    </tr>\n  </thead>\n  <tbody>\n    <tr>\n      <th>0</th>\n      <td>2014-15</td>\n      <td>2014-10-08</td>\n      <td>Philadelphia Flyers</td>\n      <td>1</td>\n      <td>Boston Bruins</td>\n      <td>2</td>\n      <td>REG</td>\n      <td>17565</td>\n    </tr>\n    <tr>\n      <th>1</th>\n      <td>2014-15</td>\n      <td>2014-10-08</td>\n      <td>Vancouver Canucks</td>\n      <td>4</td>\n      <td>Calgary Flames</td>\n      <td>2</td>\n      <td>REG</td>\n      <td>19289</td>\n    </tr>\n    <tr>\n      <th>2</th>\n      <td>2014-15</td>\n      <td>2014-10-08</td>\n      <td>San Jose Sharks</td>\n      <td>4</td>\n      <td>Los Angeles Kings</td>\n      <td>0</td>\n      <td>REG</td>\n      <td>18514</td>\n    </tr>\n    <tr>\n      <th>3</th>\n      <td>2014-15</td>\n      <td>2014-10-08</td>\n      <td>Montreal Canadiens</td>\n      <td>4</td>\n      <td>Toronto Maple Leafs</td>\n      <td>3</td>\n      <td>REG</td>\n      <td>19745</td>\n    </tr>\n    <tr>\n      <th>4</th>\n      <td>2014-15</td>\n      <td>2014-10-09</td>\n      <td>Winnipeg Jets</td>\n      <td>6</td>\n      <td>Arizona Coyotes</td>\n      <td>2</td>\n      <td>REG</td>\n      <td>17125</td>\n    </tr>\n    <tr>\n      <th>...</th>\n      <td>...</td>\n      <td>...</td>\n      <td>...</td>\n      <td>...</td>\n      <td>...</td>\n      <td>...</td>\n      <td>...</td>\n      <td>...</td>\n    </tr>\n    <tr>\n      <th>7309</th>\n      <td>2019-20</td>\n      <td>2020-03-11</td>\n      <td>St. Louis Blues</td>\n      <td>4</td>\n      <td>Anaheim Ducks</td>\n      <td>2</td>\n      <td>REG</td>\n      <td>16195</td>\n    </tr>\n    <tr>\n      <th>7310</th>\n      <td>2019-20</td>\n      <td>2020-03-11</td>\n      <td>San Jose Sharks</td>\n      <td>2</td>\n      <td>Chicago Blackhawks</td>\n      <td>6</td>\n      <td>REG</td>\n      <td>21275</td>\n    </tr>\n    <tr>\n      <th>7311</th>\n      <td>2019-20</td>\n      <td>2020-03-11</td>\n      <td>New York Rangers</td>\n      <td>2</td>\n      <td>Colorado Avalanche</td>\n      <td>3</td>\n      <td>OT</td>\n      <td>18025</td>\n    </tr>\n    <tr>\n      <th>7312</th>\n      <td>2019-20</td>\n      <td>2020-03-11</td>\n      <td>Winnipeg Jets</td>\n      <td>4</td>\n      <td>Edmonton Oilers</td>\n      <td>2</td>\n      <td>REG</td>\n      <td>17165</td>\n    </tr>\n    <tr>\n      <th>7313</th>\n      <td>2019-20</td>\n      <td>2020-03-11</td>\n      <td>Ottawa Senators</td>\n      <td>2</td>\n      <td>Los Angeles Kings</td>\n      <td>3</td>\n      <td>REG</td>\n      <td>12030</td>\n    </tr>\n  </tbody>\n</table>\n<p>7314 rows × 8 columns</p>\n</div>"
     },
     "metadata": {},
     "execution_count": 185
    }
   ],
   "source": [
    "df_"
   ]
  },
  {
   "cell_type": "code",
   "execution_count": 186,
   "metadata": {},
   "outputs": [
    {
     "output_type": "execute_result",
     "data": {
      "text/plain": "<Worksheet 'All_Regular_Season_Data' id:968914752>"
     },
     "metadata": {},
     "execution_count": 186
    }
   ],
   "source": [
    "# Exports dataframe onto google sheets file\n",
    "spreadsheet_key = '1Pk9_A7RvpF2VgFVjUvIx5DapZAIf8NDoDm3zzw2xKNg' # from spreadsheet URL\n",
    "wks_name = 'All_Regular_Season_Data' # Creates new spreadsheet titled 'All_Regular_Season_Data'\n",
    "d2g.upload(df_, spreadsheet_key, wks_name, credentials=creds, row_names=True)"
   ]
  },
  {
   "source": [
    "<h3> Import Regular Season Data <h3>"
   ],
   "cell_type": "markdown",
   "metadata": {}
  },
  {
   "cell_type": "code",
   "execution_count": 200,
   "metadata": {},
   "outputs": [],
   "source": [
    "# Imports new dataset for 2019-2020 regular season\n",
    "# Note this season ended in March due to COVID-19, so dataset size is less.\n",
    "sheet3 = client.open(\"NHL_Data\").worksheet('All_Regular_Season_Data') # Indicates the worksheet name to be opened\n",
    "\n",
    "df_ = sheet3.get_all_records()\n",
    "\n",
    "# Imports Google sheet as pandas dataframe; 0 indicates first row/column\n",
    "df_ = pd.DataFrame(df_[0:], columns=df_[0])"
   ]
  },
  {
   "source": [
    "<h3> Feature enginneering for season data input <h3>"
   ],
   "cell_type": "markdown",
   "metadata": {}
  },
  {
   "cell_type": "code",
   "execution_count": 203,
   "metadata": {},
   "outputs": [],
   "source": [
    "# Create a new attribute called \"Home Win\" to show if the home team won the game\n",
    "df_[\"Home Win\"] = df_[\"Visitor Goals\"] < df_[\"Home Goals\"]"
   ]
  },
  {
   "cell_type": "code",
   "execution_count": 204,
   "metadata": {},
   "outputs": [],
   "source": [
    "# Create Home Last Win and Visitor Last Win\n",
    "df_[\"Home Last Win\"] = False\n",
    "df_[\"Visitor Last Win\"] = False\n",
    "\n",
    "won_last = defaultdict(int)\n",
    "\n",
    "for index, row in df_.iterrows(): # for each row\n",
    "    home_team = row[\"Home Team\"]\n",
    "    visitor_team = row[\"Visitor Team\"]\n",
    "    row[\"Home Last Win\"] = won_last[home_team]\n",
    "    row[\"Visitor Last Win\"] = won_last[visitor_team]\n",
    "    df_.loc[index] = row\n",
    "    # Set which team won\n",
    "    won_last[home_team] = row[\"Home Win\"] # set Home Last Win as True if \"Home Win\" is True\n",
    "    won_last[visitor_team] = not row[\"Home Win\"] # otherwise set \"Visitor Last Win\" as True"
   ]
  },
  {
   "cell_type": "code",
   "execution_count": 205,
   "metadata": {},
   "outputs": [],
   "source": [
    "# Set new win streak feature with a default value of 0 for new dataset\n",
    "df_[\"Home Win Streak\"] = 0\n",
    "df_[\"Visitor Win Streak\"] = 0\n",
    "\n",
    "from collections import defaultdict\n",
    "win_streak = defaultdict(int)\n",
    "\n",
    "for index, row in df_.iterrows(): # Similar to before\n",
    "    home_team = row[\"Home Team\"]\n",
    "    visitor_team = row[\"Visitor Team\"]\n",
    "    row[\"Home Win Streak\"] = win_streak[home_team]\n",
    "    row[\"Visitor Win Streak\"] = win_streak[visitor_team]\n",
    "    df_.loc[index] = row\n",
    "    \n",
    "    if row[\"Home Win\"]:\n",
    "        win_streak[home_team] += 1 # if \"Home Win\" is True, increase home_team by 1\n",
    "        win_streak[visitor_team] = 0\n",
    "    else:\n",
    "        win_streak[home_team] = 0\n",
    "        win_streak[visitor_team] += 1 # if \"Home Win\" is False, increase visitor_team by 1"
   ]
  },
  {
   "cell_type": "code",
   "execution_count": 208,
   "metadata": {},
   "outputs": [],
   "source": [
    "# Create Home Team Won Last feature\n",
    "last_match_winner = defaultdict(int)\n",
    "\n",
    "def home_team_won_last(row):\n",
    "    home_team = row[\"Home Team\"]\n",
    "    visitor_team = row[\"Visitor Team\"]\n",
    "    \n",
    "    # Sort team names for a consistent ordering (sorts by alphabetical order)\n",
    "    teams = tuple(sorted([home_team, visitor_team]))\n",
    "    \n",
    "    # If the home team won the previous game, the \"result\" will be 1\n",
    "    result = 1 if last_match_winner[teams] == row[\"Home Team\"] else 0\n",
    "    \n",
    "    # Update record for next encounter\n",
    "    winner = row[\"Home Team\"] if row[\"Home Win\"] else row[\"Visitor Team\"]\n",
    "    \n",
    "    last_match_winner[teams] = winner\n",
    "    return result\n",
    "\n",
    "df_[\"Home Team Won Last\"] = df_.apply(home_team_won_last, axis=1)"
   ]
  },
  {
   "cell_type": "code",
   "execution_count": 209,
   "metadata": {},
   "outputs": [
    {
     "output_type": "execute_result",
     "data": {
      "text/plain": "             Season                 Date         Visitor Team  Visitor Goals  \\\n0        0  2014-15  2014-10-08 00:00:00  Philadelphia Flyers              1   \n1        1  2014-15  2014-10-08 00:00:00    Vancouver Canucks              4   \n2        2  2014-15  2014-10-08 00:00:00      San Jose Sharks              4   \n3        3  2014-15  2014-10-08 00:00:00   Montreal Canadiens              4   \n4        4  2014-15  2014-10-09 00:00:00        Winnipeg Jets              6   \n...    ...      ...                  ...                  ...            ...   \n7309  7309  2019-20  2020-03-11 00:00:00      St. Louis Blues              4   \n7310  7310  2019-20  2020-03-11 00:00:00      San Jose Sharks              2   \n7311  7311  2019-20  2020-03-11 00:00:00     New York Rangers              2   \n7312  7312  2019-20  2020-03-11 00:00:00        Winnipeg Jets              4   \n7313  7313  2019-20  2020-03-11 00:00:00      Ottawa Senators              2   \n\n                Home Team  Home Goals Game Finish  Attendance  Home Win  \\\n0           Boston Bruins           2         REG       17565      True   \n1          Calgary Flames           2         REG       19289     False   \n2       Los Angeles Kings           0         REG       18514     False   \n3     Toronto Maple Leafs           3         REG       19745     False   \n4         Arizona Coyotes           2         REG       17125     False   \n...                   ...         ...         ...         ...       ...   \n7309        Anaheim Ducks           2         REG       16195     False   \n7310   Chicago Blackhawks           6         REG       21275      True   \n7311   Colorado Avalanche           3          OT       18025      True   \n7312      Edmonton Oilers           2         REG       17165     False   \n7313    Los Angeles Kings           3         REG       12030      True   \n\n     Home Last Win Visitor Last Win  Home Win Streak  Visitor Win Streak  \\\n0                0                0                0                   0   \n1                0                0                0                   0   \n2                0                0                0                   0   \n3                0                0                0                   0   \n4                0                0                0                   0   \n...            ...              ...              ...                 ...   \n7309          True            False                1                   0   \n7310         False            False                0                   0   \n7311         False             True                0                   1   \n7312         False             True                0                   3   \n7313          True            False                6                   0   \n\n      Home Team Won Last  \n0                      0  \n1                      0  \n2                      0  \n3                      0  \n4                      0  \n...                  ...  \n7309                   0  \n7310                   0  \n7311                   0  \n7312                   1  \n7313                   0  \n\n[7314 rows x 15 columns]",
      "text/html": "<div>\n<style scoped>\n    .dataframe tbody tr th:only-of-type {\n        vertical-align: middle;\n    }\n\n    .dataframe tbody tr th {\n        vertical-align: top;\n    }\n\n    .dataframe thead th {\n        text-align: right;\n    }\n</style>\n<table border=\"1\" class=\"dataframe\">\n  <thead>\n    <tr style=\"text-align: right;\">\n      <th></th>\n      <th></th>\n      <th>Season</th>\n      <th>Date</th>\n      <th>Visitor Team</th>\n      <th>Visitor Goals</th>\n      <th>Home Team</th>\n      <th>Home Goals</th>\n      <th>Game Finish</th>\n      <th>Attendance</th>\n      <th>Home Win</th>\n      <th>Home Last Win</th>\n      <th>Visitor Last Win</th>\n      <th>Home Win Streak</th>\n      <th>Visitor Win Streak</th>\n      <th>Home Team Won Last</th>\n    </tr>\n  </thead>\n  <tbody>\n    <tr>\n      <th>0</th>\n      <td>0</td>\n      <td>2014-15</td>\n      <td>2014-10-08 00:00:00</td>\n      <td>Philadelphia Flyers</td>\n      <td>1</td>\n      <td>Boston Bruins</td>\n      <td>2</td>\n      <td>REG</td>\n      <td>17565</td>\n      <td>True</td>\n      <td>0</td>\n      <td>0</td>\n      <td>0</td>\n      <td>0</td>\n      <td>0</td>\n    </tr>\n    <tr>\n      <th>1</th>\n      <td>1</td>\n      <td>2014-15</td>\n      <td>2014-10-08 00:00:00</td>\n      <td>Vancouver Canucks</td>\n      <td>4</td>\n      <td>Calgary Flames</td>\n      <td>2</td>\n      <td>REG</td>\n      <td>19289</td>\n      <td>False</td>\n      <td>0</td>\n      <td>0</td>\n      <td>0</td>\n      <td>0</td>\n      <td>0</td>\n    </tr>\n    <tr>\n      <th>2</th>\n      <td>2</td>\n      <td>2014-15</td>\n      <td>2014-10-08 00:00:00</td>\n      <td>San Jose Sharks</td>\n      <td>4</td>\n      <td>Los Angeles Kings</td>\n      <td>0</td>\n      <td>REG</td>\n      <td>18514</td>\n      <td>False</td>\n      <td>0</td>\n      <td>0</td>\n      <td>0</td>\n      <td>0</td>\n      <td>0</td>\n    </tr>\n    <tr>\n      <th>3</th>\n      <td>3</td>\n      <td>2014-15</td>\n      <td>2014-10-08 00:00:00</td>\n      <td>Montreal Canadiens</td>\n      <td>4</td>\n      <td>Toronto Maple Leafs</td>\n      <td>3</td>\n      <td>REG</td>\n      <td>19745</td>\n      <td>False</td>\n      <td>0</td>\n      <td>0</td>\n      <td>0</td>\n      <td>0</td>\n      <td>0</td>\n    </tr>\n    <tr>\n      <th>4</th>\n      <td>4</td>\n      <td>2014-15</td>\n      <td>2014-10-09 00:00:00</td>\n      <td>Winnipeg Jets</td>\n      <td>6</td>\n      <td>Arizona Coyotes</td>\n      <td>2</td>\n      <td>REG</td>\n      <td>17125</td>\n      <td>False</td>\n      <td>0</td>\n      <td>0</td>\n      <td>0</td>\n      <td>0</td>\n      <td>0</td>\n    </tr>\n    <tr>\n      <th>...</th>\n      <td>...</td>\n      <td>...</td>\n      <td>...</td>\n      <td>...</td>\n      <td>...</td>\n      <td>...</td>\n      <td>...</td>\n      <td>...</td>\n      <td>...</td>\n      <td>...</td>\n      <td>...</td>\n      <td>...</td>\n      <td>...</td>\n      <td>...</td>\n      <td>...</td>\n    </tr>\n    <tr>\n      <th>7309</th>\n      <td>7309</td>\n      <td>2019-20</td>\n      <td>2020-03-11 00:00:00</td>\n      <td>St. Louis Blues</td>\n      <td>4</td>\n      <td>Anaheim Ducks</td>\n      <td>2</td>\n      <td>REG</td>\n      <td>16195</td>\n      <td>False</td>\n      <td>True</td>\n      <td>False</td>\n      <td>1</td>\n      <td>0</td>\n      <td>0</td>\n    </tr>\n    <tr>\n      <th>7310</th>\n      <td>7310</td>\n      <td>2019-20</td>\n      <td>2020-03-11 00:00:00</td>\n      <td>San Jose Sharks</td>\n      <td>2</td>\n      <td>Chicago Blackhawks</td>\n      <td>6</td>\n      <td>REG</td>\n      <td>21275</td>\n      <td>True</td>\n      <td>False</td>\n      <td>False</td>\n      <td>0</td>\n      <td>0</td>\n      <td>0</td>\n    </tr>\n    <tr>\n      <th>7311</th>\n      <td>7311</td>\n      <td>2019-20</td>\n      <td>2020-03-11 00:00:00</td>\n      <td>New York Rangers</td>\n      <td>2</td>\n      <td>Colorado Avalanche</td>\n      <td>3</td>\n      <td>OT</td>\n      <td>18025</td>\n      <td>True</td>\n      <td>False</td>\n      <td>True</td>\n      <td>0</td>\n      <td>1</td>\n      <td>0</td>\n    </tr>\n    <tr>\n      <th>7312</th>\n      <td>7312</td>\n      <td>2019-20</td>\n      <td>2020-03-11 00:00:00</td>\n      <td>Winnipeg Jets</td>\n      <td>4</td>\n      <td>Edmonton Oilers</td>\n      <td>2</td>\n      <td>REG</td>\n      <td>17165</td>\n      <td>False</td>\n      <td>False</td>\n      <td>True</td>\n      <td>0</td>\n      <td>3</td>\n      <td>1</td>\n    </tr>\n    <tr>\n      <th>7313</th>\n      <td>7313</td>\n      <td>2019-20</td>\n      <td>2020-03-11 00:00:00</td>\n      <td>Ottawa Senators</td>\n      <td>2</td>\n      <td>Los Angeles Kings</td>\n      <td>3</td>\n      <td>REG</td>\n      <td>12030</td>\n      <td>True</td>\n      <td>True</td>\n      <td>False</td>\n      <td>6</td>\n      <td>0</td>\n      <td>0</td>\n    </tr>\n  </tbody>\n</table>\n<p>7314 rows × 15 columns</p>\n</div>"
     },
     "metadata": {},
     "execution_count": 209
    }
   ],
   "source": [
    "df_"
   ]
  },
  {
   "source": [
    "<h3> Saving the edited dataframe onto Google Sheets <h3>"
   ],
   "cell_type": "markdown",
   "metadata": {}
  },
  {
   "cell_type": "code",
   "execution_count": 210,
   "metadata": {},
   "outputs": [
    {
     "output_type": "execute_result",
     "data": {
      "text/plain": "<Worksheet 'All_Regular_Season_Data_Edited' id:285888167>"
     },
     "metadata": {},
     "execution_count": 210
    }
   ],
   "source": [
    "# Exports dataframe onto google sheets file\n",
    "spreadsheet_key = '1Pk9_A7RvpF2VgFVjUvIx5DapZAIf8NDoDm3zzw2xKNg' # from spreadsheet URL\n",
    "wks_name = 'All_Regular_Season_Data_Edited' # Creates new spreadsheet titled '2019-20 Edited'\n",
    "d2g.upload(df_, spreadsheet_key, wks_name, credentials=creds, row_names=True)"
   ]
  }
 ]
}